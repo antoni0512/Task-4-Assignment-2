{
 "cells": [
  {
   "cell_type": "markdown",
   "metadata": {},
   "source": [
    "# Numpy\n",
    "\n"
   ]
  },
  {
   "cell_type": "markdown",
   "metadata": {},
   "source": [
    "#### 1. Import the numpy package under the name `np` (★☆☆) \n",
    "(**hint**: import … as …)"
   ]
  },
  {
   "cell_type": "code",
   "execution_count": 3,
   "metadata": {},
   "outputs": [],
   "source": [
    "import numpy as np"
   ]
  },
  {
   "cell_type": "markdown",
   "metadata": {},
   "source": [
    "#### 2. Print the numpy version and the configuration (★☆☆) \n",
    "(**hint**: np.\\_\\_version\\_\\_, np.show\\_config)"
   ]
  },
  {
   "cell_type": "code",
   "execution_count": 4,
   "metadata": {},
   "outputs": [
    {
     "name": "stdout",
     "output_type": "stream",
     "text": [
      "1.19.5\n",
      "blas_mkl_info:\n",
      "  NOT AVAILABLE\n",
      "blis_info:\n",
      "  NOT AVAILABLE\n",
      "openblas_info:\n",
      "    library_dirs = ['D:\\\\a\\\\1\\\\s\\\\numpy\\\\build\\\\openblas_info']\n",
      "    libraries = ['openblas_info']\n",
      "    language = f77\n",
      "    define_macros = [('HAVE_CBLAS', None)]\n",
      "blas_opt_info:\n",
      "    library_dirs = ['D:\\\\a\\\\1\\\\s\\\\numpy\\\\build\\\\openblas_info']\n",
      "    libraries = ['openblas_info']\n",
      "    language = f77\n",
      "    define_macros = [('HAVE_CBLAS', None)]\n",
      "lapack_mkl_info:\n",
      "  NOT AVAILABLE\n",
      "openblas_lapack_info:\n",
      "    library_dirs = ['D:\\\\a\\\\1\\\\s\\\\numpy\\\\build\\\\openblas_lapack_info']\n",
      "    libraries = ['openblas_lapack_info']\n",
      "    language = f77\n",
      "    define_macros = [('HAVE_CBLAS', None)]\n",
      "lapack_opt_info:\n",
      "    library_dirs = ['D:\\\\a\\\\1\\\\s\\\\numpy\\\\build\\\\openblas_lapack_info']\n",
      "    libraries = ['openblas_lapack_info']\n",
      "    language = f77\n",
      "    define_macros = [('HAVE_CBLAS', None)]\n",
      "None\n"
     ]
    }
   ],
   "source": [
    "print(np.__version__)\n",
    "print(np.show_config())"
   ]
  },
  {
   "cell_type": "markdown",
   "metadata": {},
   "source": [
    "#### 3. Create a null vector of size 10 (★☆☆) \n",
    "(**hint**: np.zeros)"
   ]
  },
  {
   "cell_type": "code",
   "execution_count": 5,
   "metadata": {},
   "outputs": [
    {
     "name": "stdout",
     "output_type": "stream",
     "text": [
      "[0. 0. 0. 0. 0. 0. 0. 0. 0. 0.]\n"
     ]
    }
   ],
   "source": [
    "x = np.zeros(10)\n",
    "print(x)"
   ]
  },
  {
   "cell_type": "markdown",
   "metadata": {},
   "source": [
    "#### 4.  How to find the memory size of any array (★☆☆) \n",
    "(**hint**: size, itemsize)"
   ]
  },
  {
   "cell_type": "code",
   "execution_count": 6,
   "metadata": {},
   "outputs": [
    {
     "name": "stdout",
     "output_type": "stream",
     "text": [
      "10\n",
      "8\n",
      "80\n"
     ]
    }
   ],
   "source": [
    "print(x.size)\n",
    "print(x.itemsize)\n",
    "print(x.size * x.itemsize)"
   ]
  },
  {
   "cell_type": "markdown",
   "metadata": {},
   "source": [
    "#### 5.  How to get the documentation of the numpy add function from the command line? (★☆☆) \n",
    "(**hint**: np.info)"
   ]
  },
  {
   "cell_type": "code",
   "execution_count": 7,
   "metadata": {},
   "outputs": [
    {
     "name": "stdout",
     "output_type": "stream",
     "text": [
      " info(object=None, maxwidth=76,\n",
      "      output=<ipykernel.iostream.OutStream object at 0x00000237AAB6DB80>,\n",
      "      toplevel='numpy')\n",
      "\n",
      "Get help information for a function, class, or module.\n",
      "\n",
      "Parameters\n",
      "----------\n",
      "object : object or str, optional\n",
      "    Input object or name to get information about. If `object` is a\n",
      "    numpy object, its docstring is given. If it is a string, available\n",
      "    modules are searched for matching objects.  If None, information\n",
      "    about `info` itself is returned.\n",
      "maxwidth : int, optional\n",
      "    Printing width.\n",
      "output : file like object, optional\n",
      "    File like object that the output is written to, default is\n",
      "    ``stdout``.  The object has to be opened in 'w' or 'a' mode.\n",
      "toplevel : str, optional\n",
      "    Start search at this level.\n",
      "\n",
      "See Also\n",
      "--------\n",
      "source, lookfor\n",
      "\n",
      "Notes\n",
      "-----\n",
      "When used interactively with an object, ``np.info(obj)`` is equivalent\n",
      "to ``help(obj)`` on the Python prompt or ``obj?`` on the IPython\n",
      "prompt.\n",
      "\n",
      "Examples\n",
      "--------\n",
      ">>> np.info(np.polyval) # doctest: +SKIP\n",
      "   polyval(p, x)\n",
      "     Evaluate the polynomial p at x.\n",
      "     ...\n",
      "\n",
      "When using a string for `object` it is possible to get multiple results.\n",
      "\n",
      ">>> np.info('fft') # doctest: +SKIP\n",
      "     *** Found in numpy ***\n",
      "Core FFT routines\n",
      "...\n",
      "     *** Found in numpy.fft ***\n",
      " fft(a, n=None, axis=-1)\n",
      "...\n",
      "     *** Repeat reference found in numpy.fft.fftpack ***\n",
      "     *** Total of 3 references found. ***\n"
     ]
    }
   ],
   "source": [
    "np.info()"
   ]
  },
  {
   "cell_type": "markdown",
   "metadata": {},
   "source": [
    "#### 6.  Create a null vector of size 10 but the fifth value which is 1 (★☆☆) \n",
    "(**hint**: array\\[4\\])"
   ]
  },
  {
   "cell_type": "code",
   "execution_count": 8,
   "metadata": {},
   "outputs": [
    {
     "name": "stdout",
     "output_type": "stream",
     "text": [
      "[0. 0. 0. 0. 1. 0. 0. 0. 0. 0.]\n"
     ]
    }
   ],
   "source": [
    "x = np.zeros(10)\n",
    "x[4] = 1\n",
    "print(x)"
   ]
  },
  {
   "cell_type": "markdown",
   "metadata": {},
   "source": [
    "#### 7.  Create a vector with values ranging from 10 to 49 (★☆☆) \n",
    "(**hint**: np.arange)"
   ]
  },
  {
   "cell_type": "code",
   "execution_count": 9,
   "metadata": {},
   "outputs": [
    {
     "data": {
      "text/plain": [
       "array([10, 11, 12, 13, 14, 15, 16, 17, 18, 19, 20, 21, 22, 23, 24, 25, 26,\n",
       "       27, 28, 29, 30, 31, 32, 33, 34, 35, 36, 37, 38, 39, 40, 41, 42, 43,\n",
       "       44, 45, 46, 47, 48])"
      ]
     },
     "execution_count": 9,
     "metadata": {},
     "output_type": "execute_result"
    }
   ],
   "source": [
    "y = np.arange(start=10,stop=49)\n",
    "y"
   ]
  },
  {
   "cell_type": "markdown",
   "metadata": {},
   "source": [
    "#### 8.  Reverse a vector (first element becomes last) (★☆☆) \n",
    "(**hint**: array\\[::-1\\])"
   ]
  },
  {
   "cell_type": "code",
   "execution_count": 10,
   "metadata": {},
   "outputs": [
    {
     "name": "stdout",
     "output_type": "stream",
     "text": [
      "[48 47 46 45 44 43 42 41 40 39 38 37 36 35 34 33 32 31 30 29 28 27 26 25\n",
      " 24 23 22 21 20 19 18 17 16 15 14 13 12 11 10]\n"
     ]
    }
   ],
   "source": [
    "rev = y[::-1]\n",
    "print(rev)"
   ]
  },
  {
   "cell_type": "markdown",
   "metadata": {},
   "source": [
    "#### 9.  Create a 3x3 matrix with values ranging from 0 to 8 (★☆☆) \n",
    "(**hint**: reshape)"
   ]
  },
  {
   "cell_type": "code",
   "execution_count": 11,
   "metadata": {},
   "outputs": [
    {
     "name": "stdout",
     "output_type": "stream",
     "text": [
      "[[0 1 2]\n",
      " [3 4 5]\n",
      " [6 7 8]]\n"
     ]
    }
   ],
   "source": [
    "re_shape = np.arange(9).reshape(3,3)\n",
    "print(re_shape)"
   ]
  },
  {
   "cell_type": "markdown",
   "metadata": {},
   "source": [
    "#### 10. Find indices of non-zero elements from \\[1,2,0,0,4,0\\] (★☆☆) \n",
    "(**hint**: np.nonzero)"
   ]
  },
  {
   "cell_type": "code",
   "execution_count": 12,
   "metadata": {},
   "outputs": [
    {
     "data": {
      "text/plain": [
       "(array([0, 1, 4], dtype=int64),)"
      ]
     },
     "execution_count": 12,
     "metadata": {},
     "output_type": "execute_result"
    }
   ],
   "source": [
    "non_zero = [1,2,0,0,4,0]\n",
    "np.nonzero(non_zero)"
   ]
  },
  {
   "cell_type": "markdown",
   "metadata": {},
   "source": [
    "#### 11. Create a 3x3 identity matrix (★☆☆) \n",
    "(**hint**: np.eye)"
   ]
  },
  {
   "cell_type": "code",
   "execution_count": 13,
   "metadata": {},
   "outputs": [
    {
     "name": "stdout",
     "output_type": "stream",
     "text": [
      "[[1. 0. 0.]\n",
      " [0. 1. 0.]\n",
      " [0. 0. 1.]]\n"
     ]
    }
   ],
   "source": [
    "identy_matrix = np.eye(3)\n",
    "print(identy_matrix)"
   ]
  },
  {
   "cell_type": "markdown",
   "metadata": {},
   "source": [
    "#### 12. Create a 3x3x3 array with random values (★☆☆) \n",
    "(**hint**: np.random.random)"
   ]
  },
  {
   "cell_type": "code",
   "execution_count": 14,
   "metadata": {},
   "outputs": [
    {
     "name": "stdout",
     "output_type": "stream",
     "text": [
      "[[[0.28353205 0.84464523 0.81714729]\n",
      "  [0.83836088 0.97753012 0.78580434]\n",
      "  [0.74688198 0.36651086 0.73290682]]\n",
      "\n",
      " [[0.45342606 0.75620865 0.31742331]\n",
      "  [0.28254719 0.04798065 0.03993006]\n",
      "  [0.27486896 0.30821291 0.70927541]]\n",
      "\n",
      " [[0.39177674 0.64898427 0.78400026]\n",
      "  [0.39925206 0.63913044 0.84314544]\n",
      "  [0.96302469 0.52321291 0.3381831 ]]]\n"
     ]
    }
   ],
   "source": [
    "random_values = np.random.random((3,3,3))\n",
    "print(random_values)"
   ]
  },
  {
   "cell_type": "markdown",
   "metadata": {},
   "source": [
    "#### 13. Create a 10x10 array with random values and find the minimum and maximum values (★☆☆) \n",
    "(**hint**: min, max)"
   ]
  },
  {
   "cell_type": "code",
   "execution_count": 15,
   "metadata": {},
   "outputs": [
    {
     "name": "stdout",
     "output_type": "stream",
     "text": [
      "0.9515682845714786\n",
      "0.008398374118742447\n"
     ]
    }
   ],
   "source": [
    "random_matrix_array = np.random.rand(10,10)\n",
    "max_element = np.max(random_matrix_array)\n",
    "min_element = np.min(random_matrix_array)\n",
    "print(max_element)\n",
    "print(min_element)"
   ]
  },
  {
   "cell_type": "markdown",
   "metadata": {},
   "source": [
    "#### 14. Create a random vector of size 30 and find the mean value (★☆☆) \n",
    "(**hint**: mean)"
   ]
  },
  {
   "cell_type": "code",
   "execution_count": 16,
   "metadata": {},
   "outputs": [
    {
     "data": {
      "text/plain": [
       "0.5012331882973589"
      ]
     },
     "execution_count": 16,
     "metadata": {},
     "output_type": "execute_result"
    }
   ],
   "source": [
    "random_vector = np.random.random(30)\n",
    "mean_vector = np.mean(random_vector)\n",
    "mean_vector"
   ]
  },
  {
   "cell_type": "markdown",
   "metadata": {},
   "source": [
    "#### 15. Create a 2d array with 1 on the border and 0 inside (★☆☆) \n",
    "(**hint**: array\\[1:-1, 1:-1\\])"
   ]
  },
  {
   "cell_type": "code",
   "execution_count": 17,
   "metadata": {},
   "outputs": [
    {
     "name": "stdout",
     "output_type": "stream",
     "text": [
      "[[1. 1. 1. 1. 1.]\n",
      " [1. 0. 0. 0. 1.]\n",
      " [1. 0. 0. 0. 1.]\n",
      " [1. 0. 0. 0. 1.]\n",
      " [1. 1. 1. 1. 1.]]\n"
     ]
    }
   ],
   "source": [
    "border_array = np.ones((5,5))\n",
    "border_array[1:-1,1:-1] = 0\n",
    "print(border_array)"
   ]
  },
  {
   "cell_type": "markdown",
   "metadata": {},
   "source": [
    "#### 16. How to add a border (filled with 0's) around an existing array? (★☆☆) \n",
    "(**hint**: np.pad)"
   ]
  },
  {
   "cell_type": "code",
   "execution_count": 18,
   "metadata": {},
   "outputs": [
    {
     "name": "stdout",
     "output_type": "stream",
     "text": [
      "[[0. 0. 0. 0. 0. 0. 0.]\n",
      " [0. 1. 1. 1. 1. 1. 0.]\n",
      " [0. 1. 0. 0. 0. 1. 0.]\n",
      " [0. 1. 0. 0. 0. 1. 0.]\n",
      " [0. 1. 0. 0. 0. 1. 0.]\n",
      " [0. 1. 1. 1. 1. 1. 0.]\n",
      " [0. 0. 0. 0. 0. 0. 0.]]\n"
     ]
    }
   ],
   "source": [
    "border_array = np.pad(border_array, pad_width=1,mode='constant',constant_values=0)\n",
    "print(border_array)"
   ]
  },
  {
   "cell_type": "markdown",
   "metadata": {},
   "source": [
    "#### 17. What is the result of the following expression? (★☆☆) \n",
    "(**hint**: NaN = not a number, inf = infinity)"
   ]
  },
  {
   "cell_type": "markdown",
   "metadata": {},
   "source": [
    "```python\n",
    "0 * np.nan\n",
    "np.nan == np.nan\n",
    "np.inf > np.nan\n",
    "np.nan - np.nan\n",
    "0.3 == 3 * 0.1\n",
    "```"
   ]
  },
  {
   "cell_type": "code",
   "execution_count": 19,
   "metadata": {},
   "outputs": [
    {
     "name": "stdout",
     "output_type": "stream",
     "text": [
      "nan\n",
      "False\n",
      "False\n",
      "nan\n",
      "False\n"
     ]
    }
   ],
   "source": [
    "print(0 * np.nan)\n",
    "print(np.nan == np.nan)\n",
    "print(np.inf > np.nan)\n",
    "print(np.nan - np.nan)\n",
    "print(0.3 == 3 * 0.1)"
   ]
  },
  {
   "cell_type": "markdown",
   "metadata": {},
   "source": [
    "#### 18. Create a 5x5 matrix with values 1,2,3,4 just below the diagonal (★☆☆) \n",
    "(**hint**: np.diag)"
   ]
  },
  {
   "cell_type": "code",
   "execution_count": 20,
   "metadata": {},
   "outputs": [
    {
     "name": "stdout",
     "output_type": "stream",
     "text": [
      "[[1 0 0 0]\n",
      " [0 2 0 0]\n",
      " [0 0 3 0]\n",
      " [0 0 0 4]]\n"
     ]
    }
   ],
   "source": [
    "x = np.diag([1,2,3,4])\n",
    "print(x)"
   ]
  },
  {
   "cell_type": "markdown",
   "metadata": {},
   "source": [
    "#### 19. Create a 8x8 matrix and fill it with a checkerboard pattern (★☆☆) \n",
    "(**hint**: array\\[::2\\])"
   ]
  },
  {
   "cell_type": "code",
   "execution_count": 21,
   "metadata": {},
   "outputs": [
    {
     "name": "stdout",
     "output_type": "stream",
     "text": [
      "[[0 1 0 1 0 1 0 1]\n",
      " [1 0 1 0 1 0 1 0]\n",
      " [0 1 0 1 0 1 0 1]\n",
      " [1 0 1 0 1 0 1 0]\n",
      " [0 1 0 1 0 1 0 1]\n",
      " [1 0 1 0 1 0 1 0]\n",
      " [0 1 0 1 0 1 0 1]\n",
      " [1 0 1 0 1 0 1 0]]\n"
     ]
    }
   ],
   "source": [
    "x = np.zeros((8,8),dtype=int)\n",
    "x[1::2,::2] = 1\n",
    "x[::2,1::2] = 1\n",
    "print(x)"
   ]
  },
  {
   "cell_type": "markdown",
   "metadata": {},
   "source": [
    "#### 20. Consider a (6,7,8) shape array, what is the index (x,y,z) of the 100th element? \n",
    "(**hint**: np.unravel_index)"
   ]
  },
  {
   "cell_type": "code",
   "execution_count": 22,
   "metadata": {},
   "outputs": [
    {
     "name": "stdout",
     "output_type": "stream",
     "text": [
      "(1, 5, 4)\n"
     ]
    }
   ],
   "source": [
    "print(np.unravel_index(100,(6,7,8)))"
   ]
  },
  {
   "cell_type": "markdown",
   "metadata": {},
   "source": [
    "#### 21. Create a checkerboard 8x8 matrix using the tile function (★☆☆) \n",
    "(**hint**: np.tile)"
   ]
  },
  {
   "cell_type": "code",
   "execution_count": 23,
   "metadata": {},
   "outputs": [
    {
     "data": {
      "text/plain": [
       "array([[1, 2, 1, 2, 1, 2, 1, 2, 1, 2, 1, 2, 1, 2, 1, 2],\n",
       "       [3, 4, 3, 4, 3, 4, 3, 4, 3, 4, 3, 4, 3, 4, 3, 4],\n",
       "       [1, 2, 1, 2, 1, 2, 1, 2, 1, 2, 1, 2, 1, 2, 1, 2],\n",
       "       [3, 4, 3, 4, 3, 4, 3, 4, 3, 4, 3, 4, 3, 4, 3, 4],\n",
       "       [1, 2, 1, 2, 1, 2, 1, 2, 1, 2, 1, 2, 1, 2, 1, 2],\n",
       "       [3, 4, 3, 4, 3, 4, 3, 4, 3, 4, 3, 4, 3, 4, 3, 4],\n",
       "       [1, 2, 1, 2, 1, 2, 1, 2, 1, 2, 1, 2, 1, 2, 1, 2],\n",
       "       [3, 4, 3, 4, 3, 4, 3, 4, 3, 4, 3, 4, 3, 4, 3, 4],\n",
       "       [1, 2, 1, 2, 1, 2, 1, 2, 1, 2, 1, 2, 1, 2, 1, 2],\n",
       "       [3, 4, 3, 4, 3, 4, 3, 4, 3, 4, 3, 4, 3, 4, 3, 4],\n",
       "       [1, 2, 1, 2, 1, 2, 1, 2, 1, 2, 1, 2, 1, 2, 1, 2],\n",
       "       [3, 4, 3, 4, 3, 4, 3, 4, 3, 4, 3, 4, 3, 4, 3, 4],\n",
       "       [1, 2, 1, 2, 1, 2, 1, 2, 1, 2, 1, 2, 1, 2, 1, 2],\n",
       "       [3, 4, 3, 4, 3, 4, 3, 4, 3, 4, 3, 4, 3, 4, 3, 4],\n",
       "       [1, 2, 1, 2, 1, 2, 1, 2, 1, 2, 1, 2, 1, 2, 1, 2],\n",
       "       [3, 4, 3, 4, 3, 4, 3, 4, 3, 4, 3, 4, 3, 4, 3, 4]])"
      ]
     },
     "execution_count": 23,
     "metadata": {},
     "output_type": "execute_result"
    }
   ],
   "source": [
    "a= np.array([[1,2],[3,4]])\n",
    "np.tile(a,(8,8))"
   ]
  },
  {
   "cell_type": "markdown",
   "metadata": {},
   "source": [
    "#### 22. Normalize a 5x5 random matrix (★☆☆) \n",
    "(**hint**: (x - min) / (max - min))"
   ]
  },
  {
   "cell_type": "code",
   "execution_count": 24,
   "metadata": {},
   "outputs": [
    {
     "name": "stdout",
     "output_type": "stream",
     "text": [
      "[[0.91169325 0.04583011 1.         0.09385891 0.63559101]\n",
      " [0.3944466  0.18073497 0.35376589 0.0720686  0.87521095]\n",
      " [0.         0.61268283 0.99019085 0.4716984  0.75102062]\n",
      " [0.83500786 0.08834373 0.3806918  0.1174822  0.47005933]\n",
      " [0.1467091  0.65338798 0.57576685 0.59984591 0.64069519]]\n"
     ]
    }
   ],
   "source": [
    "z = np.random.random((5,5))\n",
    "zmax, zmin = z.max(),z.min()\n",
    "z = (z - zmin) / (zmax - zmin)\n",
    "print(z)"
   ]
  },
  {
   "cell_type": "markdown",
   "metadata": {},
   "source": [
    "#### 23. Create a custom dtype that describes a color as four unsigned bytes (RGBA) (★☆☆) \n",
    "(**hint**: np.dtype)"
   ]
  },
  {
   "cell_type": "code",
   "execution_count": 25,
   "metadata": {},
   "outputs": [
    {
     "name": "stderr",
     "output_type": "stream",
     "text": [
      "<ipython-input-25-8a679fadaa00>:1: FutureWarning: Passing (type, 1) or '1type' as a synonym of type is deprecated; in a future version of numpy, it will be understood as (type, (1,)) / '(1,)type'.\n",
      "  color = np.dtype([(\"r\",np.ubyte,1),(\"g\",np.ubyte,1),(\"b\",np.ubyte,1),(\"a\",np.ubyte,1)])\n"
     ]
    }
   ],
   "source": [
    "color = np.dtype([(\"r\",np.ubyte,1),(\"g\",np.ubyte,1),(\"b\",np.ubyte,1),(\"a\",np.ubyte,1)])"
   ]
  },
  {
   "cell_type": "markdown",
   "metadata": {},
   "source": [
    "#### 24. Multiply a 5x3 matrix by a 3x2 matrix (real matrix product) (★☆☆) \n",
    "(**hint**: np.dot | @)"
   ]
  },
  {
   "cell_type": "code",
   "execution_count": 26,
   "metadata": {},
   "outputs": [
    {
     "name": "stdout",
     "output_type": "stream",
     "text": [
      "[[1.3803856  0.22704235]\n",
      " [0.57430415 0.11139542]\n",
      " [0.28919461 0.04322069]\n",
      " [1.01515327 0.10827293]\n",
      " [1.67802565 0.35038677]]\n"
     ]
    }
   ],
   "source": [
    "x = np.random.random((5,3))\n",
    "y = np.random.random((3,2))\n",
    "z = np.dot(x,y)\n",
    "print(z)"
   ]
  },
  {
   "cell_type": "markdown",
   "metadata": {},
   "source": [
    "#### 25. Given a 1D array, negate all elements which are between 3 and 8, in place. (★☆☆) \n",
    "(**hint**: >, <=)"
   ]
  },
  {
   "cell_type": "code",
   "execution_count": 27,
   "metadata": {},
   "outputs": [
    {
     "name": "stdout",
     "output_type": "stream",
     "text": [
      "[ 0  1  2  3  4  5  6  7  8  9 10]\n",
      "[ 0  1  2  3 -4 -5 -6 -7  8  9 10]\n"
     ]
    }
   ],
   "source": [
    "arr = np.arange(11)\n",
    "print(arr)\n",
    "m = (arr > 3) & (arr < 8)\n",
    "arr[m] *= -1\n",
    "print(arr)"
   ]
  },
  {
   "cell_type": "markdown",
   "metadata": {},
   "source": [
    "#### 26. What is the output of the following script? (★☆☆) \n",
    "(**hint**: np.sum)"
   ]
  },
  {
   "cell_type": "markdown",
   "metadata": {},
   "source": [
    "```python\n",
    "# Author: Jake VanderPlas\n",
    "\n",
    "print(sum(range(5),-1))\n",
    "from numpy import *\n",
    "print(sum(range(5),-1))\n",
    "```"
   ]
  },
  {
   "cell_type": "code",
   "execution_count": 28,
   "metadata": {},
   "outputs": [
    {
     "name": "stdout",
     "output_type": "stream",
     "text": [
      "10\n",
      "10\n"
     ]
    }
   ],
   "source": [
    "print(np.sum(range(5),-1))\n",
    "from numpy import *\n",
    "print(np.sum(range(5),-1))"
   ]
  },
  {
   "cell_type": "markdown",
   "metadata": {},
   "source": [
    "#### 27. Consider an integer vector Z, which of these expressions are legal? (★☆☆)"
   ]
  },
  {
   "cell_type": "markdown",
   "metadata": {},
   "source": [
    "```python\n",
    "Z**Z\n",
    "2 << Z >> 2\n",
    "Z <- Z\n",
    "1j*Z\n",
    "Z/1/1\n",
    "Z<Z>Z\n",
    "```"
   ]
  },
  {
   "cell_type": "code",
   "execution_count": 29,
   "metadata": {},
   "outputs": [
    {
     "name": "stdout",
     "output_type": "stream",
     "text": [
      "3125\n",
      "16\n",
      "False\n",
      "5j\n",
      "5.0\n",
      "False\n"
     ]
    }
   ],
   "source": [
    "Z = 5\n",
    "print(Z**Z)\n",
    "print(2 << Z >> 2)\n",
    "print(Z <- Z)\n",
    "print(1j*Z)\n",
    "print(Z/1/1)\n",
    "print(Z<Z>Z)"
   ]
  },
  {
   "cell_type": "markdown",
   "metadata": {},
   "source": [
    "#### 28. What are the result of the following expressions?"
   ]
  },
  {
   "cell_type": "markdown",
   "metadata": {},
   "source": [
    "```python\n",
    "np.array(0) / np.array(0)\n",
    "np.array(0) // np.array(0)\n",
    "np.array([np.nan]).astype(int).astype(float)\n",
    "```"
   ]
  },
  {
   "cell_type": "code",
   "execution_count": 30,
   "metadata": {},
   "outputs": [
    {
     "name": "stdout",
     "output_type": "stream",
     "text": [
      "nan\n",
      "0\n",
      "[-2.14748365e+09]\n"
     ]
    },
    {
     "name": "stderr",
     "output_type": "stream",
     "text": [
      "<ipython-input-30-2a10de0ee61b>:1: RuntimeWarning: invalid value encountered in true_divide\n",
      "  print(np.array(0) / np.array(0))\n",
      "<ipython-input-30-2a10de0ee61b>:2: RuntimeWarning: divide by zero encountered in floor_divide\n",
      "  print(np.array(0) // np.array(0))\n"
     ]
    }
   ],
   "source": [
    "print(np.array(0) / np.array(0))\n",
    "print(np.array(0) // np.array(0))\n",
    "print(np.array([np.nan]).astype(int).astype(float))"
   ]
  },
  {
   "cell_type": "markdown",
   "metadata": {},
   "source": [
    "#### 29. How to round away from zero a float array ? (★☆☆) \n",
    "(**hint**: np.uniform, np.copysign, np.ceil, np.abs)"
   ]
  },
  {
   "cell_type": "code",
   "execution_count": 31,
   "metadata": {},
   "outputs": [
    {
     "name": "stdout",
     "output_type": "stream",
     "text": [
      "[  8.   8.  -3.   3.   5.  10.   2.  -7. -10.  -9.]\n"
     ]
    }
   ],
   "source": [
    "X = np.random.uniform(-10,+10,10)\n",
    "print(np.copysign(np.ceil(np.abs(X)), X))"
   ]
  },
  {
   "cell_type": "markdown",
   "metadata": {},
   "source": [
    "#### 30. How to find common values between two arrays? (★☆☆) \n",
    "(**hint**: np.intersect1d)"
   ]
  },
  {
   "cell_type": "code",
   "execution_count": 32,
   "metadata": {},
   "outputs": [
    {
     "name": "stdout",
     "output_type": "stream",
     "text": [
      "[1 2 4]\n"
     ]
    }
   ],
   "source": [
    "arr1 = np.array([1,1,2,3,4])\n",
    "arr2 = np.array([2,1,4,5])\n",
    "common_value = np.intersect1d(arr1,arr2)\n",
    "print(common_value)"
   ]
  },
  {
   "cell_type": "markdown",
   "metadata": {},
   "source": [
    "#### 31. How to ignore all numpy warnings (not recommended)? (★☆☆) \n",
    "(**hint**: np.seterr, np.errstate)"
   ]
  },
  {
   "cell_type": "code",
   "execution_count": 33,
   "metadata": {},
   "outputs": [],
   "source": [
    "defaults = np.seterr(all='ignore')\n",
    "Z = np.ones(1) / 0\n",
    "Y = np.seterr(**defaults)\n",
    "\n",
    "with np.errstate(divide='ignore'):\n",
    "    Z = np.ones(1) / 0"
   ]
  },
  {
   "cell_type": "markdown",
   "metadata": {},
   "source": [
    "#### 32. Is the following expressions true? (★☆☆) \n",
    "(**hint**: imaginary number)"
   ]
  },
  {
   "cell_type": "markdown",
   "metadata": {},
   "source": [
    "```python\n",
    "np.sqrt(-1) == np.emath.sqrt(-1)\n",
    "```"
   ]
  },
  {
   "cell_type": "code",
   "execution_count": 34,
   "metadata": {},
   "outputs": [
    {
     "name": "stdout",
     "output_type": "stream",
     "text": [
      "False\n"
     ]
    },
    {
     "name": "stderr",
     "output_type": "stream",
     "text": [
      "<ipython-input-34-c6ff0ad7fd7b>:1: RuntimeWarning: invalid value encountered in sqrt\n",
      "  print(np.sqrt(-1) == np.emath.sqrt(-1))\n"
     ]
    }
   ],
   "source": [
    "print(np.sqrt(-1) == np.emath.sqrt(-1))"
   ]
  },
  {
   "cell_type": "markdown",
   "metadata": {},
   "source": [
    "#### 33. How to get the dates of yesterday, today and tomorrow? (★☆☆) \n",
    "(**hint**: np.datetime64, np.timedelta64)"
   ]
  },
  {
   "cell_type": "code",
   "execution_count": 35,
   "metadata": {},
   "outputs": [
    {
     "name": "stdout",
     "output_type": "stream",
     "text": [
      "Yesterday:  2021-06-29\n",
      "Today:  2021-06-30\n",
      "Tomorrow:  2021-07-01\n"
     ]
    }
   ],
   "source": [
    "yesterday = np.datetime64('today','D') - np.timedelta64(1,'D')\n",
    "print(\"Yesterday: \",yesterday)\n",
    "today = np.datetime64('today','D')\n",
    "print(\"Today: \",today)\n",
    "tomorrow = np.datetime64('today','D') + np.timedelta64(1,'D')\n",
    "print(\"Tomorrow: \",tomorrow)"
   ]
  },
  {
   "cell_type": "markdown",
   "metadata": {},
   "source": [
    "#### 34. How to get all the dates corresponding to the month of July 2016? (★★☆) \n",
    "(**hint**: np.arange(dtype=datetime64\\['D'\\]))"
   ]
  },
  {
   "cell_type": "code",
   "execution_count": 36,
   "metadata": {},
   "outputs": [
    {
     "name": "stdout",
     "output_type": "stream",
     "text": [
      "['2016-07-01' '2016-07-02' '2016-07-03' ... '2020-05-29' '2020-05-30'\n",
      " '2020-05-31']\n"
     ]
    }
   ],
   "source": [
    "print(np.arange('2016-07','2020-06',dtype='datetime64[D]'))"
   ]
  },
  {
   "cell_type": "markdown",
   "metadata": {},
   "source": [
    "#### 35. How to compute ((A+B)\\*(-A/2)) in place (without copy)? (★★☆) \n",
    "(**hint**: np.add(out=), np.negative(out=), np.multiply(out=), np.divide(out=))"
   ]
  },
  {
   "cell_type": "code",
   "execution_count": 37,
   "metadata": {},
   "outputs": [
    {
     "data": {
      "text/plain": [
       "array([-1.5, -1.5, -1.5])"
      ]
     },
     "execution_count": 37,
     "metadata": {},
     "output_type": "execute_result"
    }
   ],
   "source": [
    "A = np.ones(3)*1\n",
    "B = np.ones(3)*2\n",
    "C = np.ones(3)*3\n",
    "np.add(A,B,out=B)\n",
    "np.divide(A,2,out=A)\n",
    "np.negative(A,out=A)\n",
    "np.multiply(A,B,out=A)"
   ]
  },
  {
   "cell_type": "markdown",
   "metadata": {},
   "source": [
    "#### 36. Extract the integer part of a random array using 5 different methods (★★☆) \n",
    "(**hint**: %, np.floor, np.ceil, astype, np.trunc)"
   ]
  },
  {
   "cell_type": "code",
   "execution_count": 38,
   "metadata": {},
   "outputs": [
    {
     "name": "stdout",
     "output_type": "stream",
     "text": [
      "[1. 2. 5. 2. 8. 8. 0. 3. 3. 1.]\n",
      "[1. 2. 5. 2. 8. 8. 0. 3. 3. 1.]\n",
      "[1. 2. 5. 2. 8. 8. 0. 3. 3. 1.]\n",
      "[1 2 5 2 8 8 0 3 3 1]\n",
      "[1. 2. 5. 2. 8. 8. 0. 3. 3. 1.]\n"
     ]
    }
   ],
   "source": [
    "Z = np.random.uniform(0,10,10)\n",
    "print(Z - Z%1)\n",
    "print(np.floor(Z))\n",
    "print(np.ceil(Z) - 1)\n",
    "print(Z.astype(int))\n",
    "print(np.trunc(Z))"
   ]
  },
  {
   "cell_type": "markdown",
   "metadata": {},
   "source": [
    "#### 37. Create a 5x5 matrix with row values ranging from 0 to 4 (★★☆) \n",
    "(**hint**: np.arange)"
   ]
  },
  {
   "cell_type": "code",
   "execution_count": 39,
   "metadata": {},
   "outputs": [
    {
     "name": "stdout",
     "output_type": "stream",
     "text": [
      "[[0. 1. 2. 3. 4.]\n",
      " [0. 1. 2. 3. 4.]\n",
      " [0. 1. 2. 3. 4.]\n",
      " [0. 1. 2. 3. 4.]\n",
      " [0. 1. 2. 3. 4.]]\n"
     ]
    }
   ],
   "source": [
    "X = np.zeros((5,5))\n",
    "X += np.arange(5)\n",
    "print(X)"
   ]
  },
  {
   "cell_type": "markdown",
   "metadata": {},
   "source": [
    "#### 38. Consider a generator function that generates 10 integers and use it to build an array (★☆☆) \n",
    "(**hint**: np.fromiter)"
   ]
  },
  {
   "cell_type": "code",
   "execution_count": 40,
   "metadata": {},
   "outputs": [
    {
     "name": "stdout",
     "output_type": "stream",
     "text": [
      "[0. 1. 2. 3. 4.]\n"
     ]
    }
   ],
   "source": [
    "list = np.arange(5)\n",
    "iterate = iter(list)\n",
    "x = np.fromiter(iterate,dtype=float)\n",
    "print(x)"
   ]
  },
  {
   "cell_type": "markdown",
   "metadata": {},
   "source": [
    "#### 39. Create a vector of size 10 with values ranging from 0 to 1, both excluded (★★☆) \n",
    "(**hint**: np.linspace)"
   ]
  },
  {
   "cell_type": "code",
   "execution_count": 41,
   "metadata": {},
   "outputs": [
    {
     "data": {
      "text/plain": [
       "array([0.        , 0.11111111, 0.22222222, 0.33333333, 0.44444444,\n",
       "       0.55555556, 0.66666667, 0.77777778, 0.88888889, 1.        ])"
      ]
     },
     "execution_count": 41,
     "metadata": {},
     "output_type": "execute_result"
    }
   ],
   "source": [
    "np.linspace(start=0,stop=1,num=10)"
   ]
  },
  {
   "cell_type": "markdown",
   "metadata": {},
   "source": [
    "#### 40. Create a random vector of size 10 and sort it (★★☆) \n",
    "(**hint**: sort)"
   ]
  },
  {
   "cell_type": "code",
   "execution_count": 42,
   "metadata": {},
   "outputs": [
    {
     "name": "stdout",
     "output_type": "stream",
     "text": [
      "[0.94407617 0.07544722 0.19369867 0.29180088 0.60579587 0.76175453\n",
      " 0.16809696 0.65782937 0.08043102 0.12170137]\n",
      "[0.07544722 0.08043102 0.12170137 0.16809696 0.19369867 0.29180088\n",
      " 0.60579587 0.65782937 0.76175453 0.94407617]\n"
     ]
    }
   ],
   "source": [
    "x = np.random.random(10)\n",
    "print(x)\n",
    "x.sort()\n",
    "print(x)"
   ]
  },
  {
   "cell_type": "markdown",
   "metadata": {},
   "source": [
    "#### 41. How to sum a small array faster than np.sum? (★★☆) \n",
    "(**hint**: np.add.reduce)"
   ]
  },
  {
   "cell_type": "code",
   "execution_count": 43,
   "metadata": {},
   "outputs": [
    {
     "data": {
      "text/plain": [
       "45"
      ]
     },
     "execution_count": 43,
     "metadata": {},
     "output_type": "execute_result"
    }
   ],
   "source": [
    "X = np.arange(10)\n",
    "np.add.reduce(X)"
   ]
  },
  {
   "cell_type": "markdown",
   "metadata": {},
   "source": [
    "#### 42. Consider two random array A and B, check if they are equal (★★☆) \n",
    "(**hint**: np.allclose, np.array\\_equal)"
   ]
  },
  {
   "cell_type": "code",
   "execution_count": 44,
   "metadata": {},
   "outputs": [
    {
     "name": "stdout",
     "output_type": "stream",
     "text": [
      "False\n",
      "False\n"
     ]
    }
   ],
   "source": [
    "x = np.random.randint(0,2,6)\n",
    "y = np.random.randint(0,2,6)\n",
    "array_equal = np.allclose(x,y)\n",
    "print(array_equal)\n",
    "all_close = np.array_equal(x,y)\n",
    "print(all_close)"
   ]
  },
  {
   "cell_type": "markdown",
   "metadata": {},
   "source": [
    "#### 43. Make an array immutable (read-only) (★★☆) \n",
    "(**hint**: flags.writeable)"
   ]
  },
  {
   "cell_type": "code",
   "execution_count": 45,
   "metadata": {},
   "outputs": [
    {
     "name": "stdout",
     "output_type": "stream",
     "text": [
      "[0. 0. 0. 0. 0. 0. 0. 0. 0. 0. 0.]\n",
      "[0. 2. 0. 0. 0. 0. 0. 0. 0. 0. 0.]\n"
     ]
    },
    {
     "ename": "ValueError",
     "evalue": "assignment destination is read-only",
     "output_type": "error",
     "traceback": [
      "\u001b[1;31m---------------------------------------------------------------------------\u001b[0m",
      "\u001b[1;31mValueError\u001b[0m                                Traceback (most recent call last)",
      "\u001b[1;32m<ipython-input-45-1e09ecad61d8>\u001b[0m in \u001b[0;36m<module>\u001b[1;34m\u001b[0m\n\u001b[0;32m      4\u001b[0m \u001b[0mprint\u001b[0m\u001b[1;33m(\u001b[0m\u001b[0ma\u001b[0m\u001b[1;33m)\u001b[0m\u001b[1;33m\u001b[0m\u001b[1;33m\u001b[0m\u001b[0m\n\u001b[0;32m      5\u001b[0m \u001b[0ma\u001b[0m\u001b[1;33m.\u001b[0m\u001b[0mflags\u001b[0m\u001b[1;33m.\u001b[0m\u001b[0mwriteable\u001b[0m \u001b[1;33m=\u001b[0m \u001b[1;32mFalse\u001b[0m\u001b[1;33m\u001b[0m\u001b[1;33m\u001b[0m\u001b[0m\n\u001b[1;32m----> 6\u001b[1;33m \u001b[0ma\u001b[0m\u001b[1;33m[\u001b[0m\u001b[1;36m1\u001b[0m\u001b[1;33m]\u001b[0m \u001b[1;33m=\u001b[0m \u001b[1;36m7\u001b[0m\u001b[1;33m\u001b[0m\u001b[1;33m\u001b[0m\u001b[0m\n\u001b[0m",
      "\u001b[1;31mValueError\u001b[0m: assignment destination is read-only"
     ]
    }
   ],
   "source": [
    "a = np.zeros(11)\n",
    "print(a)\n",
    "a[1] = 2\n",
    "print(a)\n",
    "a.flags.writeable = False\n",
    "a[1] = 7"
   ]
  },
  {
   "cell_type": "markdown",
   "metadata": {},
   "source": [
    "#### 44. Consider a random 10x2 matrix representing cartesian coordinates, convert them to polar coordinates (★★☆) \n",
    "(**hint**: np.sqrt, np.arctan2)"
   ]
  },
  {
   "cell_type": "code",
   "execution_count": 46,
   "metadata": {},
   "outputs": [
    {
     "name": "stdout",
     "output_type": "stream",
     "text": [
      "[1.39893268 0.58500786 0.29240648 1.02091096 1.71421731]\n",
      "[0.16301791 0.19158687 0.14835387 0.10625504 0.20585117]\n"
     ]
    }
   ],
   "source": [
    "x = np.random.random((10,2))\n",
    "x,y = z[:,0], z[:,1]\n",
    "r = np.sqrt(x**2+y**2)\n",
    "t = np.arctan2(y,x)\n",
    "print(r)\n",
    "print(t)"
   ]
  },
  {
   "cell_type": "markdown",
   "metadata": {},
   "source": [
    "#### 45. Create random vector of size 10 and replace the maximum value by 0 (★★☆) \n",
    "(**hint**: argmax)"
   ]
  },
  {
   "cell_type": "code",
   "execution_count": 47,
   "metadata": {},
   "outputs": [
    {
     "name": "stdout",
     "output_type": "stream",
     "text": [
      "[0.08795813 0.         0.59897875 0.5842996  0.86156802 0.48058776\n",
      " 0.62644923 0.59973326 0.49002542 0.64608   ]\n"
     ]
    }
   ],
   "source": [
    "x = np.random.random(10)\n",
    "x[x.argmax()] = 0\n",
    "print(x)"
   ]
  },
  {
   "cell_type": "markdown",
   "metadata": {},
   "source": [
    "#### 46. Create a structured array with `x` and `y` coordinates covering the \\[0,1\\]x\\[0,1\\] area (★★☆) \n",
    "(**hint**: np.meshgrid)"
   ]
  },
  {
   "cell_type": "code",
   "execution_count": 48,
   "metadata": {},
   "outputs": [
    {
     "name": "stdout",
     "output_type": "stream",
     "text": [
      "[[(0.  , 0.  ) (0.25, 0.  ) (0.5 , 0.  ) (0.75, 0.  ) (1.  , 0.  )]\n",
      " [(0.  , 0.25) (0.25, 0.25) (0.5 , 0.25) (0.75, 0.25) (1.  , 0.25)]\n",
      " [(0.  , 0.5 ) (0.25, 0.5 ) (0.5 , 0.5 ) (0.75, 0.5 ) (1.  , 0.5 )]\n",
      " [(0.  , 0.75) (0.25, 0.75) (0.5 , 0.75) (0.75, 0.75) (1.  , 0.75)]\n",
      " [(0.  , 1.  ) (0.25, 1.  ) (0.5 , 1.  ) (0.75, 1.  ) (1.  , 1.  )]]\n"
     ]
    }
   ],
   "source": [
    "z = np.zeros((5,5) , [('x',float), ('y',float)])\n",
    "z['x'],z['y'] = np.meshgrid(np.linspace(0,1,5),np.linspace(0,1,5))\n",
    "print(z)"
   ]
  },
  {
   "cell_type": "markdown",
   "metadata": {},
   "source": [
    "####  47. Given two arrays, X and Y, construct the Cauchy matrix C (Cij =1/(xi - yj)) \n",
    "(**hint**: np.subtract.outer)"
   ]
  },
  {
   "cell_type": "code",
   "execution_count": 49,
   "metadata": {},
   "outputs": [
    {
     "name": "stdout",
     "output_type": "stream",
     "text": [
      "3638.1636371179666\n"
     ]
    }
   ],
   "source": [
    "X = np.arange(8)\n",
    "Y = X + 0.5\n",
    "Cauchy_matrix = 1/np.subtract.outer(X,Y)\n",
    "print(np.linalg.det(Cauchy_matrix))"
   ]
  },
  {
   "cell_type": "markdown",
   "metadata": {},
   "source": [
    "#### 48. Print the minimum and maximum representable value for each numpy scalar type (★★☆) \n",
    "(**hint**: np.iinfo, np.finfo, eps)"
   ]
  },
  {
   "cell_type": "code",
   "execution_count": 50,
   "metadata": {},
   "outputs": [
    {
     "name": "stdout",
     "output_type": "stream",
     "text": [
      "-128\n",
      "127\n",
      "-2147483648\n",
      "2147483647\n",
      "-9223372036854775808\n",
      "9223372036854775807\n",
      "-3.4028235e+38\n",
      "-3.4028235e+38\n",
      "1.1920929e-07\n",
      "-1.7976931348623157e+308\n",
      "-1.7976931348623157e+308\n",
      "2.220446049250313e-16\n"
     ]
    }
   ],
   "source": [
    "for dtype in [np.int8,np.int32,np.int64]:\n",
    "    print(np.iinfo(dtype).min)\n",
    "    print(np.iinfo(dtype).max)\n",
    "for dtype in [np.float32,np.float64]:\n",
    "    print(np.finfo(dtype).min)\n",
    "    print(np.finfo(dtype).min)\n",
    "    print(np.finfo(dtype).eps)"
   ]
  },
  {
   "cell_type": "markdown",
   "metadata": {},
   "source": [
    "#### 49. How to print all the values of an array? (★★☆) \n",
    "(**hint**: np.set\\_printoptions)"
   ]
  },
  {
   "cell_type": "code",
   "execution_count": 51,
   "metadata": {},
   "outputs": [
    {
     "name": "stdout",
     "output_type": "stream",
     "text": [
      "[ 0  1  2  3  4  5  6  7  8  9 10 11 12 13 14 15 16 17 18 19 20 21 22 23\n",
      " 24 25 26 27 28 29 30]\n"
     ]
    }
   ],
   "source": [
    "import sys\n",
    "arr = np.arange(31)\n",
    "np.set_printoptions(threshold=sys.maxsize)\n",
    "print(arr)"
   ]
  },
  {
   "cell_type": "markdown",
   "metadata": {},
   "source": [
    "#### 50. How to find the closest value (to a given scalar) in a vector? (★★☆) \n",
    "(**hint**: argmin)"
   ]
  },
  {
   "cell_type": "code",
   "execution_count": 52,
   "metadata": {},
   "outputs": [
    {
     "name": "stdout",
     "output_type": "stream",
     "text": [
      "22\n"
     ]
    }
   ],
   "source": [
    "X = np.arange(100)\n",
    "Y = np.random.uniform(0,100)\n",
    "index = (np.abs(X-Y)).argmin()\n",
    "print(X[index])"
   ]
  },
  {
   "cell_type": "markdown",
   "metadata": {},
   "source": [
    "#### 51. Create a structured array representing a position (x,y) and a color (r,g,b) (★★☆) \n",
    "(**hint**: dtype)"
   ]
  },
  {
   "cell_type": "code",
   "execution_count": 53,
   "metadata": {},
   "outputs": [
    {
     "name": "stdout",
     "output_type": "stream",
     "text": [
      "[((0., 0.), (0., 0., 0.)) ((0., 0.), (0., 0., 0.))\n",
      " ((0., 0.), (0., 0., 0.)) ((0., 0.), (0., 0., 0.))\n",
      " ((0., 0.), (0., 0., 0.)) ((0., 0.), (0., 0., 0.))\n",
      " ((0., 0.), (0., 0., 0.)) ((0., 0.), (0., 0., 0.))\n",
      " ((0., 0.), (0., 0., 0.)) ((0., 0.), (0., 0., 0.))]\n"
     ]
    },
    {
     "name": "stderr",
     "output_type": "stream",
     "text": [
      "<ipython-input-53-3818062619b2>:1: FutureWarning: Passing (type, 1) or '1type' as a synonym of type is deprecated; in a future version of numpy, it will be understood as (type, (1,)) / '(1,)type'.\n",
      "  x = np.zeros(10,[('position',[('x',float,1),('y',float,1)]),('color', [('r', float, 1),('g', float, 1),('b', float, 1)])])\n"
     ]
    }
   ],
   "source": [
    "x = np.zeros(10,[('position',[('x',float,1),('y',float,1)]),('color', [('r', float, 1),('g', float, 1),('b', float, 1)])])\n",
    "print(x)"
   ]
  },
  {
   "cell_type": "markdown",
   "metadata": {},
   "source": [
    "#### 52. Consider a random vector with shape (100,2) representing coordinates, find point by point distances (★★☆) \n",
    "(**hint**: np.atleast\\_2d, T, np.sqrt)"
   ]
  },
  {
   "cell_type": "code",
   "execution_count": 54,
   "metadata": {},
   "outputs": [
    {
     "name": "stdout",
     "output_type": "stream",
     "text": [
      "[[0.         0.51823623 0.62660246 0.38246662 0.18568641 0.31334623\n",
      "  0.47154491 0.43054819 0.75096839 0.18083221 0.32298839 0.7063861\n",
      "  0.67094049 0.44073026 0.44790513 0.41248745 0.64960507 0.49708061\n",
      "  0.15008321 0.5003866  0.35441001 0.76326188 0.45371277 0.21312168\n",
      "  0.74923749 0.70835032 0.23962179 0.31499693 0.2792046  0.42362661\n",
      "  0.83319487 0.11653866 0.33151173 0.15805634 0.71858528 0.32724317\n",
      "  0.31716069 0.61047488 0.46106327 0.11598456 0.27778869 0.34552534\n",
      "  0.52455471 0.33297349 0.13163608 0.52304193 0.65029312 0.59979148\n",
      "  0.41944397 0.22012841 0.27528736 0.14633964 0.57632701 0.62815251\n",
      "  0.18822363 0.56962675 0.55941485 0.26871966 0.17787866 0.57658693\n",
      "  0.12973617 0.63941814 0.54646084 0.58206592 0.34165038 0.11462001\n",
      "  0.0628388  0.71962876 0.10955506 0.50982591 0.50298724 0.58535265\n",
      "  0.44060399 0.70241746 0.07773893 0.17595754 0.73156128 0.46348513\n",
      "  0.1734604  0.44128433 0.27508045 0.44742063 0.44438692 0.59608793\n",
      "  0.75070318 0.31392515 0.49818127 0.36367057 0.59175066 0.41022408\n",
      "  0.73354237 0.23873662 0.61559103 0.24944606 0.4098029  0.07076206\n",
      "  0.33620979 0.43665339 0.30981425 0.4361854 ]\n",
      " [0.51823623 0.         0.10989153 0.52574099 0.48901175 0.8120438\n",
      "  0.65539229 0.78068004 0.30658082 0.68539451 0.82021771 0.77247202\n",
      "  0.89346025 0.47355555 0.96272241 0.45240729 0.87334277 0.15795404\n",
      "  0.37128442 0.78540577 0.86867072 0.83067898 0.47295719 0.30533625\n",
      "  0.46769078 0.81574494 0.5845328  0.55016949 0.36239946 0.11679814\n",
      "  0.4142033  0.41821213 0.22102925 0.36631515 0.89933418 0.56289828\n",
      "  0.8277798  0.87464419 0.88400494 0.63328998 0.30989556 0.85948584\n",
      "  0.16961275 0.48466597 0.64689217 0.18318366 0.41270378 0.71778794\n",
      "  0.34941653 0.73122178 0.73491963 0.63101227 0.44720036 0.79743454\n",
      "  0.42083922 0.82310914 0.19524388 0.55947501 0.69184109 0.43594773\n",
      "  0.51191467 0.64571143 0.03726091 0.53453692 0.7749211  0.60999652\n",
      "  0.51989876 0.26596267 0.5688677  0.27706293 0.49713645 0.06795109\n",
      "  0.23225801 0.65689306 0.44316091 0.68033563 0.83317855 0.15496194\n",
      "  0.53965752 0.95398556 0.24420221 0.84801227 0.71097285 0.48574762\n",
      "  0.87315022 0.2462701  0.21107642 0.25313449 0.21229016 0.56362159\n",
      "  0.64222361 0.51895433 0.77009903 0.28348745 0.78542459 0.5277346\n",
      "  0.74154855 0.28785551 0.43177911 0.50875267]\n",
      " [0.62660246 0.10989153 0.         0.59768112 0.59740763 0.92192373\n",
      "  0.72251929 0.86588455 0.23359351 0.79106208 0.92389175 0.81092489\n",
      "  0.95507813 0.53244827 1.06924787 0.51583935 0.93590797 0.22974449\n",
      "  0.4806249  0.86117434 0.97521503 0.86632514 0.52922154 0.41420536\n",
      "  0.44365278 0.85994511 0.6918139  0.65234874 0.46692696 0.22275073\n",
      "  0.34245146 0.52388206 0.31692161 0.47591246 0.95342779 0.66452036\n",
      "  0.9336363  0.94384614 0.97660089 0.74201451 0.4166376  0.96886725\n",
      "  0.19676925 0.58391755 0.75426969 0.21052131 0.41133005 0.76944083\n",
      "  0.43614764 0.83754293 0.84440295 0.73530948 0.47260459 0.85387589\n",
      "  0.52957384 0.89250292 0.23816307 0.66484036 0.79881869 0.46003872\n",
      "  0.61329075 0.68052109 0.0805413  0.56831052 0.87094613 0.71971292\n",
      "  0.62961323 0.19353402 0.67273912 0.30989333 0.54482606 0.05163848\n",
      "  0.31728252 0.67938544 0.55217198 0.79000692 0.87542154 0.21647643\n",
      "  0.64861166 1.05995816 0.35171142 0.93823004 0.787402   0.51041113\n",
      "  0.91756043 0.35361995 0.24916067 0.35282736 0.2027994  0.63331221\n",
      "  0.65510445 0.6252804  0.82531843 0.3933249  0.87388557 0.63751521\n",
      "  0.83500305 0.3445647  0.51285179 0.57052595]\n",
      " [0.38246662 0.52574099 0.59768112 0.         0.53835489 0.64597058\n",
      "  0.13229622 0.28719707 0.59152628 0.40699491 0.47431075 0.32998685\n",
      "  0.37308409 0.09815616 0.64104307 0.09317108 0.35204687 0.61274698\n",
      "  0.38444736 0.26399032 0.56187015 0.38949717 0.11128906 0.37436325\n",
      "  0.46777567 0.34422676 0.61575442 0.67079633 0.55007083 0.50798014\n",
      "  0.63027853 0.30625411 0.3226691  0.39551712 0.39243345 0.68499477\n",
      "  0.51559029 0.34891301 0.42332297 0.44948047 0.50815113 0.63722436\n",
      "  0.41000957 0.66077399 0.41890533 0.39869798 0.37314601 0.23268724\n",
      "  0.66392305 0.4511439  0.64503811 0.3493839  0.26229986 0.28981037\n",
      "  0.50147581 0.29738258 0.6775284  0.63481016 0.43798571 0.2697441\n",
      "  0.25596247 0.2580079  0.53025164 0.22183765 0.35214354 0.48582854\n",
      "  0.44121542 0.57830981 0.31098258 0.31649483 0.14835929 0.58366038\n",
      "  0.61309211 0.32538979 0.3814871  0.52483962 0.36656094 0.38145978\n",
      "  0.54651573 0.62329574 0.3698736  0.37557707 0.1912385  0.26283596\n",
      "  0.39490338 0.49134621 0.35816569 0.55574824 0.44557472 0.0399773\n",
      "  0.36492998 0.59616766 0.26752459 0.43405791 0.30787026 0.4507365\n",
      "  0.30277739 0.25715065 0.10763772 0.06784137]\n",
      " [0.18568641 0.48901175 0.59740763 0.53835489 0.         0.34626485\n",
      "  0.64296316 0.61621486 0.77046931 0.33907519 0.47411222 0.86818518\n",
      "  0.85298897 0.57619159 0.56205628 0.54561418 0.83144248 0.41245452\n",
      "  0.1724311  0.68457857 0.47640446 0.92716821 0.58732989 0.22587275\n",
      "  0.82765662 0.87712309 0.09997266 0.13352776 0.14640667 0.37498874\n",
      "  0.86688953 0.23254862 0.37142189 0.16634529 0.89736952 0.14722292\n",
      "  0.4508048  0.79473346 0.6390817  0.23752482 0.18299465 0.41373864\n",
      "  0.55434676 0.14911348 0.2801425  0.55764926 0.73472238 0.76640002\n",
      "  0.27107886 0.36325757 0.25179068 0.32356756 0.68458958 0.80352934\n",
      "  0.06875471 0.75265516 0.46303775 0.09860728 0.32098489 0.68166388\n",
      "  0.30543263 0.78631981 0.52394698 0.71239595 0.52139569 0.17977166\n",
      "  0.12713912 0.73359398 0.29515459 0.57733103 0.63610533 0.54862051\n",
      "  0.33338927 0.84130599 0.15710245 0.23968654 0.90010937 0.49206844\n",
      "  0.05453179 0.56164857 0.28643261 0.62958806 0.6258966  0.71144221\n",
      "  0.92284693 0.24417644 0.54505246 0.26349385 0.6242735  0.57141911\n",
      "  0.86335188 0.05781362 0.78854405 0.21255741 0.59484951 0.12386074\n",
      "  0.52025974 0.51507644 0.44673142 0.58135051]\n",
      " [0.31334623 0.8120438  0.92192373 0.64597058 0.34626485 0.\n",
      "  0.69361232 0.55540506 1.06252768 0.2461699  0.27953629 0.93642246\n",
      "  0.82832256 0.72424722 0.26437828 0.69974612 0.81014893 0.75596412\n",
      "  0.44406628 0.65478766 0.21454066 0.98568788 0.73820793 0.51172369\n",
      "  1.05742101 0.92064739 0.28648881 0.38601906 0.49260903 0.70536597\n",
      "  1.14639224 0.42984772 0.64274175 0.44726668 0.89257912 0.38696444\n",
      "  0.22419783 0.75240322 0.49455696 0.20585766 0.52328113 0.08669075\n",
      "  0.83644353 0.45348872 0.22745132 0.83550617 0.95763423 0.82450697\n",
      "  0.61100778 0.21443801 0.11354163 0.29752348 0.87453429 0.82348942\n",
      "  0.40485058 0.72789052 0.80881035 0.33596568 0.2115841  0.87652704\n",
      "  0.40305389 0.89929064 0.84372274 0.86373499 0.4139746  0.20460811\n",
      "  0.29373668 1.03007647 0.33806049 0.82225832 0.78543237 0.87650378\n",
      "  0.67944435 0.97040647 0.37653634 0.13742088 0.94326855 0.77468496\n",
      "  0.29194025 0.27411429 0.57739965 0.51408843 0.6280797  0.88934424\n",
      "  0.95020691 0.57884581 0.81142954 0.60788416 0.9043243  0.66212018\n",
      "  1.01068516 0.35022664 0.82065306 0.52915474 0.51831605 0.28517438\n",
      "  0.44668263 0.74820433 0.60105223 0.70972079]\n",
      " [0.47154491 0.65539229 0.72251929 0.13229622 0.64296316 0.69361232\n",
      "  0.         0.21891478 0.69284345 0.44745097 0.47602296 0.24319945\n",
      "  0.24078831 0.19410159 0.63630878 0.20684575 0.21978698 0.74503895\n",
      "  0.50150275 0.15548395 0.57015529 0.29555519 0.20106209 0.4995257\n",
      "  0.5304891  0.23701948 0.71085435 0.77648965 0.6711041  0.64027636\n",
      "  0.7167768  0.41655595 0.45495893 0.51321076 0.26356839 0.79010269\n",
      "  0.5267627  0.22143696 0.36564978 0.51437005 0.6327584  0.66863051\n",
      "  0.53031809 0.77434279 0.47510794 0.51803907 0.44700916 0.1317818\n",
      "  0.79038175 0.48366608 0.71266838 0.40021827 0.32989254 0.16315136\n",
      "  0.6140407  0.17032018 0.80980703 0.73590701 0.48219327 0.34085481\n",
      "  0.34201961 0.22657121 0.65798853 0.25230271 0.33139809 0.5616172\n",
      "  0.53367444 0.68472613 0.38002854 0.42796998 0.20942361 0.71149733\n",
      "  0.74404177 0.3039428  0.4867346  0.58756558 0.26025764 0.50775621\n",
      "  0.64323336 0.6162864  0.50011237 0.31430784 0.10044571 0.3150873\n",
      "  0.27998722 0.62011405 0.4774814  0.68483705 0.5577613  0.09268546\n",
      "  0.35850744 0.70031467 0.14568572 0.56033932 0.25254895 0.54220103\n",
      "  0.28137556 0.37832109 0.23832182 0.15413279]\n",
      " [0.43054819 0.78068004 0.86588455 0.28719707 0.61621486 0.55540506\n",
      "  0.21891478 0.         0.87849616 0.32460039 0.29491819 0.42358238\n",
      "  0.27300719 0.38121828 0.43905375 0.38035928 0.25530201 0.83474015\n",
      "  0.52257848 0.10394549 0.38904201 0.45984811 0.39245609 0.5483893\n",
      "  0.74205292 0.38941995 0.65670567 0.74335499 0.69014851 0.73515101\n",
      "  0.9160782  0.43212788 0.5613739  0.53483674 0.33933045 0.75472346\n",
      "  0.3522385  0.19752124 0.1467426  0.42123896 0.6681768  0.50939238\n",
      "  0.68835009 0.76297721 0.37310506 0.67825524 0.65289587 0.31913623\n",
      "  0.82568485 0.34283694 0.6050835  0.30443754 0.5372095  0.28511374\n",
      "  0.61068079 0.17426279 0.90175226 0.69384995 0.35947815 0.54676458\n",
      "  0.3253312  0.44169798 0.79224665 0.46887253 0.14423506 0.4820495\n",
      "  0.49056337 0.86424374 0.32107204 0.60215003 0.41551184 0.84424306\n",
      "  0.81020327 0.51891577 0.47866212 0.48190761 0.40990429 0.65096919\n",
      "  0.59790723 0.41777864 0.57460467 0.09539748 0.11866351 0.52780006\n",
      "  0.40700626 0.67658289 0.63842849 0.73959829 0.72984611 0.26521779\n",
      "  0.57561897 0.66805371 0.29164667 0.60840327 0.04043016 0.49591943\n",
      "  0.109844   0.53785965 0.35336962 0.34323074]\n",
      " [0.75096839 0.30658082 0.23359351 0.59152628 0.77046931 1.06252768\n",
      "  0.69284345 0.87849616 0.         0.8892491  1.00621551 0.70870532\n",
      "  0.8985262  0.50192805 1.16538767 0.49858411 0.88252395 0.45627733\n",
      "  0.62291001 0.84610656 1.07360443 0.75537263 0.49296312 0.556221\n",
      "  0.25640844 0.76745218 0.86969471 0.84856289 0.65922338 0.41886698\n",
      "  0.10927311 0.6361188  0.41981927 0.62224411 0.87891726 0.86200276\n",
      "  1.02846926 0.90710479 1.00962848 0.86530898 0.60282056 1.09484458\n",
      "  0.22643768 0.78708331 0.865336   0.22882264 0.27334421 0.69890879\n",
      "  0.65577851 0.93828311 1.00193719 0.82793881 0.37737798 0.78956252\n",
      "  0.70194168 0.85858914 0.47151208 0.85135269 0.90537418 0.36442629\n",
      "  0.69863518 0.57948479 0.26979487 0.47640324 0.92081259 0.8582822\n",
      "  0.77112404 0.04094894 0.76619113 0.27806225 0.48662487 0.27914324\n",
      "  0.53782422 0.5533011  0.6865094  0.92553329 0.77792238 0.28784342\n",
      "  0.81610661 1.15248031 0.49041931 0.96424202 0.77824127 0.40724404\n",
      "  0.82280918 0.53957442 0.25941005 0.55740271 0.16146982 0.6177411\n",
      "  0.51238866 0.80862416 0.75968033 0.55791359 0.89662905 0.78052661\n",
      "  0.87678069 0.34945336 0.54108352 0.54193599]\n",
      " [0.18083221 0.68539451 0.79106208 0.40699491 0.33907519 0.2461699\n",
      "  0.44745097 0.32460039 0.8892491  0.         0.14216733 0.69027052\n",
      "  0.59357767 0.49218272 0.27900341 0.47073081 0.57423558 0.67654506\n",
      "  0.32769275 0.41778133 0.18547347 0.73989574 0.50637107 0.38542628\n",
      "  0.84414091 0.6755117  0.35082113 0.44859557 0.45577247 0.59850313\n",
      "  0.96032836 0.26726942 0.48079994 0.33685846 0.65407698 0.4574743\n",
      "  0.14259529 0.52127826 0.30702666 0.1066758  0.45836911 0.23043803\n",
      "  0.66539157 0.48662641 0.0592775  0.66115645 0.74413115 0.578369\n",
      "  0.59526428 0.0492346  0.28071284 0.06269846 0.65027952 0.58001146\n",
      "  0.36135678 0.49130586 0.73960459 0.39493329 0.03574868 0.65403872\n",
      "  0.19135599 0.65584898 0.7105293  0.6280105  0.1973344  0.17106989\n",
      "  0.21747129 0.86196358 0.12305849 0.6264404  0.55139911 0.75326514\n",
      "  0.62143115 0.72843193 0.25736229 0.15756885 0.69827862 0.60839549\n",
      "  0.30425357 0.26892935 0.44163658 0.30772291 0.38429175 0.66047829\n",
      "  0.70689601 0.49405382 0.63014641 0.54449313 0.72778231 0.41952241\n",
      "  0.77142202 0.37969097 0.57583778 0.42813957 0.29203989 0.21758839\n",
      "  0.21520788 0.55047542 0.37911647 0.47300612]\n",
      " [0.32298839 0.82021771 0.92389175 0.47431075 0.47411222 0.27953629\n",
      "  0.47602296 0.29491819 1.00621551 0.14216733 0.         0.70810572\n",
      "  0.56449926 0.56903772 0.16687373 0.5531661  0.54821208 0.81783664\n",
      "  0.46883405 0.39866215 0.09515262 0.74982055 0.58302838 0.52452592\n",
      "  0.93496022 0.68066053 0.47080563 0.57318024 0.59667609 0.73757765\n",
      "  1.0697498  0.40296381 0.6093827  0.47831708 0.63332627 0.58033831\n",
      "  0.05851568 0.48577905 0.21505242 0.23659167 0.60050431 0.21889788\n",
      "  0.78653872 0.61864221 0.19673518 0.7809049  0.83647602 0.59819379\n",
      "  0.73556241 0.1109544  0.35824317 0.1894263  0.73310978 0.57781418\n",
      "  0.50164435 0.46876192 0.88128863 0.51847874 0.15327846 0.73891061\n",
      "  0.31223825 0.69981685 0.8435859  0.69373056 0.15160805 0.29725165\n",
      "  0.35713698 0.98160496 0.25135951 0.73516124 0.62265574 0.88816617\n",
      "  0.76359216 0.77617402 0.39923621 0.25804423 0.70198491 0.73256761\n",
      "  0.43396841 0.15003886 0.57805954 0.23785995 0.39068524 0.73687452\n",
      "  0.70148771 0.63580316 0.74715109 0.68665658 0.84535938 0.47545272\n",
      "  0.82604068 0.50939715 0.58098213 0.56935    0.25496845 0.35616496\n",
      "  0.19713079 0.6598982  0.47509456 0.54211646]\n",
      " [0.7063861  0.77247202 0.81092489 0.32998685 0.86818518 0.93642246\n",
      "  0.24319945 0.42358238 0.70870532 0.69027052 0.70810572 0.\n",
      "  0.24242344 0.3178187  0.86128344 0.34709433 0.23802004 0.89335568\n",
      "  0.71288809 0.32472907 0.80320628 0.0611042  0.31269719 0.69601485\n",
      "  0.4806124  0.06519196 0.94335525 1.0007702  0.87461576 0.7906482\n",
      "  0.69489698 0.63623993 0.61272031 0.72359025 0.19044849 1.01494726\n",
      "  0.76177588 0.29759603 0.56069755 0.75667787 0.82868904 0.90869111\n",
      "  0.61579901 0.98957686 0.71814935 0.60167013 0.4353775  0.11194904\n",
      "  0.97924334 0.7252541  0.95507365 0.6433583  0.3413694  0.15069326\n",
      "  0.83093801 0.27537481 0.95246642 0.96419986 0.72517989 0.35447259\n",
      "  0.57694567 0.1314044  0.76376723 0.24285218 0.55805641 0.80190344\n",
      "  0.76713696 0.71474337 0.6208047  0.50183089 0.27782073 0.81498117\n",
      "  0.91269792 0.16563591 0.71117571 0.8303285  0.06973908 0.61759858\n",
      "  0.87452824 0.84030332 0.67936712 0.51129497 0.31742289 0.30591662\n",
      "  0.11494081 0.80307035 0.56575542 0.86521702 0.61571336 0.29731547\n",
      "  0.22360649 0.92599652 0.13421616 0.75282706 0.463255   0.7762392\n",
      "  0.51097655 0.4866321  0.42916262 0.2970392 ]\n",
      " [0.67094049 0.89346025 0.95507813 0.37308409 0.85298897 0.82832256\n",
      "  0.24078831 0.27300719 0.8985262  0.59357767 0.56449926 0.24242344\n",
      "  0.         0.42271217 0.69478475 0.44136014 0.02186324 0.98581721\n",
      "  0.72785333 0.17604151 0.65658671 0.24581722 0.42597903 0.73363239\n",
      "  0.69704866 0.18126314 0.9077729  0.98514254 0.89935667 0.8810638\n",
      "  0.90358414 0.6388704  0.69574525 0.73997113 0.07453791 0.99779282\n",
      "  0.62265962 0.08014719 0.37439334 0.6838093  0.86525737 0.78138362\n",
      "  0.7597868  0.99272887 0.63748548 0.7467441  0.63279793 0.20108671\n",
      "  1.02417376 0.61514287 0.87404001 0.56465192 0.52144378 0.11013769\n",
      "  0.83364705 0.10287963 1.0505827  0.93963922 0.62905713 0.53426179\n",
      "  0.54783891 0.33733672 0.89402207 0.42441353 0.41633279 0.74099133\n",
      "  0.73359322 0.89660267 0.56625289 0.65141839 0.41675752 0.94745291\n",
      "  0.98322763 0.39764722 0.70189234 0.74920391 0.19125116 0.74313953\n",
      "  0.84403062 0.67295539 0.7389535  0.33350235 0.22710288 0.49444751\n",
      "  0.16530775 0.85712643 0.70680366 0.92200872 0.77859531 0.33340438\n",
      "  0.45875873 0.90851938 0.13980888 0.79507053 0.31112966 0.74064609\n",
      "  0.38185606 0.61098369 0.47841423 0.38543331]\n",
      " [0.44073026 0.47355555 0.53244827 0.09815616 0.57619159 0.72424722\n",
      "  0.19410159 0.38121828 0.50192805 0.49218272 0.56903772 0.3178187\n",
      "  0.42271217 0.         0.73591127 0.03097304 0.40345991 0.58073826\n",
      "  0.41000339 0.34457006 0.65455392 0.37885132 0.01420569 0.38370046\n",
      "  0.3697443  0.34986373 0.66211614 0.70468643 0.56298959 0.47665918\n",
      "  0.53486373 0.34625359 0.2955885  0.41949239 0.42581166 0.7193634\n",
      "  0.60799285 0.41454276 0.52019613 0.52225208 0.51427071 0.72237684\n",
      "  0.33795393 0.68426046 0.49705708 0.32527523 0.2750653  0.24579551\n",
      "  0.66219255 0.53828799 0.71240468 0.43198623 0.1647396  0.32394797\n",
      "  0.52989326 0.36392232 0.6423005  0.6746224  0.52104338 0.17175247\n",
      "  0.32351727 0.21315472 0.47202045 0.14148525 0.45010697 0.55085191\n",
      "  0.49438239 0.4918663  0.38620112 0.23386876 0.06229931 0.52531965\n",
      "  0.59542154 0.26529014 0.42375468 0.59715646 0.36960979 0.32111982\n",
      "  0.59271778 0.7186323  0.36214653 0.47172358 0.27642597 0.16890429\n",
      "  0.40593744 0.48574616 0.28494365 0.54750881 0.3636801  0.11655912\n",
      "  0.29282273 0.6332607  0.29655618 0.43802004 0.40422856 0.50449142\n",
      "  0.40089086 0.18832491 0.13168796 0.0402363 ]\n",
      " [0.44790513 0.96272241 1.06924787 0.64104307 0.56205628 0.26437828\n",
      "  0.63630878 0.43905375 1.16538767 0.27900341 0.16687373 0.86128344\n",
      "  0.69478475 0.73591127 0.         0.7198856  0.68113197 0.94264843\n",
      "  0.59798745 0.54190026 0.09405384 0.89890183 0.74990166 0.65973585\n",
      "  1.10144263 0.82841033 0.52976316 0.63384047 0.70000432 0.87147687\n",
      "  1.2323658  0.54544567 0.75978134 0.60571433 0.76719488 0.63741462\n",
      "  0.13712824 0.6146408  0.32150528 0.33925102 0.71508098 0.17789689\n",
      "  0.94297971 0.69291524 0.31672297 0.93822393 1.0027234  0.75365398\n",
      "  0.83281655 0.23172551 0.37383207 0.33826352 0.89994244 0.72386402\n",
      "  0.60470672 0.60688253 1.00294682 0.58027219 0.27110466 0.90567146\n",
      "  0.46702926 0.86194271 0.98871043 0.85986572 0.3052258  0.38462341\n",
      "  0.46466172 1.13920175 0.40087166 0.89756253 0.7893539  1.03042445\n",
      "  0.87896324 0.93882229 0.52546496 0.32280594 0.84866853 0.8868082\n",
      "  0.51294374 0.02186104 0.71853938 0.36169452 0.545789   0.90369628\n",
      "  0.84326403 0.75904419 0.90597816 0.80272753 1.0040239  0.64125033\n",
      "  0.99004814 0.58354001 0.7305464  0.69680625 0.39880716 0.46048919\n",
      "  0.35493341 0.82187306 0.63998401 0.70881635]\n",
      " [0.41248745 0.45240729 0.51583935 0.09317108 0.54561418 0.69974612\n",
      "  0.20684575 0.38035928 0.49858411 0.47073081 0.5531661  0.34709433\n",
      "  0.44136014 0.03097304 0.7198856  0.         0.42152939 0.55497254\n",
      "  0.37909273 0.35205891 0.63679995 0.40818549 0.04187056 0.3528836\n",
      "  0.3822274  0.37707663 0.63206161 0.67387093 0.53218371 0.45052216\n",
      "  0.53768845 0.31620212 0.26793265 0.38854893 0.44840407 0.68855983\n",
      "  0.59012668 0.42828245 0.51573081 0.49664405 0.48372906 0.70036159\n",
      "  0.32367149 0.65328849 0.47303494 0.31159021 0.28502174 0.27099886\n",
      "  0.63234072 0.51756654 0.68519666 0.40975072 0.18061726 0.34578192\n",
      "  0.49898681 0.37710521 0.61729356 0.64409076 0.49863233 0.18582083\n",
      "  0.29765473 0.24410425 0.45276188 0.16978245 0.43969315 0.52346829\n",
      "  0.46527807 0.4860842  0.36181486 0.2249836  0.09121028 0.50623111\n",
      "  0.56728781 0.29571172 0.3936804  0.57124779 0.39727969 0.30198923\n",
      "  0.56271681 0.7031147  0.33234563 0.46842182 0.28131295 0.19011849\n",
      "  0.43258496 0.45602711 0.27097336 0.5181487  0.3547209  0.12100048\n",
      "  0.32160582 0.60260781 0.31925346 0.40751181 0.40067642 0.47543964\n",
      "  0.3914814  0.17147804 0.10272041 0.05651689]\n",
      " [0.64960507 0.87334277 0.93590797 0.35204687 0.83144248 0.81014893\n",
      "  0.21978698 0.25530201 0.88252395 0.57423558 0.54821208 0.23802004\n",
      "  0.02186324 0.40345991 0.68113197 0.42152939 0.         0.96471018\n",
      "  0.70599356 0.15645535 0.64086508 0.24686157 0.40708168 0.71183211\n",
      "  0.68441883 0.17953428 0.88668146 0.96367773 0.87749445 0.85999176\n",
      "  0.88951693 0.61703034 0.67471203 0.71811025 0.08606401 0.97636205\n",
      "  0.60619506 0.06857454 0.36186456 0.66361404 0.84341653 0.76440496\n",
      "  0.74094133 0.97100491 0.6175099  0.72798579 0.61819293 0.18734231\n",
      "  1.00234695 0.59660848 0.85450314 0.54441037 0.50586969 0.0976389\n",
      "  0.81187463 0.08294736 1.02957522 0.91831933 0.60978458 0.51858685\n",
      "  0.52622801 0.32612878 0.87428326 0.40975867 0.3991616  0.72045696\n",
      "  0.71229016 0.87993263 0.54520682 0.6331762  0.39928852 0.92774133\n",
      "  0.9616809  0.38896766 0.68017207 0.72947615 0.19191625 0.72345431\n",
      "  0.82276666 0.65933927 0.71739341 0.31946364 0.20554841 0.4797551\n",
      "  0.17062247 0.8354199  0.68793408 0.90030518 0.7608036  0.31246053\n",
      "  0.45034793 0.88704458 0.12643754 0.77328053 0.29401237 0.7193959\n",
      "  0.36348594 0.59159956 0.45707908 0.36580858]\n",
      " [0.49708061 0.15795404 0.22974449 0.61274698 0.41245452 0.75596412\n",
      "  0.74503895 0.83474015 0.45627733 0.67654506 0.81783664 0.89335568\n",
      "  0.98581721 0.58073826 0.94264843 0.55497254 0.96471018 0.\n",
      "  0.34900276 0.85777636 0.85011833 0.95333587 0.58323396 0.29761202\n",
      "  0.62458263 0.93027502 0.49638401 0.43968898 0.26814466 0.10488567\n",
      "  0.56534836 0.42300497 0.29022127 0.33968971 1.00141606 0.45036025\n",
      "  0.81414757 0.95613287 0.91797219 0.60363635 0.23290003 0.81596194\n",
      "  0.32058129 0.36649345 0.62845395 0.33301645 0.56464667 0.82594388\n",
      "  0.20794607 0.71720702 0.6641037  0.63120114 0.58533923 0.898277\n",
      "  0.3511177  0.9052704  0.06702158 0.46144651 0.67475908 0.57524487\n",
      "  0.53037723 0.77207145 0.19073706 0.66425298 0.80163126 0.56592439\n",
      "  0.47956441 0.41533447 0.57369203 0.41769036 0.61558181 0.17930917\n",
      "  0.09097851 0.7925902  0.41955048 0.63524905 0.94945733 0.28864466\n",
      "  0.46678654 0.93733194 0.26026452 0.88887148 0.78404179 0.62333402\n",
      "  0.98663092 0.1836167  0.35348404 0.14902058 0.36958429 0.65251971\n",
      "  0.78425834 0.42692763 0.87297545 0.24848676 0.83199369 0.48498466\n",
      "  0.77656579 0.4091143  0.5083718  0.61085289]\n",
      " [0.15008321 0.37128442 0.4806249  0.38444736 0.1724311  0.44406628\n",
      "  0.50150275 0.52257848 0.62291001 0.32769275 0.46883405 0.71288809\n",
      "  0.72785333 0.41000339 0.59798745 0.37909273 0.70599356 0.34900276\n",
      "  0.         0.5711378  0.50446842 0.77310241 0.42030038 0.06767429\n",
      "  0.65830217 0.72837855 0.26847893 0.29537644 0.17162594 0.27362469\n",
      "  0.71290718 0.09096803 0.20789186 0.01232696 0.76338558 0.31017388\n",
      "  0.46667422 0.6792654  0.58248409 0.26287044 0.1460061  0.48824597\n",
      "  0.39931236 0.27669302 0.28156739 0.40043263 0.56392574 0.61679801\n",
      "  0.30324665 0.36943728 0.37923817 0.28301728 0.51225386 0.66461362\n",
      "  0.11989603 0.63260259 0.41276409 0.27021718 0.3276909  0.50924408\n",
      "  0.19821481 0.6224182  0.40126571 0.54311423 0.46329995 0.24002559\n",
      "  0.15032994 0.58877986 0.22811644 0.40892736 0.46829198 0.43763544\n",
      "  0.29983957 0.67374672 0.0727331  0.30990688 0.75086596 0.33657573\n",
      "  0.20384326 0.59126466 0.13359423 0.55997443 0.50408338 0.53954345\n",
      "  0.77766615 0.16792725 0.38261513 0.22422901 0.46886162 0.42086178\n",
      "  0.69318866 0.22688445 0.64620809 0.100516   0.51094931 0.1590446\n",
      "  0.4458297  0.34398586 0.2845949  0.41941507]\n",
      " [0.5003866  0.78540577 0.86117434 0.26399032 0.68457857 0.65478766\n",
      "  0.15548395 0.10394549 0.84610656 0.41778133 0.39866215 0.32472907\n",
      "  0.17604151 0.34457006 0.54190026 0.35205891 0.15645535 0.85777636\n",
      "  0.5711378  0.         0.49294751 0.3576645  0.35314892 0.58598397\n",
      "  0.68476753 0.28680048 0.73482658 0.81537216 0.74231542 0.7547966\n",
      "  0.87217918 0.48044559 0.57302153 0.5834419  0.23780864 0.82760548\n",
      "  0.45570799 0.11015502 0.23613286 0.5080085  0.71343336 0.61185582\n",
      "  0.67383111 0.82750313 0.46149495 0.66232931 0.60244792 0.22611092\n",
      "  0.8727066  0.44079964 0.69808375 0.38895399 0.48533076 0.18202565\n",
      "  0.67041064 0.07353027 0.92421244 0.76839745 0.45333885 0.49633585\n",
      "  0.3819779  0.35900848 0.79220853 0.40478442 0.24746905 0.5658164\n",
      "  0.56254895 0.83640355 0.39358537 0.57678274 0.36483379 0.84538747\n",
      "  0.84386877 0.43462025 0.5376049  0.5731685  0.30679239 0.64473589\n",
      "  0.67242605 0.52047229 0.60147288 0.18658217 0.07448476 0.46955281\n",
      "  0.30306084 0.71304368 0.62173056 0.77756258 0.7066702  0.23107927\n",
      "  0.49384546 0.73899768 0.1910124  0.64745822 0.14430235 0.56910646\n",
      "  0.20836065 0.52090251 0.3542537  0.30438812]\n",
      " [0.35441001 0.86867072 0.97521503 0.56187015 0.47640446 0.21454066\n",
      "  0.57015529 0.38904201 1.07360443 0.18547347 0.09515262 0.80320628\n",
      "  0.65658671 0.65455392 0.09405384 0.63679995 0.64086508 0.85011833\n",
      "  0.50446842 0.49294751 0.         0.84494452 0.66867862 0.56584109\n",
      "  1.01674084 0.77570894 0.45304515 0.55748596 0.61116321 0.77781299\n",
      "  1.14236212 0.45145058 0.66622171 0.5123817  0.72635228 0.56239796\n",
      "  0.04670809 0.57727933 0.29589886 0.24780594 0.62390794 0.13852286\n",
      "  0.85044137 0.61226982 0.22297771 0.84594965 0.91742694 0.69315722\n",
      "  0.74592968 0.13775254 0.31220347 0.24572077 0.81737997 0.67268411\n",
      "  0.51551771 0.56230884 0.91098348 0.50305953 0.17717082 0.82248564\n",
      "  0.37496955 0.7929149  0.89467939 0.78280138 0.24651296 0.29712164\n",
      "  0.37369525 1.0468744  0.30796846 0.8077149  0.71004372 0.93637838\n",
      "  0.78798423 0.86890854 0.43207595 0.24020861 0.79696947 0.79378183\n",
      "  0.4294364  0.08727692 0.62449106 0.32590583 0.48578382 0.82321906\n",
      "  0.79595712 0.66650985 0.81426391 0.71147434 0.91215679 0.56562212\n",
      "  0.91776246 0.502182   0.67609314 0.60362    0.34884717 0.37010413\n",
      "  0.29223543 0.7318493  0.55299364 0.62966895]\n",
      " [0.76326188 0.83067898 0.86632514 0.38949717 0.92716821 0.98568788\n",
      "  0.29555519 0.45984811 0.75537263 0.73989574 0.74982055 0.0611042\n",
      "  0.24581722 0.37885132 0.89890183 0.40818549 0.24686157 0.95333587\n",
      "  0.77310241 0.3576645  0.84494452 0.         0.37357136 0.7569165\n",
      "  0.51945087 0.07123919 1.00104988 1.05999147 0.93540385 0.85090311\n",
      "  0.73517322 0.6955981  0.67355514 0.78388658 0.18081793 1.07409922\n",
      "  0.80475844 0.31243154 0.59094959 0.80990776 0.889683   0.95465973\n",
      "  0.67216279 1.04975248 0.77017432 0.65797798 0.48246827 0.16415533\n",
      "  1.04034701 0.77309053 1.00816354 0.69509189 0.39467152 0.17607078\n",
      "  0.89084673 0.2996822  1.01202084 1.02277078 0.77513677 0.40759061\n",
      "  0.63359889 0.18593163 0.82107143 0.29819868 0.59862624 0.8567273\n",
      "  0.82444565 0.76350351 0.67525098 0.55826381 0.3377829  0.87185388\n",
      "  0.97351577 0.20353123 0.77008261 0.88290973 0.05495459 0.67598884\n",
      "  0.93244326 0.87761304 0.74046949 0.54313652 0.36078267 0.35801452\n",
      "  0.08816267 0.864172   0.62279793 0.92629222 0.66917791 0.35579511\n",
      "  0.254914   0.98496205 0.16888257 0.81385481 0.50012316 0.83340941\n",
      "  0.55324947 0.54583054 0.48975935 0.35805419]\n",
      " [0.45371277 0.47295719 0.52922154 0.11128906 0.58732989 0.73820793\n",
      "  0.20106209 0.39245609 0.49296312 0.50637107 0.58302838 0.31269719\n",
      "  0.42597903 0.01420569 0.74990166 0.04187056 0.40708168 0.58323396\n",
      "  0.42030038 0.35314892 0.66867862 0.37357136 0.         0.39236718\n",
      "  0.35649018 0.34705039 0.67393189 0.71529552 0.57155161 0.47953457\n",
      "  0.52385205 0.35807257 0.30002728 0.4296015  0.42661536 0.730006\n",
      "  0.62212623 0.4203619  0.53225793 0.53601964 0.52214308 0.73655044\n",
      "  0.33386032 0.69381222 0.51106451 0.3209256  0.26243539 0.24504258\n",
      "  0.66880041 0.55249179 0.72578846 0.44613853 0.15113223 0.32544652\n",
      "  0.54018964 0.37008734 0.6441722  0.68583334 0.53519087 0.15845804\n",
      "  0.33720343 0.20433524 0.47030663 0.12835315 0.46341725 0.5641693\n",
      "  0.50693044 0.48382041 0.40015053 0.227686   0.04942317 0.52344998\n",
      "  0.60000702 0.25397772 0.43555079 0.61086921 0.36630683 0.31960865\n",
      "  0.60458703 0.73257552 0.36884529 0.483527   0.2860905  0.15471668\n",
      "  0.40358096 0.49223642 0.28085648 0.5534907  0.3571076  0.12731152\n",
      "  0.28000715 0.6442578  0.2975384  0.4458542  0.41614724 0.51707135\n",
      "  0.41405344 0.1862065  0.14421916 0.04950051]\n",
      " [0.21312168 0.30533625 0.41420536 0.37436325 0.22587275 0.51172369\n",
      "  0.4995257  0.5483893  0.556221   0.38542628 0.52452592 0.69601485\n",
      "  0.73363239 0.38370046 0.65973585 0.3528836  0.71183211 0.29761202\n",
      "  0.06767429 0.58598397 0.56584109 0.7569165  0.39236718 0.\n",
      "  0.6020616  0.71730845 0.32514734 0.3365728  0.17930251 0.21314203\n",
      "  0.64763478 0.12539352 0.14576843 0.06602324 0.76309237 0.35147347\n",
      "  0.52650806 0.69129863 0.62191508 0.32795413 0.13378848 0.5549124\n",
      "  0.33383358 0.30393583 0.34307335 0.33566462 0.51017247 0.60620655\n",
      "  0.29094391 0.4293234  0.44572401 0.33590541 0.46824285 0.66193863\n",
      "  0.16298709 0.64266673 0.36348853 0.31973473 0.38867028 0.46390993\n",
      "  0.23359009 0.5966507  0.3344749  0.50929024 0.50462128 0.30756827\n",
      "  0.21798879 0.52169221 0.27681119 0.35161498 0.43819221 0.37227242\n",
      "  0.26196514 0.64213377 0.13797784 0.37727965 0.73916971 0.27104033\n",
      "  0.26433191 0.65206409 0.06607319 0.59508396 0.51547335 0.49821965\n",
      "  0.76907131 0.12822004 0.3202215  0.19193419 0.40365651 0.41303238\n",
      "  0.65639064 0.2753711  0.64119971 0.06160746 0.54132322 0.22671594\n",
      "  0.48167952 0.291578   0.26841249 0.39914539]\n",
      " [0.74923749 0.46769078 0.44365278 0.46777567 0.82765662 1.05742101\n",
      "  0.5304891  0.74205292 0.25640844 0.84414091 0.93496022 0.4806124\n",
      "  0.69704866 0.3697443  1.10144263 0.3822274  0.68441883 0.62458263\n",
      "  0.65830217 0.68476753 1.01674084 0.51945087 0.35649018 0.6020616\n",
      "  0.         0.54376761 0.92611788 0.93372066 0.75300882 0.55102734\n",
      "  0.21595646 0.63509395 0.45787667 0.66246061 0.66404813 0.94839823\n",
      "  0.97003806 0.72209867 0.88550873 0.85160992 0.69443802 1.0697285\n",
      "  0.3082587  0.88728147 0.83712501 0.2980228  0.1001481  0.49721131\n",
      "  0.79406176 0.89245131 1.02226386 0.78171083 0.20601285 0.5871771\n",
      "  0.76456523 0.67881797 0.66059819 0.9214878  0.86871042 0.19803216\n",
      "  0.65842151 0.36098272 0.43941597 0.28099436 0.8198511  0.86377238\n",
      "  0.78792816 0.27847203 0.72705971 0.25049246 0.32675042 0.47350585\n",
      "  0.6870212  0.31648229 0.70401565 0.92224513 0.55019044 0.35795377\n",
      "  0.86209317 1.08498674 0.54587826 0.83563933 0.62803108 0.21540298\n",
      "  0.59532028 0.63926777 0.29311202 0.67932333 0.25543572 0.47960032\n",
      "  0.26658476 0.87707317 0.55799166 0.62924796 0.76914558 0.79827064\n",
      "  0.77054216 0.31559202 0.46515595 0.40303057]\n",
      " [0.70835032 0.81574494 0.85994511 0.34422676 0.87712309 0.92064739\n",
      "  0.23701948 0.38941995 0.76745218 0.6755117  0.68066053 0.06519196\n",
      "  0.18126314 0.34986373 0.82841033 0.37707663 0.17953428 0.93027502\n",
      "  0.72837855 0.28680048 0.77570894 0.07123919 0.34705039 0.71730845\n",
      "  0.54376761 0.         0.94739736 1.01048391 0.89412115 0.82643178\n",
      "  0.75718141 0.64747622 0.64499271 0.73957258 0.12540244 1.02433758\n",
      "  0.73607108 0.24320551 0.51971658 0.74912335 0.850934   0.88736307\n",
      "  0.66365241 1.00417759 0.70806584 0.64968144 0.49457481 0.11158373\n",
      "  1.00462442 0.70723033 0.94688819 0.63284522 0.39544529 0.10493684\n",
      "  0.84431961 0.22854326 0.99107432 0.97131942 0.71097558 0.4086578\n",
      "  0.57869109 0.18796881 0.8092448  0.2954036  0.52922525 0.79802398\n",
      "  0.77028183 0.77185139 0.61645314 0.55005787 0.31861011 0.86125984\n",
      "  0.944225   0.23024753 0.72019652 0.82121534 0.02324133 0.66087618\n",
      "  0.87943814 0.80706418 0.70625364 0.47198327 0.29346699 0.3616915\n",
      "  0.0576359  0.82965187 0.61246218 0.89295216 0.66810999 0.30761537\n",
      "  0.28873415 0.93474912 0.10032371 0.77590905 0.42977021 0.77892608\n",
      "  0.48461798 0.52812328 0.44889743 0.3232008 ]\n",
      " [0.23962179 0.5845328  0.6918139  0.61575442 0.09997266 0.28648881\n",
      "  0.71085435 0.65670567 0.86969471 0.35082113 0.47080563 0.94335525\n",
      "  0.9077729  0.66211614 0.52976316 0.63206161 0.88668146 0.49638401\n",
      "  0.26847893 0.73482658 0.45304515 1.00104988 0.67393189 0.32514734\n",
      "  0.92611788 0.94739736 0.         0.1044547  0.22885164 0.4690735\n",
      "  0.96666048 0.31587143 0.47087951 0.26370766 0.95739178 0.10990299\n",
      "  0.43644361 0.84429001 0.65784423 0.24421471 0.27519425 0.36497893\n",
      "  0.65428947 0.16701973 0.29283532 0.6576218  0.83233128 0.83818668\n",
      "  0.32892628 0.36205573 0.17802101 0.35316771 0.77826482 0.86773471\n",
      "  0.16785029 0.80564748 0.5412021  0.0505509  0.32442882 0.77594536\n",
      "  0.36883717 0.86896281 0.62008932 0.80071499 0.54554872 0.17983546\n",
      "  0.17718586 0.83252872 0.34154428 0.67605896 0.72317148 0.64216779\n",
      "  0.41172919 0.92726393 0.23838148 0.2148535  0.97057957 0.59203589\n",
      "  0.06950676 0.53315661 0.38635162 0.65606123 0.68228299 0.80371802\n",
      "  0.9902611  0.33835651 0.64482751 0.34837234 0.72420439 0.64615996\n",
      "  0.95237603 0.0697285  0.85517013 0.31192531 0.6305055  0.16886054\n",
      "  0.5534882  0.61242198 0.53094294 0.66378934]\n",
      " [0.31499693 0.55016949 0.65234874 0.67079633 0.13352776 0.38601906\n",
      "  0.77648965 0.74335499 0.84856289 0.44859557 0.57318024 1.0007702\n",
      "  0.98514254 0.70468643 0.63384047 0.67387093 0.96367773 0.43968898\n",
      "  0.29537644 0.81537216 0.55748596 1.05999147 0.71529552 0.3365728\n",
      "  0.93372066 1.01048391 0.1044547  0.         0.18933975 0.43348132\n",
      "  0.95060398 0.364557   0.47641391 0.28684946 1.03046837 0.01491357\n",
      "  0.54032853 0.92547022 0.754724   0.34219376 0.24646466 0.46698979\n",
      "  0.64485335 0.07689745 0.38964649 0.65034761 0.84471293 0.89964485\n",
      "  0.2497465  0.46347297 0.27402826 0.44392344 0.80414774 0.93698515\n",
      "  0.1760985  0.88429186 0.47521571 0.05479598 0.42440849 0.8001791\n",
      "  0.43829265 0.91623009 0.58709442 0.83847738 0.63994332 0.27820628\n",
      "  0.25324297 0.80958547 0.42311746 0.68388189 0.76352577 0.60114168\n",
      "  0.35002772 0.96899414 0.2902938  0.31882158 1.03344464 0.58486389\n",
      "  0.14635089 0.63749147 0.388006   0.74983388 0.75816448 0.83302131\n",
      "  1.05636213 0.30907451 0.6438996  0.29965524 0.71350877 0.70438357\n",
      "  0.98830633 0.07666174 0.92207131 0.30464604 0.71976807 0.24747124\n",
      "  0.64374377 0.62767066 0.5768515  0.71185172]\n",
      " [0.2792046  0.36239946 0.46692696 0.55007083 0.14640667 0.49260903\n",
      "  0.6711041  0.69014851 0.65922338 0.45577247 0.59667609 0.87461576\n",
      "  0.89935667 0.56298959 0.70000432 0.53218371 0.87749445 0.26814466\n",
      "  0.17162594 0.74231542 0.61116321 0.93540385 0.57155161 0.17930251\n",
      "  0.75300882 0.89412115 0.22885164 0.18933975 0.         0.24562332\n",
      "  0.76147407 0.26189062 0.30126355 0.15943638 0.93382929 0.2028681\n",
      "  0.58114075 0.85072913 0.73807365 0.36475184 0.05872955 0.5584191\n",
      "  0.4578525  0.13427265 0.40001225 0.46410371 0.66786271 0.78268583\n",
      "  0.14024307 0.48811291 0.39671798 0.42545028 0.63963923 0.83423008\n",
      "  0.09575232 0.80421276 0.31676707 0.19801878 0.44473845 0.6340782\n",
      "  0.36488048 0.77587208 0.39903029 0.68684725 0.61822112 0.31549061\n",
      "  0.239928   0.62027952 0.38085666 0.50563627 0.61699704 0.41637159\n",
      "  0.18701138 0.82014866 0.2137693  0.38094272 0.9162499  0.39919986\n",
      "  0.20089788 0.69780535 0.21388194 0.72045575 0.67567837 0.67161856\n",
      "  0.94484401 0.11980891 0.46067452 0.11956958 0.52579314 0.58780367\n",
      "  0.83204641 0.16004217 0.81491443 0.12921996 0.67578242 0.24202575\n",
      "  0.60690393 0.45648033 0.44589987 0.57805031]\n",
      " [0.42362661 0.11679814 0.22275073 0.50798014 0.37498874 0.70536597\n",
      "  0.64027636 0.73515101 0.41886698 0.59850313 0.73757765 0.7906482\n",
      "  0.8810638  0.47665918 0.87147687 0.45052216 0.85999176 0.10488567\n",
      "  0.27362469 0.7547966  0.77781299 0.85090311 0.47953457 0.21314203\n",
      "  0.55102734 0.82643178 0.4690735  0.43348132 0.24562332 0.\n",
      "  0.5244506  0.33605056 0.18537022 0.26653308 0.89656967 0.44630301\n",
      "  0.73920248 0.85215388 0.82413864 0.53588629 0.19393236 0.75755925\n",
      "  0.24279571 0.3689102  0.55483529 0.25318927 0.4815003  0.72152078\n",
      "  0.24475228 0.64194328 0.62354884 0.54866986 0.49023119 0.79342429\n",
      "  0.30758924 0.80117122 0.16986676 0.44293237 0.60077423 0.48089673\n",
      "  0.43953824 0.67103212 0.1536152  0.56477633 0.70974419 0.50646668\n",
      "  0.41695759 0.37889659 0.48866143 0.32671082 0.51317941 0.17364068\n",
      "  0.1369664  0.69492409 0.34632577 0.57691728 0.84584074 0.19881266\n",
      "  0.42677283 0.86439173 0.16431543 0.79286685 0.68082046 0.52759247\n",
      "  0.88259353 0.13092223 0.26583649 0.13857868 0.30257972 0.54771935\n",
      "  0.69008989 0.40280162 0.76819256 0.17748632 0.73423531 0.42394746\n",
      "  0.68187666 0.30935584 0.40402619 0.50625602]\n",
      " [0.83319487 0.4142033  0.34245146 0.63027853 0.86688953 1.14639224\n",
      "  0.7167768  0.9160782  0.10927311 0.96032836 1.0697498  0.69489698\n",
      "  0.90358414 0.53486373 1.2323658  0.53768845 0.88951693 0.56534836\n",
      "  0.71290718 0.87217918 1.14236212 0.73517322 0.52385205 0.64763478\n",
      "  0.21595646 0.75718141 0.96666048 0.95060398 0.76147407 0.5244506\n",
      "  0.         0.71694882 0.50602753 0.71337236 0.87530099 0.96430823\n",
      "  1.09642227 0.9216385  1.05341592 0.94542678 0.70421263 1.17338835\n",
      "  0.31380142 0.89111029 0.94130356 0.31256614 0.2721674  0.70252502\n",
      "  0.76361965 1.00956275 1.09182688 0.89806114 0.38817885 0.79346192\n",
      "  0.79887049 0.87558837 0.58054813 0.95082337 0.97918654 0.37652534\n",
      "  0.76898896 0.57163491 0.37778186 0.48000326 0.97302483 0.94348515\n",
      "  0.85838455 0.15011659 0.83780534 0.33480508 0.50735678 0.38841216\n",
      "  0.646088   0.53188723 0.77297554 1.00897925 0.76461411 0.37659462\n",
      "  0.91054401 1.21820805 0.58281481 1.00584466 0.80878481 0.41024891\n",
      "  0.80980828 0.64166932 0.33502476 0.6629754  0.24405379 0.65114807\n",
      "  0.48248287 0.90751974 0.76378984 0.65495076 0.93814833 0.86811515\n",
      "  0.92658337 0.41054485 0.5963972  0.5732882 ]\n",
      " [0.11653866 0.41821213 0.52388206 0.30625411 0.23254862 0.42984772\n",
      "  0.41655595 0.43212788 0.6361188  0.26726942 0.40296381 0.63623993\n",
      "  0.6388704  0.34625359 0.54544567 0.31620212 0.61703034 0.42300497\n",
      "  0.09096803 0.48044559 0.45145058 0.6955981  0.35807257 0.12539352\n",
      "  0.63509395 0.64747622 0.31587143 0.364557   0.26189062 0.33605056\n",
      "  0.71694882 0.         0.21824095 0.10329446 0.67653659 0.37879472\n",
      "  0.40979135 0.5888778  0.49766329 0.22921411 0.23605122 0.45878171\n",
      "  0.40972862 0.35778996 0.23247397 0.40766169 0.53683337 0.5361997\n",
      "  0.39409389 0.31372017 0.3872017  0.21354594 0.46892809 0.57915745\n",
      "  0.19749188 0.54265221 0.48882847 0.33002586 0.2757724  0.46807216\n",
      "  0.10978235 0.55442218 0.4433412  0.48513842 0.37971673 0.22965649\n",
      "  0.15433749 0.60565606 0.15266528 0.39363085 0.40734371 0.48612038\n",
      "  0.38362026 0.6114578  0.07750183 0.29248617 0.67027538 0.34948471\n",
      "  0.24651587 0.53609548 0.17510353 0.47262652 0.41407805 0.49162913\n",
      "  0.69501345 0.24949008 0.38193005 0.31003191 0.47619361 0.34036098\n",
      "  0.63694666 0.29029845 0.56204342 0.18014414 0.42161023 0.16475037\n",
      "  0.35868186 0.32108699 0.21531587 0.3492304 ]\n",
      " [0.33151173 0.22102925 0.31692161 0.3226691  0.37142189 0.64274175\n",
      "  0.45495893 0.5613739  0.41981927 0.48079994 0.6093827  0.61272031\n",
      "  0.69574525 0.2955885  0.75978134 0.26793265 0.67471203 0.29022127\n",
      "  0.20789186 0.57302153 0.66622171 0.67355514 0.30002728 0.14576843\n",
      "  0.45787667 0.64499271 0.47087951 0.47641391 0.30126355 0.18537022\n",
      "  0.50602753 0.21824095 0.         0.20963059 0.71163501 0.49117507\n",
      "  0.62298707 0.66814414 0.66303263 0.44657995 0.24440771 0.67645273\n",
      "  0.19377002 0.43438827 0.45028468 0.19356567 0.36846536 0.53833888\n",
      "  0.37506537 0.52873891 0.58592777 0.42249579 0.34075141 0.60847229\n",
      "  0.30697286 0.61696059 0.35487096 0.46383052 0.49260153 0.33432732\n",
      "  0.29745956 0.49881327 0.237991   0.39889245 0.55487272 0.43867188\n",
      "  0.3524834  0.38811728 0.35962451 0.20757382 0.33825602 0.28708321\n",
      "  0.29997981 0.53226814 0.26727511 0.50571449 0.66505582 0.13203836\n",
      "  0.40973645 0.74908223 0.08855935 0.62706052 0.49866988 0.37455364\n",
      "  0.70047046 0.20032443 0.17485842 0.25711161 0.2623653  0.36236891\n",
      "  0.53724273 0.41941695 0.58359053 0.17338042 0.56485308 0.36214858\n",
      "  0.52065301 0.15555275 0.21979761 0.32276851]\n",
      " [0.15805634 0.36631515 0.47591246 0.39551712 0.16634529 0.44726668\n",
      "  0.51321076 0.53483674 0.62224411 0.33685846 0.47831708 0.72359025\n",
      "  0.73997113 0.41949239 0.60571433 0.38854893 0.71811025 0.33968971\n",
      "  0.01232696 0.5834419  0.5123817  0.78388658 0.4296015  0.06602324\n",
      "  0.66246061 0.73957258 0.26370766 0.28684946 0.15943638 0.26653308\n",
      "  0.71337236 0.10329446 0.20963059 0.         0.77526002 0.30169584\n",
      "  0.47511154 0.69153737 0.59407766 0.26937644 0.13392479 0.49328486\n",
      "  0.39959829 0.26613059 0.2896916  0.40115493 0.56872995 0.62798885\n",
      "  0.29094993 0.37795476 0.37970469 0.29327144 0.5191743  0.67634197\n",
      "  0.11086876 0.64482951 0.403007   0.26338517 0.33591732 0.51590755\n",
      "  0.21034412 0.63215137 0.3969415  0.55174274 0.47479223 0.24390535\n",
      "  0.15385577 0.58766134 0.23911983 0.4126183  0.47736859 0.43223104\n",
      "  0.2888774  0.68276567 0.08032293 0.31411219 0.76201841 0.33680595\n",
      "  0.20043429 0.59932143 0.13197076 0.57186658 0.51632088 0.54697478\n",
      "  0.78905385 0.15773863 0.38448776 0.2129826  0.46933947 0.43213901\n",
      "  0.70146091 0.21968483 0.65779421 0.09145527 0.52307785 0.16211232\n",
      "  0.45772237 0.34891353 0.29495615 0.42959427]\n",
      " [0.71858528 0.89933418 0.95342779 0.39243345 0.89736952 0.89257912\n",
      "  0.26356839 0.33933045 0.87891726 0.65407698 0.63332627 0.19044849\n",
      "  0.07453791 0.42581166 0.76719488 0.44840407 0.08606401 1.00141606\n",
      "  0.76338558 0.23780864 0.72635228 0.18081793 0.42661536 0.76309237\n",
      "  0.66404813 0.12540244 0.95739178 1.03046837 0.93382929 0.89656967\n",
      "  0.87530099 0.67653659 0.71163501 0.77526002 0.         1.04355666\n",
      "  0.69112561 0.15354189 0.44769675 0.74014315 0.89626324 0.8487204\n",
      "  0.75677925 1.03343359 0.69506612 0.74323526 0.60827395 0.18427794\n",
      "  1.05394543 0.67848545 0.93334869 0.62100617 0.5023916  0.10316284\n",
      "  0.87338197 0.16514409 1.06478952 0.98685538 0.68977148 0.51553536\n",
      "  0.59220431 0.30369585 0.89680225 0.40261059 0.48352849 0.79519068\n",
      "  0.78142396 0.8803277  0.61711297 0.64528168 0.40895602 0.94982397\n",
      "  1.00542565 0.35409811 0.74342252 0.80779376 0.1288619  0.74621241\n",
      "  0.89203967 0.74540087 0.76227144 0.40552712 0.27587    0.47172279\n",
      "  0.09499304 0.88317822 0.70427234 0.94778095 0.76897172 0.35257474\n",
      "  0.41349079 0.95383973 0.12926952 0.82388973 0.37862207 0.78903\n",
      "  0.44612919 0.61272417 0.49997826 0.39192009]\n",
      " [0.32724317 0.56289828 0.66452036 0.68499477 0.14722292 0.38696444\n",
      "  0.79010269 0.75472346 0.86200276 0.4574743  0.58033831 1.01494726\n",
      "  0.99779282 0.7193634  0.63741462 0.68855983 0.97636205 0.45036025\n",
      "  0.31017388 0.82760548 0.56239796 1.07409922 0.730006   0.35147347\n",
      "  0.94839823 1.02433758 0.10990299 0.01491357 0.2028681  0.44630301\n",
      "  0.96430823 0.37879472 0.49117507 0.30169584 1.04355666 0.\n",
      "  0.54633878 0.93766362 0.76401368 0.35088934 0.26033308 0.46896643\n",
      "  0.65903417 0.08508512 0.3987242  0.66461809 0.85950688 0.91357301\n",
      "  0.25760128 0.47107925 0.27423499 0.45437511 0.81906109 0.95037809\n",
      "  0.19097376 0.89677203 0.48451676 0.06254103 0.43256533 0.81509192\n",
      "  0.45135251 0.93081263 0.59988693 0.85328496 0.64981258 0.28666596\n",
      "  0.26516543 0.82292792 0.43491316 0.69861612 0.77826996 0.61322669\n",
      "  0.36031934 0.98373695 0.30421273 0.32475129 1.04731723 0.59917776\n",
      "  0.1570052  0.64155203 0.40274212 0.75989131 0.77089172 0.84792497\n",
      "  1.07002208 0.32267072 0.65840888 0.3117047  0.72759391 0.71843181\n",
      "  1.00315651 0.08983536 0.93564095 0.31925525 0.73069751 0.2590876\n",
      "  0.65445731 0.64253891 0.59138267 0.7263598 ]\n",
      " [0.31716069 0.8277798  0.9336363  0.51559029 0.4508048  0.22419783\n",
      "  0.5267627  0.3522385  1.02846926 0.14259529 0.05851568 0.76177588\n",
      "  0.62265962 0.60799285 0.13712824 0.59012668 0.60619506 0.81414757\n",
      "  0.46667422 0.45570799 0.04670809 0.80475844 0.62212623 0.52650806\n",
      "  0.97003806 0.73607108 0.43644361 0.54032853 0.58114075 0.73920248\n",
      "  1.09642227 0.40979135 0.62298707 0.47511154 0.69112561 0.54633878\n",
      "  0.         0.54409686 0.27186814 0.21639856 0.59059665 0.16045959\n",
      "  0.8058619  0.59096817 0.18570407 0.8011486  0.87073824 0.65117753\n",
      "  0.71784867 0.09727498 0.31002886 0.20114018 0.7707161  0.63383184\n",
      "  0.48540435 0.52634987 0.87596283 0.4855622  0.13940029 0.77579611\n",
      "  0.32996323 0.74845008 0.85310027 0.73672736 0.20824602 0.27113499\n",
      "  0.34176046 1.00212087 0.26379445 0.76169773 0.6636834  0.89561295\n",
      "  0.75465635 0.82417696 0.39485866 0.22159051 0.7576259  0.74971017\n",
      "  0.40654053 0.1263341  0.58382948 0.29626667 0.4445794  0.77670572\n",
      "  0.75814411 0.63076233 0.76907242 0.67785726 0.86706778 0.51993188\n",
      "  0.87249    0.48086393 0.63610256 0.56655477 0.3125446  0.3391336\n",
      "  0.25151635 0.6858794  0.50638663 0.58335902]\n",
      " [0.61047488 0.87464419 0.94384614 0.34891301 0.79473346 0.75240322\n",
      "  0.22143696 0.19752124 0.90710479 0.52127826 0.48577905 0.29759603\n",
      "  0.08014719 0.41454276 0.6146408  0.42828245 0.06857454 0.95613287\n",
      "  0.6792654  0.11015502 0.57727933 0.31243154 0.4203619  0.69129863\n",
      "  0.72209867 0.24320551 0.84429001 0.92547022 0.85072913 0.85215388\n",
      "  0.9216385  0.5888778  0.66814414 0.69153737 0.15354189 0.93766362\n",
      "  0.54409686 0.         0.29434474 0.61491127 0.82034984 0.70338087\n",
      "  0.75167475 0.93749347 0.56764022 0.73931321 0.64947143 0.22869189\n",
      "  0.97969615 0.54033316 0.80198022 0.49634957 0.53423503 0.14852549\n",
      "  0.78008268 0.05153754 1.02200162 0.8783171  0.55643321 0.54643304\n",
      "  0.49183928 0.37086944 0.87849581 0.44265915 0.33905171 0.67383434\n",
      "  0.67256066 0.90156662 0.50336463 0.648031   0.42051085 0.93197837\n",
      "  0.94669857 0.43906552 0.64736275 0.67805344 0.25758185 0.72868834\n",
      "  0.7823031  0.59281026 0.70301401 0.25345872 0.17587586 0.51174807\n",
      "  0.23884941 0.81737391 0.69879232 0.8821358  0.77740462 0.31132737\n",
      "  0.50054508 0.84912099 0.17257492 0.75289652 0.2341375  0.6790349\n",
      "  0.30729871 0.59975581 0.44837742 0.37499985]\n",
      " [0.46106327 0.88400494 0.97660089 0.42332297 0.6390817  0.49455696\n",
      "  0.36564978 0.1467426  1.00962848 0.30702666 0.21505242 0.56069755\n",
      "  0.37439334 0.52019613 0.32150528 0.51573081 0.36186456 0.91797219\n",
      "  0.58248409 0.23613286 0.29589886 0.59094959 0.53225793 0.62191508\n",
      "  0.88550873 0.51971658 0.65784423 0.754724   0.73807365 0.82413864\n",
      "  1.05341592 0.49766329 0.66303263 0.59407766 0.44769675 0.76401368\n",
      "  0.27186814 0.29434474 0.         0.41364917 0.72701883 0.43112744\n",
      "  0.80929848 0.78812766 0.36533788 0.8003775  0.79435838 0.46099976\n",
      "  0.87783848 0.30331321 0.56795584 0.31612833 0.67986622 0.41498869\n",
      "  0.64923221 0.29231201 0.98453926 0.70150046 0.3351896  0.68887282\n",
      "  0.38835206 0.58765288 0.89979322 0.61480655 0.11986905 0.47805014\n",
      "  0.51265778 0.99260056 0.35749023 0.7316591  0.55879147 0.94997799\n",
      "  0.88100909 0.6646664  0.52510515 0.45648877 0.53831883 0.76614675\n",
      "  0.60920847 0.299645   0.65998157 0.05142808 0.26538459 0.67233125\n",
      "  0.5280342  0.74707065 0.7617051  0.80642006 0.8563476  0.40626023\n",
      "  0.72190835 0.6839471  0.4266639  0.67771616 0.11637086 0.51524117\n",
      "  0.14266332 0.66313005 0.47249209 0.4838038 ]\n",
      " [0.11598456 0.63328998 0.74201451 0.44948047 0.23752482 0.20585766\n",
      "  0.51437005 0.42123896 0.86530898 0.1066758  0.23659167 0.75667787\n",
      "  0.6838093  0.52225208 0.33925102 0.49664405 0.66361404 0.60363635\n",
      "  0.26287044 0.5080085  0.24780594 0.80990776 0.53601964 0.32795413\n",
      "  0.85160992 0.74912335 0.24421471 0.34219376 0.36475184 0.53588629\n",
      "  0.94542678 0.22921411 0.44657995 0.26937644 0.74014315 0.35088934\n",
      "  0.21639856 0.61491127 0.41364917 0.         0.37612675 0.22988669\n",
      "  0.63889329 0.38282185 0.04908754 0.63687046 0.75179142 0.64605455\n",
      "  0.50170999 0.12575003 0.1983969  0.11923177 0.66952796 0.65909915\n",
      "  0.26900922 0.58093521 0.6636958  0.28835349 0.08367452 0.67123106\n",
      "  0.19899543 0.70646617 0.66201836 0.66294528 0.30212725 0.06440233\n",
      "  0.12592742 0.83456139 0.13857662 0.61810828 0.58406115 0.70010747\n",
      "  0.54018452 0.77483218 0.19032998 0.07536877 0.77225818 0.57833242\n",
      "  0.19891747 0.3350113  0.3908014  0.41274982 0.46534619 0.68540834\n",
      "  0.78530285 0.42011821 0.61058642 0.46372219 0.70536452 0.47001538\n",
      "  0.81193024 0.27454721 0.65142901 0.35939172 0.39171904 0.12279565\n",
      "  0.31422841 0.54349637 0.39656989 0.51060103]\n",
      " [0.27778869 0.30989556 0.4166376  0.50815113 0.18299465 0.52328113\n",
      "  0.6327584  0.6681768  0.60282056 0.45836911 0.60050431 0.82868904\n",
      "  0.86525737 0.51427071 0.71508098 0.48372906 0.84341653 0.23290003\n",
      "  0.1460061  0.71343336 0.62390794 0.889683   0.52214308 0.13378848\n",
      "  0.69443802 0.850934   0.27519425 0.24646466 0.05872955 0.19393236\n",
      "  0.70421263 0.23605122 0.24440771 0.13392479 0.89626324 0.26033308\n",
      "  0.59059665 0.82034984 0.72701883 0.37612675 0.         0.5833741\n",
      "  0.39934357 0.19290127 0.40586761 0.4054693  0.60980835 0.73991569\n",
      "  0.1593464  0.49503867 0.43422604 0.42100649 0.58416527 0.79540839\n",
      "  0.11857917 0.77255832 0.28900516 0.25002095 0.45181495 0.57823749\n",
      "  0.34421906 0.7263354  0.34593239 0.634553   0.60743959 0.33429014\n",
      "  0.25042102 0.56424353 0.37043053 0.44750645 0.56646759 0.36701084\n",
      "  0.16411533 0.76815601 0.20417648 0.40298577 0.87272189 0.34049826\n",
      "  0.23635511 0.71113493 0.15836876 0.70562952 0.64455052 0.6168221\n",
      "  0.90283783 0.06386782 0.40198476 0.08765306 0.46750104 0.54677747\n",
      "  0.77813539 0.20906017 0.77488751 0.07629125 0.65695018 0.25482509\n",
      "  0.59149753 0.39992658 0.40205909 0.5316518 ]\n",
      " [0.34552534 0.85948584 0.96886725 0.63722436 0.41373864 0.08669075\n",
      "  0.66863051 0.50939238 1.09484458 0.23043803 0.21889788 0.90869111\n",
      "  0.78138362 0.72237684 0.17789689 0.70036159 0.76440496 0.81596194\n",
      "  0.48824597 0.61185582 0.13852286 0.95465973 0.73655044 0.5549124\n",
      "  1.0697285  0.88736307 0.36497893 0.46698979 0.5584191  0.75755925\n",
      "  1.17338835 0.45878171 0.67645273 0.49328486 0.8487204  0.46896643\n",
      "  0.16045959 0.70338087 0.43112744 0.22988669 0.5833741  0.\n",
      "  0.86849626 0.53148715 0.23341391 0.86621628 0.9695804  0.79702084\n",
      "  0.68309607 0.18685085 0.19851756 0.29061094 0.87910714 0.78694128\n",
      "  0.46662616 0.68361281 0.87175815 0.41526142 0.20186594 0.88237664\n",
      "  0.41143758 0.88336662 0.88936276 0.85842826 0.36525986 0.25125103\n",
      "  0.34063146 1.06436504 0.34267024 0.84331793 0.78180904 0.92550754\n",
      "  0.74366983 0.95700191 0.41702414 0.18103975 0.90943244 0.80814197\n",
      "  0.36077232 0.18848588 0.61903227 0.45672474 0.59402172 0.89035768\n",
      "  0.91255085 0.63510633 0.83906849 0.66989512 0.93454103 0.64839432\n",
      "  1.00118211 0.42508061 0.78704761 0.58008249 0.47039589 0.33366327\n",
      "  0.40445832 0.76788641 0.60633125 0.70342022]\n",
      " [0.52455471 0.16961275 0.19676925 0.41000957 0.55434676 0.83644353\n",
      "  0.53031809 0.68835009 0.22643768 0.66539157 0.78653872 0.61579901\n",
      "  0.7597868  0.33795393 0.94297971 0.32367149 0.74094133 0.32058129\n",
      "  0.39931236 0.67383111 0.85044137 0.67216279 0.33386032 0.33383358\n",
      "  0.3082587  0.66365241 0.65428947 0.64485335 0.4578525  0.24279571\n",
      "  0.31380142 0.40972862 0.19377002 0.39959829 0.75677925 0.65903417\n",
      "  0.8058619  0.75167475 0.80929848 0.63889329 0.39934357 0.86849626\n",
      "  0.         0.59093859 0.63962153 0.0142389  0.24422962 0.57271991\n",
      "  0.4864984  0.71419602 0.77846654 0.60480087 0.28160016 0.65758504\n",
      "  0.48687282 0.70063806 0.3644421  0.64087857 0.68029642 0.2697059\n",
      "  0.47604006 0.48624158 0.15144839 0.37401209 0.7119714  0.63244153\n",
      "  0.5459938  0.19670191 0.54249984 0.1139696  0.34806568 0.20012705\n",
      "  0.37884994 0.49103968 0.46096333 0.69931969 0.6794865  0.06279524\n",
      "  0.59703261 0.93083639 0.26914921 0.76722944 0.60120646 0.320062\n",
      "  0.72128592 0.33967347 0.05302017 0.37357112 0.06997787 0.44347187\n",
      "  0.47354102 0.59704289 0.62888091 0.34374864 0.70084326 0.55556085\n",
      "  0.67116505 0.15293304 0.33708987 0.37687862]\n",
      " [0.33297349 0.48466597 0.58391755 0.66077399 0.14911348 0.45348872\n",
      "  0.77434279 0.76297721 0.78708331 0.48662641 0.61864221 0.98957686\n",
      "  0.99272887 0.68426046 0.69291524 0.65328849 0.97100491 0.36649345\n",
      "  0.27669302 0.82750313 0.61226982 1.04975248 0.69381222 0.30393583\n",
      "  0.88728147 1.00417759 0.16701973 0.07689745 0.13427265 0.3689102\n",
      "  0.89111029 0.35778996 0.43438827 0.26613059 1.03343359 0.08508512\n",
      "  0.59096817 0.93749347 0.78812766 0.38282185 0.19290127 0.53148715\n",
      "  0.59093859 0.         0.42741737 0.59758264 0.80182363 0.89266197\n",
      "  0.17289079 0.50775125 0.34382347 0.47267604 0.77048673 0.93682734\n",
      "  0.16030278 0.89386866 0.3994755  0.11796963 0.46646955 0.7654278\n",
      "  0.4457412  0.89732367 0.52186288 0.8129679  0.67050706 0.32148429\n",
      "  0.27612249 0.7474501  0.44245098 0.63969027 0.74070511 0.53240731\n",
      "  0.27603859 0.94542905 0.2908376  0.37207015 1.02680273 0.53298246\n",
      "  0.18480891 0.69492829 0.34626791 0.77857243 0.7659695  0.80146871\n",
      "  1.05252421 0.2513636  0.59488015 0.23173879 0.65822987 0.69657231\n",
      "  0.9603078  0.11017676 0.91982245 0.26116211 0.74277254 0.27296421\n",
      "  0.66875134 0.58898303 0.56108268 0.69560862]\n",
      " [0.13163608 0.64689217 0.75426969 0.41890533 0.2801425  0.22745132\n",
      "  0.47510794 0.37310506 0.865336   0.0592775  0.19673518 0.71814935\n",
      "  0.63748548 0.49705708 0.31672297 0.47303494 0.6175099  0.62845395\n",
      "  0.28156739 0.46149495 0.22297771 0.77017432 0.51106451 0.34307335\n",
      "  0.83712501 0.70806584 0.29283532 0.38964649 0.40001225 0.55483529\n",
      "  0.94130356 0.23247397 0.45028468 0.2896916  0.69506612 0.3987242\n",
      "  0.18570407 0.56764022 0.36533788 0.04908754 0.40586761 0.23341391\n",
      "  0.63962153 0.42741737 0.         0.63652104 0.73700124 0.60687563\n",
      "  0.53883443 0.08920112 0.23928456 0.07522615 0.64945823 0.6161008\n",
      "  0.30490922 0.5346774  0.69031248 0.33619493 0.04630557 0.65205\n",
      "  0.17880681 0.6737158  0.67382536 0.63629832 0.25309349 0.11306741\n",
      "  0.16041422 0.83620018 0.11135596 0.61015159 0.55807437 0.71441025\n",
      "  0.5697108  0.74386624 0.20937467 0.11335363 0.73110486 0.58059475\n",
      "  0.24501542 0.30969767 0.40276292 0.36371309 0.42134107 0.66297306\n",
      "  0.74268169 0.44505991 0.60787929 0.4928123  0.70431648 0.43649552\n",
      "  0.78337849 0.32042323 0.60956035 0.38107523 0.34301916 0.15972388\n",
      "  0.2655418  0.53460384 0.37581525 0.48229622]\n",
      " [0.52304193 0.18318366 0.21052131 0.39869798 0.55764926 0.83550617\n",
      "  0.51803907 0.67825524 0.22882264 0.66115645 0.7809049  0.60167013\n",
      "  0.7467441  0.32527523 0.93822393 0.31159021 0.72798579 0.33301645\n",
      "  0.40043263 0.66232931 0.84594965 0.65797798 0.3209256  0.33566462\n",
      "  0.2980228  0.64968144 0.6576218  0.65034761 0.46410371 0.25318927\n",
      "  0.31256614 0.40766169 0.19356567 0.40115493 0.74323526 0.66461809\n",
      "  0.8011486  0.73931321 0.8003775  0.63687046 0.4054693  0.86621628\n",
      "  0.0142389  0.59758264 0.63652104 0.         0.23163024 0.55912062\n",
      "  0.49613344 0.71007995 0.77926081 0.60023436 0.26737603 0.64423273\n",
      "  0.49054877 0.68835006 0.37774687 0.64524256 0.67672138 0.25549906\n",
      "  0.47119473 0.47205296 0.16559882 0.35981547 0.70412797 0.63185099\n",
      "  0.54604392 0.20098059 0.5381511  0.09984447 0.33441829 0.21436514\n",
      "  0.38966472 0.47684255 0.46077057 0.6982382  0.66544962 0.06577001\n",
      "  0.59950229 0.92582169 0.27168105 0.75789989 0.58993551 0.30584446\n",
      "  0.70731239 0.346609   0.04063371 0.3823123  0.06885393 0.43171964\n",
      "  0.45958856 0.60126071 0.61546583 0.34805498 0.69132233 0.55571405\n",
      "  0.66281147 0.14156373 0.32792769 0.36438643]\n",
      " [0.65029312 0.41270378 0.41133005 0.37314601 0.73472238 0.95763423\n",
      "  0.44700916 0.65289587 0.27334421 0.74413115 0.83647602 0.4353775\n",
      "  0.63279793 0.2750653  1.0027234  0.28502174 0.61819293 0.56464667\n",
      "  0.56392574 0.60244792 0.91742694 0.48246827 0.26243539 0.51017247\n",
      "  0.1001481  0.49457481 0.83233128 0.84471293 0.66786271 0.4815003\n",
      "  0.2721674  0.53683337 0.36846536 0.56872995 0.60827395 0.85950688\n",
      "  0.87073824 0.64947143 0.79435838 0.75179142 0.60980835 0.9695804\n",
      "  0.24422962 0.80182363 0.73700124 0.23163024 0.         0.43178004\n",
      "  0.71979276 0.79250814 0.924003   0.68166507 0.11711791 0.52283995\n",
      "  0.67314573 0.60356562 0.60794484 0.82987706 0.76858281 0.10645876\n",
      "  0.55828263 0.30668303 0.38983173 0.2084416  0.72429997 0.76489516\n",
      "  0.69027126 0.28151883 0.62691167 0.16234074 0.23851188 0.43164728\n",
      "  0.6184642  0.28180925 0.60697679 0.82272623 0.50466291 0.28316509\n",
      "  0.76727898 0.98651198 0.45701889 0.74520882 0.54168423 0.13844101\n",
      "  0.54961102 0.55774124 0.21607005 0.60266048 0.20930337 0.38824582\n",
      "  0.24727881 0.7855343  0.49303627 0.5415655  0.67808981 0.7006454\n",
      "  0.67554151 0.21994912 0.36527965 0.3105547 ]\n",
      " [0.59979148 0.71778794 0.76944083 0.23268724 0.76640002 0.82450697\n",
      "  0.1317818  0.31913623 0.69890879 0.578369   0.59819379 0.11194904\n",
      "  0.20108671 0.24579551 0.75365398 0.27099886 0.18734231 0.82594388\n",
      "  0.61679801 0.22611092 0.69315722 0.16415533 0.24504258 0.60620655\n",
      "  0.49721131 0.11158373 0.83818668 0.89964485 0.78268583 0.72152078\n",
      "  0.70252502 0.5361997  0.53833888 0.62798885 0.18427794 0.91357301\n",
      "  0.65117753 0.22869189 0.46099976 0.64605455 0.73991569 0.79702084\n",
      "  0.57271991 0.89266197 0.60687563 0.55912062 0.43178004 0.\n",
      "  0.89425758 0.61333798 0.84439056 0.53194663 0.32153091 0.09106084\n",
      "  0.73287129 0.19237928 0.8879589  0.8611077  0.61332419 0.33450471\n",
      "  0.47006123 0.14220746 0.71398729 0.22351074 0.44917092 0.69257209\n",
      "  0.66129397 0.69850566 0.51110635 0.46101325 0.22473876 0.76679518\n",
      "  0.83640122 0.21278964 0.60936439 0.71934158 0.13414503 0.56383343\n",
      "  0.76987497 0.73293136 0.59673668 0.41038925 0.20802533 0.29351903\n",
      "  0.16334967 0.71982914 0.52033754 0.78347559 0.58497272 0.19609172\n",
      "  0.27378607 0.82409546 0.06127824 0.66512581 0.35782397 0.67013017\n",
      "  0.40118855 0.43026866 0.33787493 0.21557054]\n",
      " [0.41944397 0.34941653 0.43614764 0.66392305 0.27107886 0.61100778\n",
      "  0.79038175 0.82568485 0.65577851 0.59526428 0.73556241 0.97924334\n",
      "  1.02417376 0.66219255 0.83281655 0.63234072 1.00234695 0.20794607\n",
      "  0.30324665 0.8727066  0.74592968 1.04034701 0.66880041 0.29094391\n",
      "  0.79406176 1.00462442 0.32892628 0.2497465  0.14024307 0.24475228\n",
      "  0.76361965 0.39409389 0.37506537 0.29094993 1.05394543 0.25760128\n",
      "  0.71784867 0.97969615 0.87783848 0.50170999 0.1593464  0.68309607\n",
      "  0.4864984  0.17289079 0.53883443 0.49613344 0.71979276 0.89425758\n",
      "  0.         0.62624264 0.50646574 0.56569125 0.71278938 0.95254403\n",
      "  0.23396783 0.9318622  0.22998262 0.28461938 0.5829792  0.70517905\n",
      "  0.50065305 0.87138539 0.38599473 0.77381954 0.75796948 0.44885241\n",
      "  0.37842544 0.61500964 0.52040489 0.55997615 0.71054901 0.38486803\n",
      "  0.11894788 0.90730165 0.35288663 0.51075411 1.02601959 0.43740186\n",
      "  0.32254026 0.83185089 0.30004612 0.85926522 0.80389254 0.74798018\n",
      "  1.05753987 0.17659618 0.5040988  0.11878968 0.54733138 0.70304869\n",
      "  0.91125385 0.26140619 0.93131667 0.2300931  0.81297725 0.37969323\n",
      "  0.74542577 0.52644891 0.55683963 0.68284956]\n",
      " [0.22012841 0.73122178 0.83754293 0.4511439  0.36325757 0.21443801\n",
      "  0.48366608 0.34283694 0.93828311 0.0492346  0.1109544  0.7252541\n",
      "  0.61514287 0.53828799 0.23172551 0.51756654 0.59660848 0.71720702\n",
      "  0.36943728 0.44079964 0.13775254 0.77309053 0.55249179 0.4293234\n",
      "  0.89245131 0.70723033 0.36205573 0.46347297 0.48811291 0.64194328\n",
      "  1.00956275 0.31372017 0.52873891 0.37795476 0.67848545 0.47107925\n",
      "  0.09727498 0.54033316 0.30331321 0.12575003 0.49503867 0.18685085\n",
      "  0.71419602 0.50775125 0.08920112 0.71007995 0.79250814 0.61333798\n",
      "  0.62624264 0.         0.2671202  0.11176458 0.69755111 0.60928306\n",
      "  0.39265263 0.51408648 0.77933115 0.40891761 0.04339982 0.70155955\n",
      "  0.24058635 0.69660048 0.75700331 0.67274704 0.2053279  0.18650737\n",
      "  0.24818551 0.91081922 0.17215049 0.67565579 0.59682564 0.79899126\n",
      "  0.65890877 0.77015111 0.29775617 0.15352169 0.72971316 0.65690593\n",
      "  0.32316005 0.22288352 0.48711645 0.31220585 0.41413968 0.70692197\n",
      "  0.73591616 0.53395989 0.67924953 0.58201287 0.77682384 0.46157993\n",
      "  0.81454421 0.3986659  0.60705632 0.46940852 0.30712283 0.24654953\n",
      "  0.23331739 0.59968989 0.42730747 0.51780312]\n",
      " [0.27528736 0.73491963 0.84440295 0.64503811 0.25179068 0.11354163\n",
      "  0.71266838 0.6050835  1.00193719 0.28071284 0.35824317 0.95507365\n",
      "  0.87404001 0.71240468 0.37383207 0.68519666 0.85450314 0.6641037\n",
      "  0.37923817 0.69808375 0.31220347 1.00816354 0.72578846 0.44572401\n",
      "  1.02226386 0.94688819 0.17802101 0.27402826 0.39671798 0.62354884\n",
      "  1.09182688 0.3872017  0.58592777 0.37970469 0.93334869 0.27423499\n",
      "  0.31002886 0.80198022 0.56795584 0.1983969  0.43422604 0.19851756\n",
      "  0.77846654 0.34382347 0.23928456 0.77926081 0.924003   0.84439056\n",
      "  0.50646574 0.2671202  0.         0.31440623 0.85157441 0.85538351\n",
      "  0.31652463 0.77155634 0.71315707 0.22585385 0.24560849 0.85187383\n",
      "  0.3902568  0.90281956 0.76850925 0.85384848 0.47197047 0.16181905\n",
      "  0.23534171 0.967286   0.33572213 0.77864769 0.77465823 0.7968481\n",
      "  0.58325207 0.96969716 0.32072067 0.12593659 0.96997698 0.71577079\n",
      "  0.19787864 0.38145287 0.51162583 0.57929103 0.6604867  0.87081402\n",
      "  0.98195995 0.49374351 0.75947063 0.51508723 0.84786567 0.66725928\n",
      "  1.00438076 0.24526108 0.84868637 0.45214165 0.57148518 0.22519759\n",
      "  0.49539524 0.70763624 0.58304391 0.7040038 ]\n",
      " [0.14633964 0.63101227 0.73530948 0.3493839  0.32356756 0.29752348\n",
      "  0.40021827 0.30443754 0.82793881 0.06269846 0.1894263  0.6433583\n",
      "  0.56465192 0.43198623 0.33826352 0.40975072 0.54441037 0.63120114\n",
      "  0.28301728 0.38895399 0.24572077 0.69509189 0.44613853 0.33590541\n",
      "  0.78171083 0.63284522 0.35316771 0.44392344 0.42545028 0.54866986\n",
      "  0.89806114 0.21354594 0.42249579 0.29327144 0.62100617 0.45437511\n",
      "  0.20114018 0.49634957 0.31612833 0.11923177 0.42100649 0.29061094\n",
      "  0.60480087 0.47267604 0.07522615 0.60023436 0.68166507 0.53194663\n",
      "  0.56569125 0.11176458 0.31440623 0.         0.58874082 0.54105592\n",
      "  0.33425846 0.46177278 0.6955882  0.39251093 0.0890738  0.5922671\n",
      "  0.12938598 0.60177494 0.65488765 0.56920085 0.1978345  0.1777743\n",
      "  0.19670791 0.80117187 0.06287148 0.56397337 0.49189627 0.69896296\n",
      "  0.58153425 0.673038   0.21688757 0.18851587 0.65588089 0.54858933\n",
      "  0.2975742  0.32678213 0.3886349  0.30646083 0.34660082 0.59976095\n",
      "  0.66756904 0.45091555 0.56865335 0.50499182 0.66647853 0.36459826\n",
      "  0.71430989 0.37071453 0.53434729 0.38314633 0.277338   0.19978046\n",
      "  0.20041297 0.48800717 0.31686035 0.41438624]\n",
      " [0.57632701 0.44720036 0.47260459 0.26229986 0.68458958 0.87453429\n",
      "  0.32989254 0.5372095  0.37737798 0.65027952 0.73310978 0.3413694\n",
      "  0.52144378 0.1647396  0.89994244 0.18061726 0.50586969 0.58533923\n",
      "  0.51225386 0.48533076 0.81737997 0.39467152 0.15113223 0.46824285\n",
      "  0.20601285 0.39544529 0.77826482 0.80414774 0.63963923 0.49023119\n",
      "  0.38817885 0.46892809 0.34075141 0.5191743  0.5023916  0.81906109\n",
      "  0.7707161  0.53423503 0.67986622 0.66952796 0.58416527 0.87910714\n",
      "  0.28160016 0.77048673 0.64945823 0.26737603 0.11711791 0.32153091\n",
      "  0.71278938 0.69755111 0.85157441 0.58874082 0.         0.41222911\n",
      "  0.62858726 0.48758361 0.6375819  0.78243427 0.67724173 0.01322137\n",
      "  0.47154506 0.20997829 0.43279146 0.10027146 0.61442318 0.69014899\n",
      "  0.62299775 0.37797718 0.5381499  0.17014136 0.12186861 0.48154737\n",
      "  0.62391856 0.20975903 0.54385982 0.74289216 0.40843854 0.29724333\n",
      "  0.71052572 0.88289692 0.425952   0.63024231 0.42495587 0.03856035\n",
      "  0.45229288 0.54055309 0.23612535 0.59400757 0.27456674 0.27371518\n",
      "  0.19994448 0.73885734 0.38234228 0.51044387 0.56349725 0.63339309\n",
      "  0.56487737 0.18639202 0.27367787 0.1970292 ]\n",
      " [0.62815251 0.79743454 0.85387589 0.28981037 0.80352934 0.82348942\n",
      "  0.16315136 0.28511374 0.78956252 0.58001146 0.57781418 0.15069326\n",
      "  0.11013769 0.32394797 0.72386402 0.34578192 0.0976389  0.898277\n",
      "  0.66461362 0.18202565 0.67268411 0.17607078 0.32544652 0.66193863\n",
      "  0.5871771  0.10493684 0.86773471 0.93698515 0.83423008 0.79342429\n",
      "  0.79346192 0.57915745 0.60847229 0.67634197 0.10316284 0.95037809\n",
      "  0.63383184 0.14852549 0.41498869 0.65909915 0.79540839 0.78694128\n",
      "  0.65758504 0.93682734 0.6161008  0.64423273 0.52283995 0.09106084\n",
      "  0.95254403 0.60928306 0.85538351 0.54105592 0.41222911 0.\n",
      "  0.7765454  0.12526281 0.96172483 0.89498345 0.61569932 0.42514148\n",
      "  0.49985023 0.22849634 0.79570887 0.31455552 0.4262142  0.71109784\n",
      "  0.69082644 0.78854747 0.53057281 0.54731586 0.31120421 0.84888863\n",
      "  0.90254651 0.29254346 0.6481238  0.72944767 0.12481345 0.64490673\n",
      "  0.80114284 0.70246534 0.65967244 0.36706766 0.19572128 0.38457224\n",
      "  0.12688492 0.78098804 0.60482013 0.84548512 0.67296357 0.25008482\n",
      "  0.35404675 0.8605438  0.02988839 0.7224523  0.32552624 0.69889409\n",
      "  0.38289639 0.51163906 0.39743848 0.28926591]\n",
      " [0.18822363 0.42083922 0.52957384 0.50147581 0.06875471 0.40485058\n",
      "  0.6140407  0.61068079 0.70194168 0.36135678 0.50164435 0.83093801\n",
      "  0.83364705 0.52989326 0.60470672 0.49898681 0.81187463 0.3511177\n",
      "  0.11989603 0.67041064 0.51551771 0.89084673 0.54018964 0.16298709\n",
      "  0.76456523 0.84431961 0.16785029 0.1760985  0.09575232 0.30758924\n",
      "  0.79887049 0.19749188 0.30697286 0.11086876 0.87338197 0.19097376\n",
      "  0.48540435 0.78008268 0.64923221 0.26900922 0.11857917 0.46662616\n",
      "  0.48687282 0.16030278 0.30490922 0.49054877 0.67314573 0.73287129\n",
      "  0.23396783 0.39265263 0.31652463 0.33425846 0.62858726 0.7765454\n",
      "  0.         0.73556672 0.40521991 0.15692287 0.34931306 0.62489205\n",
      "  0.28857946 0.74220482 0.45555014 0.66261143 0.52969092 0.22056974\n",
      "  0.14454853 0.66494946 0.29425553 0.51407555 0.58811666 0.48118721\n",
      "  0.27716049 0.79354907 0.13288912 0.28737782 0.86701333 0.42484764\n",
      "  0.11918769 0.60224921 0.22037745 0.63438646 0.60730854 0.657083\n",
      "  0.89235644 0.17727412 0.47926664 0.20349969 0.55671749 0.53679816\n",
      "  0.81224356 0.11251019 0.75953319 0.14408207 0.59335133 0.14632754\n",
      "  0.52192159 0.45444345 0.40378698 0.53878848]\n",
      " [0.56962675 0.82310914 0.89250292 0.29738258 0.75265516 0.72789052\n",
      "  0.17032018 0.17426279 0.85858914 0.49130586 0.46876192 0.27537481\n",
      "  0.10287963 0.36392232 0.60688253 0.37710521 0.08294736 0.9052704\n",
      "  0.63260259 0.07353027 0.56230884 0.2996822  0.37008734 0.64266673\n",
      "  0.67881797 0.22854326 0.80564748 0.88429186 0.80421276 0.80117122\n",
      "  0.87558837 0.54265221 0.61696059 0.64482951 0.16514409 0.89677203\n",
      "  0.52634987 0.05153754 0.29231201 0.58093521 0.77255832 0.68361281\n",
      "  0.70063806 0.89386866 0.5346774  0.68835006 0.60356562 0.19237928\n",
      "  0.9318622  0.51408648 0.77155634 0.46177278 0.48758361 0.12526281\n",
      "  0.73556672 0.         0.97103429 0.8381721  0.52686831 0.49955699\n",
      "  0.44823655 0.33368612 0.82698765 0.39825326 0.31849625 0.63817312\n",
      "  0.63212699 0.85230161 0.46411098 0.59763764 0.37204549 0.88046683\n",
      "  0.89689135 0.40510743 0.60319944 0.64655275 0.24633665 0.6772368\n",
      "  0.74239254 0.5852288  0.65295861 0.24627244 0.12857498 0.4665874\n",
      "  0.23655406 0.76818908 0.64779852 0.83301661 0.72719421 0.25981069\n",
      "  0.46616519 0.80774466 0.14291908 0.70427272 0.21382044 0.63899405\n",
      "  0.28124137 0.54854965 0.39725426 0.32420582]\n",
      " [0.55941485 0.19524388 0.23816307 0.6775284  0.46303775 0.80881035\n",
      "  0.80980703 0.90175226 0.47151208 0.73960459 0.88128863 0.95246642\n",
      "  1.0505827  0.6423005  1.00294682 0.61729356 1.02957522 0.06702158\n",
      "  0.41276409 0.92421244 0.91098348 1.01202084 0.6441722  0.36348853\n",
      "  0.66059819 0.99107432 0.5412021  0.47521571 0.31676707 0.16986676\n",
      "  0.58054813 0.48882847 0.35487096 0.403007   1.06478952 0.48451676\n",
      "  0.87596283 1.02200162 0.98453926 0.6636958  0.28900516 0.87175815\n",
      "  0.3644421  0.3994755  0.69031248 0.37774687 0.60794484 0.8879589\n",
      "  0.22998262 0.77933115 0.71315707 0.6955882  0.6375819  0.96172483\n",
      "  0.40521991 0.97103429 0.         0.50269871 0.7365919  0.62691575\n",
      "  0.59668103 0.8293171  0.2211825  0.72011199 0.86791722 0.62329286\n",
      "  0.53864018 0.43111623 0.63879326 0.46810586 0.67471649 0.19371246\n",
      "  0.12990571 0.84635858 0.48226201 0.69179273 1.00986098 0.34052793\n",
      "  0.51756731 0.99825778 0.3272841  0.95572363 0.850368   0.67592928\n",
      "  1.04774832 0.24555754 0.4026168  0.20188727 0.40554755 0.71718158\n",
      "  0.83489493 0.47148171 0.93604651 0.3124431  0.8989856  0.54348991\n",
      "  0.84328937 0.46636749 0.57388799 0.67346519]\n",
      " [0.26871966 0.55947501 0.66484036 0.63481016 0.09860728 0.33596568\n",
      "  0.73590701 0.69384995 0.85135269 0.39493329 0.51847874 0.96419986\n",
      "  0.93963922 0.6746224  0.58027219 0.64409076 0.91831933 0.46144651\n",
      "  0.27021718 0.76839745 0.50305953 1.02277078 0.68583334 0.31973473\n",
      "  0.9214878  0.97131942 0.0505509  0.05479598 0.19801878 0.44293237\n",
      "  0.95082337 0.33002586 0.46383052 0.26338517 0.98685538 0.06254103\n",
      "  0.4855622  0.8783171  0.70150046 0.28835349 0.25002095 0.41526142\n",
      "  0.64087857 0.11796963 0.33619493 0.64524256 0.82987706 0.8611077\n",
      "  0.28461938 0.40891761 0.22585385 0.39251093 0.78243427 0.89498345\n",
      "  0.15692287 0.8381721  0.50269871 0.         0.37014859 0.77927775\n",
      "  0.39517028 0.88431828 0.59576494 0.81100216 0.58749436 0.22415362\n",
      "  0.20605786 0.81328618 0.3750358  0.67099842 0.7346556  0.61437513\n",
      "  0.37436012 0.93979902 0.25344706 0.26409512 0.9944012  0.57947322\n",
      "  0.09609373 0.58354763 0.37677808 0.69766313 0.71308983 0.80967166\n",
      "  1.01587044 0.31388864 0.63543177 0.31572463 0.71040324 0.66701615\n",
      "  0.96194708 0.04441694 0.88110145 0.29719624 0.66923559 0.19929102\n",
      "  0.59277584 0.61081597 0.54482967 0.67920483]\n",
      " [0.17787866 0.69184109 0.79881869 0.43798571 0.32098489 0.2115841\n",
      "  0.48219327 0.35947815 0.90537418 0.03574868 0.15327846 0.72517989\n",
      "  0.62905713 0.52104338 0.27110466 0.49863233 0.60978458 0.67475908\n",
      "  0.3276909  0.45333885 0.17717082 0.77513677 0.53519087 0.38867028\n",
      "  0.86871042 0.71097558 0.32442882 0.42440849 0.44473845 0.60077423\n",
      "  0.97918654 0.2757724  0.49260153 0.33591732 0.68977148 0.43256533\n",
      "  0.13940029 0.55643321 0.3351896  0.08367452 0.45181495 0.20186594\n",
      "  0.68029642 0.46646955 0.04630557 0.67672138 0.76858281 0.61332419\n",
      "  0.5829792  0.04339982 0.24560849 0.0890738  0.67724173 0.61569932\n",
      "  0.34931306 0.52686831 0.7365919  0.37014859 0.         0.68054654\n",
      "  0.21163597 0.68876341 0.71831799 0.65818462 0.22931918 0.14632139\n",
      "  0.20481637 0.87699466 0.14237442 0.64648717 0.58096061 0.75946994\n",
      "  0.61574935 0.76077433 0.25561366 0.12391135 0.73377116 0.62203197\n",
      "  0.28233105 0.26362909 0.44764021 0.33903031 0.41998458 0.68869727\n",
      "  0.74258421 0.49136213 0.64702762 0.53887802 0.74407027 0.45195929\n",
      "  0.80282555 0.35795722 0.61137807 0.42732422 0.32625884 0.20330065\n",
      "  0.24983847 0.57063965 0.40462424 0.50330845]\n",
      " [0.57658693 0.43594773 0.46003872 0.2697441  0.68166388 0.87652704\n",
      "  0.34085481 0.54676458 0.36442629 0.65403872 0.73891061 0.35447259\n",
      "  0.53426179 0.17175247 0.90567146 0.18582083 0.51858685 0.57524487\n",
      "  0.50924408 0.49633585 0.82248564 0.40759061 0.15845804 0.46390993\n",
      "  0.19803216 0.4086578  0.77594536 0.8001791  0.6340782  0.48089673\n",
      "  0.37652534 0.46807216 0.33432732 0.51590755 0.51553536 0.81509192\n",
      "  0.77579611 0.54643304 0.68887282 0.67123106 0.57823749 0.88237664\n",
      "  0.2697059  0.7654278  0.65205    0.25549906 0.10645876 0.33450471\n",
      "  0.70517905 0.70155955 0.85187383 0.5922671  0.01322137 0.42514148\n",
      "  0.62489205 0.49955699 0.62691575 0.77927775 0.68054654 0.\n",
      "  0.47376721 0.22307206 0.42102661 0.11349019 0.62184114 0.69066676\n",
      "  0.6223179  0.36481164 0.54083947 0.15902204 0.13205632 0.46949771\n",
      "  0.61508524 0.22136475 0.5424615  0.74426143 0.42161348 0.28684724\n",
      "  0.70849024 0.88880913 0.42023748 0.63945048 0.43522578 0.05047478\n",
      "  0.46549138 0.53366906 0.22494041 0.58639098 0.26159647 0.28261274\n",
      "  0.20926051 0.73556176 0.39525753 0.50496495 0.57252811 0.63272375\n",
      "  0.57251078 0.17925069 0.27628917 0.20538891]\n",
      " [0.12973617 0.51191467 0.61329075 0.25596247 0.30543263 0.40305389\n",
      "  0.34201961 0.3253312  0.69863518 0.19135599 0.31223825 0.57694567\n",
      "  0.54783891 0.32351727 0.46702926 0.29765473 0.52622801 0.53037723\n",
      "  0.19821481 0.3819779  0.37496955 0.63359889 0.33720343 0.23359009\n",
      "  0.65842151 0.57869109 0.36883717 0.43829265 0.36488048 0.43953824\n",
      "  0.76898896 0.10978235 0.29745956 0.21034412 0.59220431 0.45135251\n",
      "  0.32996323 0.49183928 0.38835206 0.19899543 0.34421906 0.41143758\n",
      "  0.47604006 0.4457412  0.17880681 0.47119473 0.55828263 0.47006123\n",
      "  0.50065305 0.24058635 0.3902568  0.12938598 0.47154506 0.49985023\n",
      "  0.28857946 0.44823655 0.59668103 0.39517028 0.21163597 0.47376721\n",
      "  0.         0.51392986 0.53336688 0.46456262 0.27125495 0.23000882\n",
      "  0.19165489 0.67217267 0.06926929 0.43534753 0.38551197 0.57964699\n",
      "  0.49336026 0.57958988 0.15569756 0.27367316 0.60189362 0.42075963\n",
      "  0.30146999 0.45481243 0.27555339 0.36285255 0.32075938 0.48656336\n",
      "  0.62152958 0.35917604 0.43930451 0.41976815 0.53719166 0.28162473\n",
      "  0.61441291 0.36164879 0.48650519 0.28985837 0.31273593 0.200235\n",
      "  0.248902   0.3594104  0.19799911 0.3137473 ]\n",
      " [0.63941814 0.64571143 0.68052109 0.2580079  0.78631981 0.89929064\n",
      "  0.22657121 0.44169798 0.57948479 0.65584898 0.69981685 0.1314044\n",
      "  0.33733672 0.21315472 0.86194271 0.24410425 0.32612878 0.77207145\n",
      "  0.6224182  0.35900848 0.7929149  0.18593163 0.20433524 0.5966507\n",
      "  0.36098272 0.18796881 0.86896281 0.91623009 0.77587208 0.67103212\n",
      "  0.57163491 0.55442218 0.49881327 0.63215137 0.30369585 0.93081263\n",
      "  0.74845008 0.37086944 0.58765288 0.70646617 0.7263354  0.88336662\n",
      "  0.48624158 0.89732367 0.6737158  0.47205296 0.30668303 0.14220746\n",
      "  0.87138539 0.69660048 0.90281956 0.60177494 0.20997829 0.22849634\n",
      "  0.74220482 0.33368612 0.8293171  0.88431828 0.68876341 0.22307206\n",
      "  0.51392986 0.         0.63539605 0.11227178 0.5575833  0.74383605\n",
      "  0.69683329 0.58427586 0.56790342 0.3723659  0.16085882 0.68600367\n",
      "  0.79737079 0.07743531 0.6315855  0.78172048 0.19918982 0.49138903\n",
      "  0.79946457 0.84215779 0.57198752 0.53627941 0.3237502  0.17465959\n",
      "  0.24368149 0.69482745 0.43706683 0.75494759 0.48441288 0.23725738\n",
      "  0.13486341 0.8437757  0.2003775  0.65004527 0.47748379 0.70659389\n",
      "  0.50725417 0.36311111 0.33960481 0.20524678]\n",
      " [0.54646084 0.03726091 0.0805413  0.53025164 0.52394698 0.84372274\n",
      "  0.65798853 0.79224665 0.26979487 0.7105293  0.8435859  0.76376723\n",
      "  0.89402207 0.47202045 0.98871043 0.45276188 0.87428326 0.19073706\n",
      "  0.40126571 0.79220853 0.89467939 0.82107143 0.47030663 0.3344749\n",
      "  0.43941597 0.8092448  0.62008932 0.58709442 0.39903029 0.1536152\n",
      "  0.37778186 0.4433412  0.237991   0.3969415  0.89680225 0.59988693\n",
      "  0.85310027 0.87849581 0.89979322 0.66201836 0.34593239 0.88936276\n",
      "  0.15144839 0.52186288 0.67382536 0.16559882 0.38983173 0.71398729\n",
      "  0.38599473 0.75700331 0.76850925 0.65488765 0.43279146 0.79570887\n",
      "  0.45555014 0.82698765 0.2211825  0.59576494 0.71831799 0.42102661\n",
      "  0.53336688 0.63539605 0.         0.52347083 0.7927711  0.64084684\n",
      "  0.55078442 0.22907651 0.59236323 0.26362452 0.49111287 0.05350975\n",
      "  0.26832022 0.64239013 0.47244039 0.71100839 0.82597556 0.15092731\n",
      "  0.57405646 0.97942052 0.27143548 0.8623952  0.71799962 0.47130584\n",
      "  0.86682018 0.28215754 0.19834182 0.29037787 0.18452692 0.56717949\n",
      "  0.62461069 0.55495442 0.76782981 0.3164649  0.79877246 0.55887718\n",
      "  0.75777347 0.28410588 0.44057232 0.50859594]\n",
      " [0.58206592 0.53453692 0.56831052 0.22183765 0.71239595 0.86373499\n",
      "  0.25230271 0.46887253 0.47640324 0.6280105  0.69373056 0.24285218\n",
      "  0.42441353 0.14148525 0.85986572 0.16978245 0.40975867 0.66425298\n",
      "  0.54311423 0.40478442 0.78280138 0.29819868 0.12835315 0.50929024\n",
      "  0.28099436 0.2954036  0.80071499 0.83847738 0.68684725 0.56477633\n",
      "  0.48000326 0.48513842 0.39889245 0.55174274 0.40261059 0.85328496\n",
      "  0.73672736 0.44265915 0.61480655 0.66294528 0.634553   0.85842826\n",
      "  0.37401209 0.8129679  0.63629832 0.35981547 0.2084416  0.22351074\n",
      "  0.77381954 0.67274704 0.85384848 0.56920085 0.10027146 0.31455552\n",
      "  0.66261143 0.39825326 0.72011199 0.81100216 0.65818462 0.11349019\n",
      "  0.46456262 0.11227178 0.52347083 0.         0.56318533 0.69232947\n",
      "  0.63503668 0.4780599  0.52604821 0.26019224 0.07919603 0.57386772\n",
      "  0.69402575 0.13371977 0.5624731  0.73801909 0.30891857 0.38079564\n",
      "  0.73152933 0.84147637 0.47733789 0.56390762 0.35189364 0.07003431\n",
      "  0.35244327 0.59807318 0.32513465 0.65599969 0.3731939  0.21883708\n",
      "  0.15189416 0.76882113 0.2847138  0.55869835 0.49934874 0.64520849\n",
      "  0.51249749 0.25546882 0.27247016 0.15500848]\n",
      " [0.34165038 0.7749211  0.87094613 0.35214354 0.52139569 0.4139746\n",
      "  0.33139809 0.14423506 0.92081259 0.1973344  0.15160805 0.55805641\n",
      "  0.41633279 0.45010697 0.3052258  0.43969315 0.3991616  0.80163126\n",
      "  0.46329995 0.24746905 0.24651296 0.59862624 0.46341725 0.50462128\n",
      "  0.8198511  0.52922525 0.54554872 0.63994332 0.61822112 0.70974419\n",
      "  0.97302483 0.37971673 0.55487272 0.47479223 0.48352849 0.64981258\n",
      "  0.20824602 0.33905171 0.11986905 0.30212725 0.60743959 0.36525986\n",
      "  0.7119714  0.67050706 0.25309349 0.70412797 0.72429997 0.44917092\n",
      "  0.75796948 0.2053279  0.47197047 0.1978345  0.61442318 0.4262142\n",
      "  0.52969092 0.31849625 0.86791722 0.58749436 0.22931918 0.62184114\n",
      "  0.27125495 0.5575833  0.7927711  0.56318533 0.         0.36607183\n",
      "  0.39451584 0.90077236 0.23763615 0.6435033  0.49760035 0.8417369\n",
      "  0.76239197 0.6347311  0.40525242 0.35317415 0.55045662 0.66484683\n",
      "  0.49379549 0.28498217 0.54543485 0.11062257 0.24114752 0.61297199\n",
      "  0.55000286 0.62871607 0.66687768 0.68743355 0.76363835 0.34508561\n",
      "  0.68730505 0.56781314 0.42974505 0.55940555 0.10520506 0.39757878\n",
      "  0.05081746 0.57149316 0.37972977 0.41814459]\n",
      " [0.11462001 0.60999652 0.71971292 0.48582854 0.17977166 0.20460811\n",
      "  0.5616172  0.4820495  0.8582822  0.17106989 0.29725165 0.80190344\n",
      "  0.74099133 0.55085191 0.38462341 0.52346829 0.72045696 0.56592439\n",
      "  0.24002559 0.5658164  0.29712164 0.8567273  0.5641693  0.30756827\n",
      "  0.86377238 0.79802398 0.17983546 0.27820628 0.31549061 0.50646668\n",
      "  0.94348515 0.22965649 0.43867188 0.24390535 0.79519068 0.28666596\n",
      "  0.27113499 0.67383434 0.47805014 0.06440233 0.33429014 0.25125103\n",
      "  0.63244153 0.32148429 0.11306741 0.63185099 0.76489516 0.69257209\n",
      "  0.44885241 0.18650737 0.16181905 0.1777743  0.69014899 0.71109784\n",
      "  0.22056974 0.63817312 0.62329286 0.22415362 0.14632139 0.69066676\n",
      "  0.23000882 0.74383605 0.64084684 0.69232947 0.36607183 0.\n",
      "  0.09010007 0.82558047 0.18160075 0.6232395  0.61313351 0.67540607\n",
      "  0.49681742 0.80947162 0.17195709 0.0704796  0.8212444  0.57046435\n",
      "  0.13672617 0.38305303 0.37302325 0.4766709  0.51946711 0.70905213\n",
      "  0.83645276 0.38415149 0.60890772 0.42161035 0.70070365 0.50995714\n",
      "  0.8431294  0.21216487 0.70178156 0.32905569 0.4537764  0.08254067\n",
      "  0.37636564 0.55064811 0.42124152 0.54336314]\n",
      " [0.0628388  0.51989876 0.62961323 0.44121542 0.12713912 0.29373668\n",
      "  0.53367444 0.49056337 0.77112404 0.21747129 0.35713698 0.76713696\n",
      "  0.73359322 0.49438239 0.46466172 0.46527807 0.71229016 0.47956441\n",
      "  0.15032994 0.56254895 0.37369525 0.82444565 0.50693044 0.21798879\n",
      "  0.78792816 0.77028183 0.17718586 0.25324297 0.239928   0.41695759\n",
      "  0.85838455 0.15433749 0.3524834  0.15385577 0.78142396 0.26516543\n",
      "  0.34176046 0.67256066 0.51265778 0.12592742 0.25042102 0.34063146\n",
      "  0.5459938  0.27612249 0.16041422 0.54604392 0.69027126 0.66129397\n",
      "  0.37842544 0.24818551 0.23534171 0.19670791 0.62299775 0.69082644\n",
      "  0.14454853 0.63212699 0.53864018 0.20605786 0.20481637 0.6223179\n",
      "  0.19165489 0.69683329 0.55078442 0.63503668 0.39451584 0.09010007\n",
      "  0.         0.73776899 0.16989104 0.54334823 0.55635036 0.58537077\n",
      "  0.41438047 0.75801484 0.08558929 0.1604734  0.7934735  0.48362863\n",
      "  0.11062414 0.46085617 0.28373555 0.50246758 0.50715248 0.6449307\n",
      "  0.81309753 0.29662183 0.52487762 0.33806584 0.614848   0.47031858\n",
      "  0.78688388 0.17751007 0.67802235 0.23947144 0.46822461 0.01041319\n",
      "  0.39326922 0.47277432 0.36273274 0.49245622]\n",
      " [0.71962876 0.26596267 0.19353402 0.57830981 0.73359398 1.03007647\n",
      "  0.68472613 0.86424374 0.04094894 0.86196358 0.98160496 0.71474337\n",
      "  0.89660267 0.4918663  1.13920175 0.4860842  0.87993263 0.41533447\n",
      "  0.58877986 0.83640355 1.0468744  0.76350351 0.48382041 0.52169221\n",
      "  0.27847203 0.77185139 0.83252872 0.80958547 0.62027952 0.37889659\n",
      "  0.15011659 0.60565606 0.38811728 0.58766134 0.8803277  0.82292792\n",
      "  1.00212087 0.90156662 0.99260056 0.83456139 0.56424353 1.06436504\n",
      "  0.19670191 0.7474501  0.83620018 0.20098059 0.28151883 0.69850566\n",
      "  0.61500964 0.91081922 0.967286   0.80117187 0.37797718 0.78854747\n",
      "  0.66494946 0.85230161 0.43111623 0.81328618 0.87699466 0.36481164\n",
      "  0.67217267 0.58427586 0.22907651 0.4780599  0.90077236 0.82558047\n",
      "  0.73776899 0.         0.73900639 0.2620964  0.48156571 0.23840823\n",
      "  0.4969689  0.56330353 0.65363936 0.89340705 0.78339497 0.25622904\n",
      "  0.7799312  1.12678715 0.45569314 0.94817308 0.76711277 0.41021759\n",
      "  0.82795487 0.50079913 0.23493202 0.51734302 0.13719449 0.60643857\n",
      "  0.52584592 0.7707956  0.75873928 0.52109821 0.88079607 0.74702755\n",
      "  0.8578041  0.32980217 0.52158553 0.53208489]\n",
      " [0.10955506 0.5688677  0.67273912 0.31098258 0.29515459 0.33806049\n",
      "  0.38002854 0.32107204 0.76619113 0.12305849 0.25135951 0.6208047\n",
      "  0.56625289 0.38620112 0.40087166 0.36181486 0.54520682 0.57369203\n",
      "  0.22811644 0.39358537 0.30796846 0.67525098 0.40015053 0.27681119\n",
      "  0.72705971 0.61645314 0.34154428 0.42311746 0.38085666 0.48866143\n",
      "  0.83780534 0.15266528 0.35962451 0.23911983 0.61711297 0.43491316\n",
      "  0.26379445 0.50336463 0.35749023 0.13857662 0.37043053 0.34267024\n",
      "  0.54249984 0.44245098 0.11135596 0.5381511  0.62691167 0.51110635\n",
      "  0.52040489 0.17215049 0.33572213 0.06287148 0.5381499  0.53057281\n",
      "  0.29425553 0.46411098 0.63879326 0.3750358  0.14237442 0.54083947\n",
      "  0.06926929 0.56790342 0.59236323 0.52604821 0.23763615 0.18160075\n",
      "  0.16989104 0.73900639 0.         0.50446521 0.44751927 0.63681416\n",
      "  0.52794302 0.63636778 0.16761638 0.2138953  0.63967802 0.48593948\n",
      "  0.27897473 0.38960319 0.32732479 0.34024194 0.34139251 0.55167113\n",
      "  0.6553963  0.39558682 0.50710327 0.45207424 0.60472398 0.33165208\n",
      "  0.67416079 0.34733815 0.52053519 0.326903   0.30043364 0.17586954\n",
      "  0.22773027 0.42855363 0.26455881 0.37278487]\n",
      " [0.50982591 0.27706293 0.30989333 0.31649483 0.57733103 0.82225832\n",
      "  0.42796998 0.60215003 0.27806225 0.6264404  0.73516124 0.50183089\n",
      "  0.65141839 0.23386876 0.89756253 0.2249836  0.6331762  0.41769036\n",
      "  0.40892736 0.57678274 0.8077149  0.55826381 0.227686   0.35161498\n",
      "  0.25049246 0.55005787 0.67605896 0.68388189 0.50563627 0.32671082\n",
      "  0.33480508 0.39363085 0.20757382 0.4126183  0.64528168 0.69861612\n",
      "  0.76169773 0.648031   0.7316591  0.61810828 0.44750645 0.84331793\n",
      "  0.1139696  0.63969027 0.61015159 0.09984447 0.16234074 0.46101325\n",
      "  0.55997615 0.67565579 0.77864769 0.56397337 0.17014136 0.54731586\n",
      "  0.51407555 0.59763764 0.46810586 0.67099842 0.64648717 0.15902204\n",
      "  0.43534753 0.3723659  0.26362452 0.26019224 0.6435033  0.6232395\n",
      "  0.54334823 0.2620964  0.50446521 0.         0.23638646 0.31367886\n",
      "  0.46285837 0.37984009 0.45831342 0.68531781 0.56567809 0.12914751\n",
      "  0.61274437 0.88342983 0.29587597 0.68660225 0.50628673 0.2086851\n",
      "  0.60767776 0.39562914 0.06598668 0.44206367 0.12994988 0.34589906\n",
      "  0.36693944 0.62658464 0.51824514 0.37993071 0.61909537 0.55355753\n",
      "  0.59894384 0.07596658 0.26406505 0.27391458]\n",
      " [0.50298724 0.49713645 0.54482606 0.14835929 0.63610533 0.78543237\n",
      "  0.20942361 0.41551184 0.48662487 0.55139911 0.62265574 0.27782073\n",
      "  0.41675752 0.06229931 0.7893539  0.09121028 0.39928852 0.61558181\n",
      "  0.46829198 0.36483379 0.71004372 0.3377829  0.04942317 0.43819221\n",
      "  0.32675042 0.31861011 0.72317148 0.76352577 0.61699704 0.51317941\n",
      "  0.50735678 0.40734371 0.33825602 0.47736859 0.40895602 0.77826996\n",
      "  0.6636834  0.42051085 0.55879147 0.58406115 0.56646759 0.78180904\n",
      "  0.34806568 0.74070511 0.55807437 0.33441829 0.23851188 0.22473876\n",
      "  0.71054901 0.59682564 0.77465823 0.49189627 0.12186861 0.31120421\n",
      "  0.58811666 0.37204549 0.67471649 0.7346556  0.58096061 0.13205632\n",
      "  0.38551197 0.16085882 0.49111287 0.07919603 0.49760035 0.61313351\n",
      "  0.55635036 0.48156571 0.44751927 0.23638646 0.         0.54349112\n",
      "  0.63745242 0.20546854 0.48480008 0.65906446 0.33622119 0.34227325\n",
      "  0.65385706 0.77151376 0.41133555 0.50889181 0.30318578 0.11537164\n",
      "  0.37604796 0.53400967 0.29586074 0.59410858 0.36197086 0.15355976\n",
      "  0.23062377 0.69289627 0.2819768  0.49022412 0.44244273 0.56648828\n",
      "  0.44743516 0.20967633 0.19362931 0.0805399 ]\n",
      " [0.58535265 0.06795109 0.05163848 0.58366038 0.54862051 0.87650378\n",
      "  0.71149733 0.84424306 0.27914324 0.75326514 0.88816617 0.81498117\n",
      "  0.94745291 0.52531965 1.03042445 0.50623111 0.92774133 0.17930917\n",
      "  0.43763544 0.84538747 0.93637838 0.87185388 0.52344998 0.37227242\n",
      "  0.47350585 0.86125984 0.64216779 0.60114168 0.41637159 0.17364068\n",
      "  0.38841216 0.48612038 0.28708321 0.43223104 0.94982397 0.61322669\n",
      "  0.89561295 0.93197837 0.94997799 0.70010747 0.36701084 0.92550754\n",
      "  0.20012705 0.53240731 0.71441025 0.21436514 0.43164728 0.76679518\n",
      "  0.38486803 0.79899126 0.7968481  0.69896296 0.48154737 0.84888863\n",
      "  0.48118721 0.88046683 0.19371246 0.61437513 0.75946994 0.46949771\n",
      "  0.57964699 0.68600367 0.05350975 0.57386772 0.8417369  0.67540607\n",
      "  0.58537077 0.23840823 0.63681416 0.31367886 0.54349112 0.\n",
      "  0.26594497 0.69063402 0.50982909 0.74583956 0.87773872 0.20431654\n",
      "  0.60035622 1.02179132 0.31189059 0.91327199 0.77113039 0.51993194\n",
      "  0.91886741 0.30448626 0.24923045 0.30152488 0.22290174 0.62065657\n",
      "  0.6706008  0.57520665 0.82092659 0.34735356 0.85009248 0.59297265\n",
      "  0.80769228 0.33724958 0.49324316 0.56202028]\n",
      " [0.44060399 0.23225801 0.31728252 0.61309211 0.33338927 0.67944435\n",
      "  0.74404177 0.81020327 0.53782422 0.62143115 0.76359216 0.91269792\n",
      "  0.98322763 0.59542154 0.87896324 0.56728781 0.9616809  0.09097851\n",
      "  0.29983957 0.84386877 0.78798423 0.97351577 0.60000702 0.26196514\n",
      "  0.6870212  0.944225   0.41172919 0.35002772 0.18701138 0.1369664\n",
      "  0.646088   0.38362026 0.29997981 0.2888774  1.00542565 0.36031934\n",
      "  0.75465635 0.94669857 0.88100909 0.54018452 0.16411533 0.74366983\n",
      "  0.37884994 0.27603859 0.5697108  0.38966472 0.6184642  0.83640122\n",
      "  0.11894788 0.65890877 0.58325207 0.58153425 0.62391856 0.90254651\n",
      "  0.27716049 0.89689135 0.12990571 0.37436012 0.61574935 0.61508524\n",
      "  0.49336026 0.79737079 0.26832022 0.69402575 0.76239197 0.49681742\n",
      "  0.41438047 0.4969689  0.52794302 0.46285837 0.63745242 0.26594497\n",
      "  0.         0.82582975 0.365131   0.56446273 0.96456408 0.33563322\n",
      "  0.38789948 0.8751944  0.24430061 0.85605716 0.77175093 0.66070695\n",
      "  0.99920978 0.13425604 0.40271594 0.07694822 0.43589379 0.65303289\n",
      "  0.82383538 0.34200352 0.87900245 0.20350567 0.80319921 0.41850478\n",
      "  0.74223995 0.44007659 0.50582919 0.62121456]\n",
      " [0.70241746 0.65689306 0.67938544 0.32538979 0.84130599 0.97040647\n",
      "  0.3039428  0.51891577 0.5533011  0.72843193 0.77617402 0.16563591\n",
      "  0.39764722 0.26529014 0.93882229 0.29571172 0.38896766 0.7925902\n",
      "  0.67374672 0.43462025 0.86890854 0.20353123 0.25397772 0.64213377\n",
      "  0.31648229 0.23024753 0.92726393 0.96899414 0.82014866 0.69492409\n",
      "  0.53188723 0.6114578  0.53226814 0.68276567 0.35409811 0.98373695\n",
      "  0.82417696 0.43906552 0.6646664  0.77483218 0.76815601 0.95700191\n",
      "  0.49103968 0.94542905 0.74386624 0.47684255 0.28180925 0.21278964\n",
      "  0.90730165 0.77015111 0.96969716 0.673038   0.20975903 0.29254346\n",
      "  0.79354907 0.40510743 0.84635858 0.93979902 0.76077433 0.22136475\n",
      "  0.57958988 0.07743531 0.64239013 0.13371977 0.6347311  0.80947162\n",
      "  0.75801484 0.56330353 0.63636778 0.37984009 0.20546854 0.69063402\n",
      "  0.82582975 0.         0.68895632 0.85019827 0.23456236 0.50583731\n",
      "  0.85782266 0.91913089 0.61105098 0.61332866 0.40111691 0.17119893\n",
      "  0.27947561 0.73170926 0.44582442 0.78931041 0.47810009 0.30891001\n",
      "  0.06152289 0.89822215 0.26656603 0.69222604 0.55486499 0.76798959\n",
      "  0.58431798 0.3859522  0.39636617 0.26632748]\n",
      " [0.07773893 0.44316091 0.55217198 0.3814871  0.15710245 0.37653634\n",
      "  0.4867346  0.47866212 0.6865094  0.25736229 0.39923621 0.71117571\n",
      "  0.70189234 0.42375468 0.52546496 0.3936804  0.68017207 0.41955048\n",
      "  0.0727331  0.5376049  0.43207595 0.77008261 0.43555079 0.13797784\n",
      "  0.70401565 0.72019652 0.23838148 0.2902938  0.2137693  0.34632577\n",
      "  0.77297554 0.07750183 0.26727511 0.08032293 0.74342252 0.30421273\n",
      "  0.39485866 0.64736275 0.52510515 0.19032998 0.20417648 0.41702414\n",
      "  0.46096333 0.2908376  0.20937467 0.46077057 0.60697679 0.60936439\n",
      "  0.35288663 0.29775617 0.32072067 0.21688757 0.54385982 0.6481238\n",
      "  0.13288912 0.60319944 0.48226201 0.25344706 0.25561366 0.5424615\n",
      "  0.15569756 0.6315855  0.47244039 0.5624731  0.40525242 0.17195709\n",
      "  0.08558929 0.65363936 0.16761638 0.45831342 0.48480008 0.50982909\n",
      "  0.365131   0.68895632 0.         0.24055788 0.74315173 0.39877772\n",
      "  0.16907059 0.51899974 0.20219001 0.50669333 0.47516589 0.56760682\n",
      "  0.76637856 0.23670461 0.43929855 0.28838406 0.52960467 0.41431992\n",
      "  0.71422788 0.21488174 0.63241165 0.17171164 0.4626995  0.09557404\n",
      "  0.39315405 0.3885181  0.29275591 0.42634446]\n",
      " [0.17595754 0.68033563 0.79000692 0.52483962 0.23968654 0.13742088\n",
      "  0.58756558 0.48190761 0.92553329 0.15756885 0.25804423 0.8303285\n",
      "  0.74920391 0.59715646 0.32280594 0.57124779 0.72947615 0.63524905\n",
      "  0.30990688 0.5731685  0.24020861 0.88290973 0.61086921 0.37727965\n",
      "  0.92224513 0.82121534 0.2148535  0.31882158 0.38094272 0.57691728\n",
      "  1.00897925 0.29248617 0.50571449 0.31411219 0.80779376 0.32475129\n",
      "  0.22159051 0.67805344 0.45648877 0.07536877 0.40298577 0.18103975\n",
      "  0.69931969 0.37207015 0.11335363 0.6982382  0.82272623 0.71934158\n",
      "  0.51075411 0.15352169 0.12593659 0.18851587 0.74289216 0.72944767\n",
      "  0.28737782 0.64655275 0.69179273 0.26409512 0.12391135 0.74426143\n",
      "  0.27367316 0.78172048 0.71100839 0.73801909 0.35317415 0.0704796\n",
      "  0.1604734  0.89340705 0.2138953  0.68531781 0.65906446 0.74583956\n",
      "  0.56446273 0.85019827 0.24055788 0.         0.84427956 0.63772405\n",
      "  0.19018317 0.32345446 0.44243013 0.46258825 0.5345834  0.75953049\n",
      "  0.85603526 0.45407672 0.67400959 0.48992524 0.76703676 0.54510995\n",
      "  0.88720194 0.26202318 0.72285307 0.39952593 0.44960576 0.15301846\n",
      "  0.37272841 0.61158958 0.47060791 0.58590565]\n",
      " [0.73156128 0.83317855 0.87542154 0.36656094 0.90010937 0.94326855\n",
      "  0.26025764 0.40990429 0.77792238 0.69827862 0.70198491 0.06973908\n",
      "  0.19125116 0.36960979 0.84866853 0.39727969 0.19191625 0.94945733\n",
      "  0.75086596 0.30679239 0.79696947 0.05495459 0.36630683 0.73916971\n",
      "  0.55019044 0.02324133 0.97057957 1.03344464 0.9162499  0.84584074\n",
      "  0.76461411 0.67027538 0.66505582 0.76201841 0.1288619  1.04731723\n",
      "  0.7576259  0.25758185 0.53831883 0.77225818 0.87272189 0.90943244\n",
      "  0.6794865  1.02680273 0.73110486 0.66544962 0.50466291 0.13414503\n",
      "  1.02601959 0.72971316 0.96997698 0.65588089 0.40843854 0.12481345\n",
      "  0.86701333 0.24633665 1.00986098 0.9944012  0.73377116 0.42161348\n",
      "  0.60189362 0.19918982 0.82597556 0.30891857 0.55045662 0.8212444\n",
      "  0.7934735  0.78339497 0.63967802 0.56567809 0.33622119 0.87773872\n",
      "  0.96456408 0.23456236 0.74315173 0.84427956 0.         0.67823165\n",
      "  0.90259148 0.82725919 0.72731627 0.49111725 0.31575097 0.37377986\n",
      "  0.04520204 0.85081429 0.62867378 0.91395018 0.68209519 0.33023594\n",
      "  0.29112987 0.95775215 0.12265689 0.79756172 0.45030706 0.80212832\n",
      "  0.50627711 0.54589624 0.47077146 0.34395097]\n",
      " [0.46348513 0.15496194 0.21647643 0.38145978 0.49206844 0.77468496\n",
      "  0.50775621 0.65096919 0.28784342 0.60839549 0.73256761 0.61759858\n",
      "  0.74313953 0.32111982 0.8868082  0.30198923 0.72345431 0.28864466\n",
      "  0.33657573 0.64473589 0.79378183 0.67598884 0.31960865 0.27104033\n",
      "  0.35795377 0.66087618 0.59203589 0.58486389 0.39919986 0.19881266\n",
      "  0.37659462 0.34948471 0.13203836 0.33680595 0.74621241 0.59917776\n",
      "  0.74971017 0.72868834 0.76614675 0.57833242 0.34049826 0.80814197\n",
      "  0.06279524 0.53298246 0.58059475 0.06577001 0.28316509 0.56383343\n",
      "  0.43740186 0.65690593 0.71577079 0.54858933 0.29724333 0.64490673\n",
      "  0.42484764 0.6772368  0.34052793 0.57947322 0.62203197 0.28684724\n",
      "  0.42075963 0.49138903 0.15092731 0.38079564 0.66484683 0.57046435\n",
      "  0.48362863 0.25622904 0.48593948 0.12914751 0.34227325 0.20431654\n",
      "  0.33563322 0.50583731 0.39877772 0.63772405 0.67823165 0.\n",
      "  0.53437191 0.87524385 0.2064652  0.72594773 0.57092764 0.33549592\n",
      "  0.71831943 0.28260014 0.06712611 0.32153932 0.13266624 0.41760068\n",
      "  0.49565892 0.5354919  0.61714145 0.28228829 0.66061863 0.49313862\n",
      "  0.62605477 0.13357141 0.29759994 0.35770622]\n",
      " [0.1734604  0.53965752 0.64861166 0.54651573 0.05453179 0.29194025\n",
      "  0.64323336 0.59790723 0.81610661 0.30425357 0.43396841 0.87452824\n",
      "  0.84403062 0.59271778 0.51294374 0.56271681 0.82276666 0.46678654\n",
      "  0.20384326 0.67242605 0.4294364  0.93244326 0.60458703 0.26433191\n",
      "  0.86209317 0.87943814 0.06950676 0.14635089 0.20089788 0.42677283\n",
      "  0.91054401 0.24651587 0.40973645 0.20043429 0.89203967 0.1570052\n",
      "  0.40654053 0.7823031  0.60920847 0.19891747 0.23635511 0.36077232\n",
      "  0.59703261 0.18480891 0.24501542 0.59950229 0.76727898 0.76987497\n",
      "  0.32254026 0.32316005 0.19787864 0.2975742  0.71052572 0.80114284\n",
      "  0.11918769 0.74239254 0.51756731 0.09609373 0.28233105 0.70849024\n",
      "  0.30146999 0.79946457 0.57405646 0.73152933 0.49379549 0.13672617\n",
      "  0.11062414 0.7799312  0.27897473 0.61274437 0.65385706 0.60035622\n",
      "  0.38789948 0.85782266 0.16907059 0.19018317 0.90259148 0.53437191\n",
      "  0.         0.51354133 0.32790696 0.60355392 0.61772436 0.73542795\n",
      "  0.92295433 0.2963923  0.58447487 0.31788724 0.66699984 0.57725\n",
      "  0.88325532 0.07563368 0.78796432 0.25952606 0.57369231 0.10339954\n",
      "  0.49749413 0.54736145 0.46148032 0.59428494]\n",
      " [0.44128433 0.95398556 1.05995816 0.62329574 0.56164857 0.27411429\n",
      "  0.6162864  0.41777864 1.15248031 0.26892935 0.15003886 0.84030332\n",
      "  0.67295539 0.7186323  0.02186104 0.7031147  0.65933927 0.93733194\n",
      "  0.59126466 0.52047229 0.08727692 0.87761304 0.73257552 0.65206409\n",
      "  1.08498674 0.80706418 0.53315661 0.63749147 0.69780535 0.86439173\n",
      "  1.21820805 0.53609548 0.74908223 0.59932143 0.74540087 0.64155203\n",
      "  0.1263341  0.59281026 0.299645   0.3350113  0.71113493 0.18848588\n",
      "  0.93083639 0.69492829 0.30969767 0.92582169 0.98651198 0.73293136\n",
      "  0.83185089 0.22288352 0.38145287 0.32678213 0.88289692 0.70246534\n",
      "  0.60224921 0.5852288  0.99825778 0.58354763 0.26362909 0.88880913\n",
      "  0.45481243 0.84215779 0.97942052 0.84147637 0.28498217 0.38305303\n",
      "  0.46085617 1.12678715 0.38960319 0.88342983 0.77151376 1.02179132\n",
      "  0.8751944  0.91913089 0.51899974 0.32345446 0.82725919 0.87524385\n",
      "  0.51354133 0.         0.70994861 0.33991956 0.52517173 0.88607807\n",
      "  0.82164816 0.75373196 0.89310043 0.79871565 0.99123461 0.6227315\n",
      "  0.97070544 0.5851633  0.70934704 0.69062931 0.37758369 0.45713462\n",
      "  0.33495552 0.80788235 0.62465937 0.69099854]\n",
      " [0.27508045 0.24420221 0.35171142 0.3698736  0.28643261 0.57739965\n",
      "  0.50011237 0.57460467 0.49041931 0.44163658 0.57805954 0.67936712\n",
      "  0.7389535  0.36214653 0.71853938 0.33234563 0.71739341 0.26026452\n",
      "  0.13359423 0.60147288 0.62449106 0.74046949 0.36884529 0.06607319\n",
      "  0.54587826 0.70625364 0.38635162 0.388006   0.21388194 0.16431543\n",
      "  0.58281481 0.17510353 0.08855935 0.13197076 0.76227144 0.40274212\n",
      "  0.58382948 0.70301401 0.65998157 0.3908014  0.15836876 0.61903227\n",
      "  0.26914921 0.34626791 0.40276292 0.27168105 0.45701889 0.59673668\n",
      "  0.30004612 0.48711645 0.51162583 0.3886349  0.425952   0.65967244\n",
      "  0.22037745 0.65295861 0.3272841  0.37677808 0.44764021 0.42023748\n",
      "  0.27555339 0.57198752 0.27143548 0.47733789 0.54543485 0.37302325\n",
      "  0.28373555 0.45569314 0.32732479 0.29587597 0.41133555 0.31189059\n",
      "  0.24430061 0.61105098 0.20219001 0.44243013 0.72731627 0.2064652\n",
      "  0.32790696 0.70994861 0.         0.62938604 0.52865899 0.45845478\n",
      "  0.76005547 0.12370756 0.25889778 0.18674369 0.33910494 0.40969711\n",
      "  0.61988243 0.33242566 0.63685765 0.08510633 0.57182318 0.29259134\n",
      "  0.51787149 0.24276944 0.26229355 0.38352519]\n",
      " [0.44742063 0.84801227 0.93823004 0.37557707 0.62958806 0.51408843\n",
      "  0.31430784 0.09539748 0.96424202 0.30772291 0.23785995 0.51129497\n",
      "  0.33350235 0.47172358 0.36169452 0.46842182 0.31946364 0.88887148\n",
      "  0.55997443 0.18658217 0.32590583 0.54313652 0.483527   0.59508396\n",
      "  0.83563933 0.47198327 0.65606123 0.74983388 0.72045575 0.79286685\n",
      "  1.00584466 0.47262652 0.62706052 0.57186658 0.40552712 0.75989131\n",
      "  0.29626667 0.25345872 0.05142808 0.41274982 0.70562952 0.45672474\n",
      "  0.76722944 0.77857243 0.36371309 0.75789989 0.74520882 0.41038925\n",
      "  0.85926522 0.31220585 0.57929103 0.30646083 0.63024231 0.36706766\n",
      "  0.63438646 0.24627244 0.95572363 0.69766313 0.33903031 0.63945048\n",
      "  0.36285255 0.53627941 0.8623952  0.56390762 0.11062257 0.4766709\n",
      "  0.50246758 0.94817308 0.34024194 0.68660225 0.50889181 0.91327199\n",
      "  0.85605716 0.61332866 0.50669333 0.46258825 0.49111725 0.72594773\n",
      "  0.60355392 0.33991956 0.62938604 0.         0.21399412 0.62200785\n",
      "  0.48278127 0.72181175 0.71878425 0.78260933 0.81244851 0.356963\n",
      "  0.67049674 0.67713534 0.37755242 0.65256971 0.06775501 0.50603782\n",
      "  0.11414508 0.6193847  0.43015117 0.43476438]\n",
      " [0.44438692 0.71097285 0.787402   0.1912385  0.6258966  0.6280797\n",
      "  0.10044571 0.11866351 0.77824127 0.38429175 0.39068524 0.31742289\n",
      "  0.22710288 0.27642597 0.545789   0.28131295 0.20554841 0.78404179\n",
      "  0.50408338 0.07448476 0.48578382 0.36078267 0.2860905  0.51547335\n",
      "  0.62803108 0.29346699 0.68228299 0.75816448 0.67567837 0.68082046\n",
      "  0.80878481 0.41407805 0.49866988 0.51632088 0.27587    0.77089172\n",
      "  0.4445794  0.17587586 0.26538459 0.46534619 0.64455052 0.59402172\n",
      "  0.60120646 0.7659695  0.42134107 0.58993551 0.54168423 0.20802533\n",
      "  0.80389254 0.41413968 0.6604867  0.34660082 0.42495587 0.19572128\n",
      "  0.60730854 0.12857498 0.850368   0.71308983 0.41998458 0.43522578\n",
      "  0.32075938 0.3237502  0.71799962 0.35189364 0.24114752 0.51946711\n",
      "  0.50715248 0.76711277 0.34139251 0.50628673 0.30318578 0.77113039\n",
      "  0.77175093 0.40111691 0.47516589 0.5345834  0.31575097 0.57092764\n",
      "  0.61772436 0.52517173 0.52865899 0.21399412 0.         0.41287715\n",
      "  0.32260485 0.64179832 0.54940332 0.70650198 0.63591553 0.1606818\n",
      "  0.45724675 0.68152292 0.19315401 0.57706297 0.1537552  0.5144358\n",
      "  0.19355468 0.44838299 0.27977243 0.23669247]\n",
      " [0.59608793 0.48574762 0.51041113 0.26283596 0.71144221 0.88934424\n",
      "  0.3150873  0.52780006 0.40724404 0.66047829 0.73687452 0.30591662\n",
      "  0.49444751 0.16890429 0.90369628 0.19011849 0.4797551  0.62333402\n",
      "  0.53954345 0.46955281 0.82321906 0.35801452 0.15471668 0.49821965\n",
      "  0.21540298 0.3616915  0.80371802 0.83302131 0.67161856 0.52759247\n",
      "  0.41024891 0.49162913 0.37455364 0.54697478 0.47172279 0.84792497\n",
      "  0.77670572 0.51174807 0.67233125 0.68540834 0.6168221  0.89035768\n",
      "  0.320062   0.80146871 0.66297306 0.30584446 0.13844101 0.29351903\n",
      "  0.74798018 0.70692197 0.87081402 0.59976095 0.03856035 0.38457224\n",
      "  0.657083   0.4665874  0.67592928 0.80967166 0.68869727 0.05047478\n",
      "  0.48656336 0.17465959 0.47130584 0.07003431 0.61297199 0.70905213\n",
      "  0.6449307  0.41021759 0.55167113 0.2086851  0.11537164 0.51993194\n",
      "  0.66070695 0.17119893 0.56760682 0.75953049 0.37377986 0.33549592\n",
      "  0.73542795 0.88607807 0.45845478 0.62200785 0.41287715 0.\n",
      "  0.41805578 0.57477831 0.27467125 0.62926321 0.31132719 0.26861995\n",
      "  0.16342586 0.76642284 0.35473774 0.54241767 0.55614163 0.65528297\n",
      "  0.56279303 0.22171638 0.28892265 0.19537593]\n",
      " [0.75070318 0.87315022 0.91756043 0.39490338 0.92284693 0.95020691\n",
      "  0.27998722 0.40700626 0.82280918 0.70689601 0.70148771 0.11494081\n",
      "  0.16530775 0.40593744 0.84326403 0.43258496 0.17062247 0.98663092\n",
      "  0.77766615 0.30306084 0.79595712 0.08816267 0.40358096 0.76907131\n",
      "  0.59532028 0.0576359  0.9902611  1.05636213 0.94484401 0.88259353\n",
      "  0.80980828 0.69501345 0.70047046 0.78905385 0.09499304 1.07002208\n",
      "  0.75814411 0.23884941 0.5280342  0.78530285 0.90283783 0.91255085\n",
      "  0.72128592 1.05252421 0.74268169 0.70731239 0.54961102 0.16334967\n",
      "  1.05753987 0.73591616 0.98195995 0.66756904 0.45229288 0.12688492\n",
      "  0.89235644 0.23655406 1.04774832 1.01587044 0.74258421 0.46549138\n",
      "  0.62152958 0.24368149 0.86682018 0.35244327 0.55000286 0.83645276\n",
      "  0.81309753 0.82795487 0.6553963  0.60767776 0.37604796 0.91886741\n",
      "  0.99920978 0.27947561 0.76637856 0.85603526 0.04520204 0.71831943\n",
      "  0.92295433 0.82164816 0.76005547 0.48278127 0.32260485 0.41805578\n",
      "  0.         0.88317815 0.67009418 0.94679825 0.7253989  0.35710561\n",
      "  0.33542063 0.98025481 0.13514332 0.82825126 0.44734134 0.82144887\n",
      "  0.50813147 0.5854435  0.50093706 0.37800421]\n",
      " [0.31392515 0.2462701  0.35361995 0.49134621 0.24417644 0.57884581\n",
      "  0.62011405 0.67658289 0.53957442 0.49405382 0.63580316 0.80307035\n",
      "  0.85712643 0.48574616 0.75904419 0.45602711 0.8354199  0.1836167\n",
      "  0.16792725 0.71304368 0.66650985 0.864172   0.49223642 0.12822004\n",
      "  0.63926777 0.82965187 0.33835651 0.30907451 0.11980891 0.13092223\n",
      "  0.64166932 0.24949008 0.20032443 0.15773863 0.88317822 0.32267072\n",
      "  0.63076233 0.81737391 0.74707065 0.42011821 0.06386782 0.63510633\n",
      "  0.33967347 0.2513636  0.44505991 0.346609   0.55774124 0.71982914\n",
      "  0.17659618 0.53395989 0.49374351 0.45091555 0.54055309 0.78098804\n",
      "  0.17727412 0.76818908 0.24555754 0.31388864 0.49136213 0.53366906\n",
      "  0.35917604 0.69482745 0.28215754 0.59807318 0.62871607 0.38415149\n",
      "  0.29662183 0.50079913 0.39558682 0.39562914 0.53400967 0.30448626\n",
      "  0.13425604 0.73170926 0.23670461 0.45407672 0.85081429 0.28260014\n",
      "  0.2963923  0.75373196 0.12370756 0.72181175 0.64179832 0.57477831\n",
      "  0.88317815 0.         0.34615772 0.06489152 0.4068849  0.53092316\n",
      "  0.73756566 0.27279792 0.75880027 0.06935609 0.66906933 0.30245306\n",
      "  0.60802504 0.3544194  0.38376003 0.50714584]\n",
      " [0.49818127 0.21107642 0.24916067 0.35816569 0.54505246 0.81142954\n",
      "  0.4774814  0.63842849 0.25941005 0.63014641 0.74715109 0.56575542\n",
      "  0.70680366 0.28494365 0.90597816 0.27097336 0.68793408 0.35348404\n",
      "  0.38261513 0.62173056 0.81426391 0.62279793 0.28085648 0.3202215\n",
      "  0.29311202 0.61246218 0.64482751 0.6438996  0.46067452 0.26583649\n",
      "  0.33502476 0.38193005 0.17485842 0.38448776 0.70427234 0.65840888\n",
      "  0.76907242 0.69879232 0.7617051  0.61058642 0.40198476 0.83906849\n",
      "  0.05302017 0.59488015 0.60787929 0.04063371 0.21607005 0.52033754\n",
      "  0.5040988  0.67924953 0.75947063 0.56865335 0.23612535 0.60482013\n",
      "  0.47926664 0.64779852 0.4026168  0.63543177 0.64702762 0.22494041\n",
      "  0.43930451 0.43706683 0.19834182 0.32513465 0.66687768 0.60890772\n",
      "  0.52487762 0.23493202 0.50710327 0.06598668 0.29586074 0.24923045\n",
      "  0.40271594 0.44582442 0.43929855 0.67400959 0.62867378 0.06712611\n",
      "  0.58447487 0.89310043 0.25889778 0.71878425 0.54940332 0.27467125\n",
      "  0.67009418 0.34615772 0.         0.38765007 0.0982084  0.39108952\n",
      "  0.43227942 0.5911441  0.57619232 0.33949331 0.65202376 0.53477614\n",
      "  0.62488567 0.1011085  0.28924718 0.32392454]\n",
      " [0.36367057 0.25313449 0.35282736 0.55574824 0.26349385 0.60788416\n",
      "  0.68483705 0.73959829 0.55740271 0.54449313 0.68665658 0.86521702\n",
      "  0.92200872 0.54750881 0.80272753 0.5181487  0.90030518 0.14902058\n",
      "  0.22422901 0.77756258 0.71147434 0.92629222 0.5534907  0.19193419\n",
      "  0.67932333 0.89295216 0.34837234 0.29965524 0.11956958 0.13857868\n",
      "  0.6629754  0.31003191 0.25711161 0.2129826  0.94778095 0.3117047\n",
      "  0.67785726 0.8821358  0.80642006 0.46372219 0.08765306 0.66989512\n",
      "  0.37357112 0.23173879 0.4928123  0.3823123  0.60266048 0.78347559\n",
      "  0.11878968 0.58201287 0.51508723 0.50499182 0.59400757 0.84548512\n",
      "  0.20349969 0.83301661 0.20188727 0.31572463 0.53887802 0.58639098\n",
      "  0.41976815 0.75494759 0.29037787 0.65599969 0.68743355 0.42161035\n",
      "  0.33806584 0.51734302 0.45207424 0.44206367 0.59410858 0.30152488\n",
      "  0.07694822 0.78931041 0.28838406 0.48992524 0.91395018 0.32153932\n",
      "  0.31788724 0.79871565 0.18674369 0.78260933 0.70650198 0.62926321\n",
      "  0.94679825 0.06489152 0.38765007 0.         0.43724626 0.59540077\n",
      "  0.79257691 0.27930784 0.82309991 0.1312024  0.73111225 0.34246318\n",
      "  0.6685852  0.40768314 0.44812033 0.5700555 ]\n",
      " [0.59175066 0.21229016 0.2027994  0.44557472 0.6242735  0.9043243\n",
      "  0.5577613  0.72984611 0.16146982 0.72778231 0.84535938 0.61571336\n",
      "  0.77859531 0.3636801  1.0040239  0.3547209  0.7608036  0.36958429\n",
      "  0.46886162 0.7066702  0.91215679 0.66917791 0.3571076  0.40365651\n",
      "  0.25543572 0.66810999 0.72420439 0.71350877 0.52579314 0.30257972\n",
      "  0.24405379 0.47619361 0.2623653  0.46933947 0.76897172 0.72759391\n",
      "  0.86706778 0.77740462 0.8563476  0.70536452 0.46750104 0.93454103\n",
      "  0.06997787 0.65822987 0.70431648 0.06885393 0.20930337 0.58497272\n",
      "  0.54733138 0.77682384 0.84786567 0.66647853 0.27456674 0.67296357\n",
      "  0.55671749 0.72719421 0.40554755 0.71040324 0.74407027 0.26159647\n",
      "  0.53719166 0.48441288 0.18452692 0.3731939  0.76363835 0.70070365\n",
      "  0.614848   0.13719449 0.60472398 0.12994988 0.36197086 0.22290174\n",
      "  0.43589379 0.47810009 0.52960467 0.76703676 0.68209519 0.13266624\n",
      "  0.66699984 0.99123461 0.33910494 0.81244851 0.63591553 0.31132719\n",
      "  0.7253989  0.4068849  0.0982084  0.43724626 0.         0.475703\n",
      "  0.45235111 0.66665344 0.64354391 0.41339671 0.74526692 0.62449919\n",
      "  0.72088613 0.19321854 0.38469277 0.40378619]\n",
      " [0.41022408 0.56362159 0.63331221 0.0399773  0.57141911 0.66212018\n",
      "  0.09268546 0.26521779 0.6177411  0.41952241 0.47545272 0.29731547\n",
      "  0.33340438 0.11655912 0.64125033 0.12100048 0.31246053 0.65251971\n",
      "  0.42086178 0.23107927 0.56562212 0.35579511 0.12731152 0.41303238\n",
      "  0.47960032 0.30761537 0.64615996 0.70438357 0.58780367 0.54771935\n",
      "  0.65114807 0.34036098 0.36236891 0.43213901 0.35257474 0.71843181\n",
      "  0.51993188 0.31132737 0.40626023 0.47001538 0.54677747 0.64839432\n",
      "  0.44347187 0.69657231 0.43649552 0.43171964 0.38824582 0.19609172\n",
      "  0.70304869 0.46157993 0.66725928 0.36459826 0.27371518 0.25008482\n",
      "  0.53679816 0.25981069 0.71718158 0.66701615 0.45195929 0.28261274\n",
      "  0.28162473 0.23725738 0.56717949 0.21883708 0.34508561 0.50995714\n",
      "  0.47031858 0.60643857 0.33165208 0.34589906 0.15355976 0.62065657\n",
      "  0.65303289 0.30891001 0.41431992 0.54510995 0.33023594 0.41760068\n",
      "  0.57725    0.6227315  0.40969711 0.356963   0.1606818  0.26861995\n",
      "  0.35710561 0.53092316 0.39108952 0.59540077 0.475703   0.\n",
      "  0.35342821 0.6292009  0.22827068 0.47305388 0.28992164 0.47957027\n",
      "  0.2946207  0.2906217  0.1474055  0.07801334]\n",
      " [0.73354237 0.64222361 0.65510445 0.36492998 0.86335188 1.01068516\n",
      "  0.35850744 0.57561897 0.51238866 0.77142202 0.82604068 0.22360649\n",
      "  0.45875873 0.29282273 0.99004814 0.32160582 0.45034793 0.78425834\n",
      "  0.69318866 0.49384546 0.91776246 0.254914   0.28000715 0.65639064\n",
      "  0.26658476 0.28873415 0.95237603 0.98830633 0.83204641 0.69008989\n",
      "  0.48248287 0.63694666 0.53724273 0.70146091 0.41349079 1.00315651\n",
      "  0.87249    0.50054508 0.72190835 0.81193024 0.77813539 1.00118211\n",
      "  0.47354102 0.9603078  0.78337849 0.45958856 0.24727881 0.27378607\n",
      "  0.91125385 0.81454421 1.00438076 0.71430989 0.19994448 0.35404675\n",
      "  0.81224356 0.46616519 0.83489493 0.96194708 0.80282555 0.20926051\n",
      "  0.61441291 0.13486341 0.62461069 0.15189416 0.68730505 0.8431294\n",
      "  0.78688388 0.52584592 0.67416079 0.36693944 0.23062377 0.6706008\n",
      "  0.82383538 0.06152289 0.71422788 0.88720194 0.29112987 0.49565892\n",
      "  0.88325532 0.97070544 0.61988243 0.67049674 0.45724675 0.16342586\n",
      "  0.33542063 0.73756566 0.43227942 0.79257691 0.45235111 0.35342821\n",
      "  0.         0.91948258 0.32807309 0.70307596 0.61071893 0.79704296\n",
      "  0.63663254 0.38513384 0.42422174 0.30138321]\n",
      " [0.23873662 0.51895433 0.6252804  0.59616766 0.05781362 0.35022664\n",
      "  0.70031467 0.66805371 0.80862416 0.37969097 0.50939715 0.92599652\n",
      "  0.90851938 0.6332607  0.58354001 0.60260781 0.88704458 0.42692763\n",
      "  0.22688445 0.73899768 0.502182   0.98496205 0.6442578  0.2753711\n",
      "  0.87707317 0.93474912 0.0697285  0.07666174 0.16004217 0.40280162\n",
      "  0.90751974 0.29029845 0.41941695 0.21968483 0.95383973 0.08983536\n",
      "  0.48086393 0.84912099 0.6839471  0.27454721 0.20906017 0.42508061\n",
      "  0.59704289 0.11017676 0.32042323 0.60126071 0.7855343  0.82409546\n",
      "  0.26140619 0.3986659  0.24526108 0.37071453 0.73885734 0.8605438\n",
      "  0.11251019 0.80774466 0.47148171 0.04441694 0.35795722 0.73556176\n",
      "  0.36164879 0.8437757  0.55495442 0.76882113 0.56781314 0.21216487\n",
      "  0.17751007 0.7707956  0.34733815 0.62658464 0.69289627 0.57520665\n",
      "  0.34200352 0.89822215 0.21488174 0.26202318 0.95775215 0.5354919\n",
      "  0.07563368 0.5851633  0.33242566 0.67713534 0.68152292 0.76642284\n",
      "  0.98025481 0.27279792 0.5911441  0.27930784 0.66665344 0.6292009\n",
      "  0.91948258 0.         0.84583175 0.25329555 0.64523951 0.17230911\n",
      "  0.56968926 0.56656778 0.50417095 0.63890382]\n",
      " [0.61559103 0.77009903 0.82531843 0.26752459 0.78854405 0.82065306\n",
      "  0.14568572 0.29164667 0.75968033 0.57583778 0.58098213 0.13421616\n",
      "  0.13980888 0.29655618 0.7305464  0.31925346 0.12643754 0.87297545\n",
      "  0.64620809 0.1910124  0.67609314 0.16888257 0.2975384  0.64119971\n",
      "  0.55799166 0.10032371 0.85517013 0.92207131 0.81491443 0.76819256\n",
      "  0.76378984 0.56204342 0.58359053 0.65779421 0.12926952 0.93564095\n",
      "  0.63610256 0.17257492 0.4266639  0.65142901 0.77488751 0.78704761\n",
      "  0.62888091 0.91982245 0.60956035 0.61546583 0.49303627 0.06127824\n",
      "  0.93131667 0.60705632 0.84868637 0.53434729 0.38234228 0.02988839\n",
      "  0.75953319 0.14291908 0.93604651 0.88110145 0.61137807 0.39525753\n",
      "  0.48650519 0.2003775  0.76782981 0.2847138  0.42974505 0.70178156\n",
      "  0.67802235 0.75873928 0.52053519 0.51824514 0.2819768  0.82092659\n",
      "  0.87900245 0.26656603 0.63241165 0.72285307 0.12265689 0.61714145\n",
      "  0.78796432 0.70934704 0.63685765 0.37755242 0.19315401 0.35473774\n",
      "  0.13514332 0.75880027 0.57619232 0.82309991 0.64354391 0.22827068\n",
      "  0.32807309 0.84583175 0.         0.70132171 0.33176419 0.68634255\n",
      "  0.38459337 0.48372417 0.37504245 0.26281098]\n",
      " [0.24944606 0.28348745 0.3933249  0.43405791 0.21255741 0.52915474\n",
      "  0.56033932 0.60840327 0.55791359 0.42813957 0.56935    0.75282706\n",
      "  0.79507053 0.43802004 0.69680625 0.40751181 0.77328053 0.24848676\n",
      "  0.100516   0.64745822 0.60362    0.81385481 0.4458542  0.06160746\n",
      "  0.62924796 0.77590905 0.31192531 0.30464604 0.12921996 0.17748632\n",
      "  0.65495076 0.18014414 0.17338042 0.09145527 0.82388973 0.31925525\n",
      "  0.56655477 0.75289652 0.67771616 0.35939172 0.07629125 0.58008249\n",
      "  0.34374864 0.26116211 0.38107523 0.34805498 0.5415655  0.66512581\n",
      "  0.2300931  0.46940852 0.45214165 0.38314633 0.51044387 0.7224523\n",
      "  0.14408207 0.70427272 0.3124431  0.29719624 0.42732422 0.50496495\n",
      "  0.28985837 0.65004527 0.3164649  0.55869835 0.55940555 0.32905569\n",
      "  0.23947144 0.52109821 0.326903   0.37993071 0.49022412 0.34735356\n",
      "  0.20350567 0.69222604 0.17171164 0.39952593 0.79756172 0.28228829\n",
      "  0.25952606 0.69062931 0.08510633 0.65256971 0.57706297 0.54241767\n",
      "  0.82825126 0.06935609 0.33949331 0.1312024  0.41339671 0.47305388\n",
      "  0.70307596 0.25329555 0.70132171 0.         0.60023076 0.24651872\n",
      "  0.53873439 0.32785681 0.32731618 0.45580101]\n",
      " [0.4098029  0.78542459 0.87388557 0.30787026 0.59484951 0.51831605\n",
      "  0.25254895 0.04043016 0.89662905 0.29203989 0.25496845 0.463255\n",
      "  0.31112966 0.40422856 0.39880716 0.40067642 0.29401237 0.83199369\n",
      "  0.51094931 0.14430235 0.34884717 0.50012316 0.41614724 0.54132322\n",
      "  0.76914558 0.42977021 0.6305055  0.71976807 0.67578242 0.73423531\n",
      "  0.93814833 0.42161023 0.56485308 0.52307785 0.37862207 0.73069751\n",
      "  0.3125446  0.2341375  0.11637086 0.39171904 0.65695018 0.47039589\n",
      "  0.70084326 0.74277254 0.34301916 0.69132233 0.67808981 0.35782397\n",
      "  0.81297725 0.30712283 0.57148518 0.277338   0.56349725 0.32552624\n",
      "  0.59335133 0.21382044 0.8989856  0.66923559 0.32625884 0.57252811\n",
      "  0.31273593 0.47748379 0.79877246 0.49934874 0.10520506 0.4537764\n",
      "  0.46822461 0.88079607 0.30043364 0.61909537 0.44244273 0.85009248\n",
      "  0.80319921 0.55486499 0.4626995  0.44960576 0.45030706 0.66061863\n",
      "  0.57369231 0.37758369 0.57182318 0.06775501 0.1537552  0.55614163\n",
      "  0.44734134 0.66906933 0.65202376 0.73111225 0.74526692 0.28992164\n",
      "  0.61071893 0.64523951 0.33176419 0.60023076 0.         0.47294742\n",
      "  0.07749065 0.55232722 0.36395128 0.36755048]\n",
      " [0.07076206 0.5277346  0.63751521 0.4507365  0.12386074 0.28517438\n",
      "  0.54220103 0.49591943 0.78052661 0.21758839 0.35616496 0.7762392\n",
      "  0.74064609 0.50449142 0.46048919 0.47543964 0.7193959  0.48498466\n",
      "  0.1590446  0.56910646 0.37010413 0.83340941 0.51707135 0.22671594\n",
      "  0.79827064 0.77892608 0.16886054 0.24747124 0.24202575 0.42394746\n",
      "  0.86811515 0.16475037 0.36214858 0.16211232 0.78903    0.2590876\n",
      "  0.3391336  0.6790349  0.51524117 0.12279565 0.25482509 0.33366327\n",
      "  0.55556085 0.27296421 0.15972388 0.55571405 0.7006454  0.67013017\n",
      "  0.37969323 0.24654953 0.22519759 0.19978046 0.63339309 0.69889409\n",
      "  0.14632754 0.63899405 0.54348991 0.19929102 0.20330065 0.63272375\n",
      "  0.200235   0.70659389 0.55887718 0.64520849 0.39757878 0.08254067\n",
      "  0.01041319 0.74702755 0.17586954 0.55355753 0.56648828 0.59297265\n",
      "  0.41850478 0.76798959 0.09557404 0.15301846 0.80212832 0.49313862\n",
      "  0.10339954 0.45713462 0.29259134 0.50603782 0.5144358  0.65528297\n",
      "  0.82144887 0.30245306 0.53477614 0.34246318 0.62449919 0.47957027\n",
      "  0.79704296 0.17230911 0.68634255 0.24651872 0.47294742 0.\n",
      "  0.39758223 0.48308114 0.37286213 0.5023311 ]\n",
      " [0.33620979 0.74154855 0.83500305 0.30277739 0.52025974 0.44668263\n",
      "  0.28137556 0.109844   0.87678069 0.21520788 0.19713079 0.51097655\n",
      "  0.38185606 0.40089086 0.35493341 0.3914814  0.36348594 0.77656579\n",
      "  0.4458297  0.20836065 0.29223543 0.55324947 0.41405344 0.48167952\n",
      "  0.77054216 0.48461798 0.5534882  0.64374377 0.60690393 0.68187666\n",
      "  0.92658337 0.35868186 0.52065301 0.45772237 0.44612919 0.65445731\n",
      "  0.25151635 0.30729871 0.14266332 0.31422841 0.59149753 0.40445832\n",
      "  0.67116505 0.66875134 0.2655418  0.66281147 0.67554151 0.40118855\n",
      "  0.74542577 0.23331739 0.49539524 0.20041297 0.56487737 0.38289639\n",
      "  0.52192159 0.28124137 0.84328937 0.59277584 0.24983847 0.57251078\n",
      "  0.248902   0.50725417 0.75777347 0.51249749 0.05081746 0.37636564\n",
      "  0.39326922 0.8578041  0.22773027 0.59894384 0.44743516 0.80769228\n",
      "  0.74223995 0.58431798 0.39315405 0.37272841 0.50627711 0.62605477\n",
      "  0.49749413 0.33495552 0.51787149 0.11414508 0.19355468 0.56279303\n",
      "  0.50813147 0.60802504 0.62488567 0.6685852  0.72088613 0.2946207\n",
      "  0.63663254 0.56968926 0.38459337 0.53873439 0.07749065 0.39758223\n",
      "  0.         0.52805431 0.33621961 0.36826984]\n",
      " [0.43665339 0.28785551 0.3445647  0.25715065 0.51507644 0.74820433\n",
      "  0.37832109 0.53785965 0.34945336 0.55047542 0.6598982  0.4866321\n",
      "  0.61098369 0.18832491 0.82187306 0.17147804 0.59159956 0.4091143\n",
      "  0.34398586 0.52090251 0.7318493  0.54583054 0.1862065  0.291578\n",
      "  0.31559202 0.52812328 0.61242198 0.62767066 0.45648033 0.30935584\n",
      "  0.41054485 0.32108699 0.15555275 0.34891353 0.61272417 0.64253891\n",
      "  0.6858794  0.59975581 0.66313005 0.54349637 0.39992658 0.76788641\n",
      "  0.15293304 0.58898303 0.53460384 0.14156373 0.21994912 0.43026866\n",
      "  0.52644891 0.59968989 0.70763624 0.48800717 0.18639202 0.51163906\n",
      "  0.45444345 0.54854965 0.46636749 0.61081597 0.57063965 0.17925069\n",
      "  0.3594104  0.36311111 0.28410588 0.25546882 0.57149316 0.55064811\n",
      "  0.47277432 0.32980217 0.42855363 0.07596658 0.20967633 0.33724958\n",
      "  0.44007659 0.3859522  0.3885181  0.61158958 0.54589624 0.13357141\n",
      "  0.54736145 0.80788235 0.24276944 0.6193847  0.44838299 0.22171638\n",
      "  0.5854435  0.3544194  0.1011085  0.40768314 0.19321854 0.2906217\n",
      "  0.38513384 0.56656778 0.48372417 0.32785681 0.55232722 0.48308114\n",
      "  0.52805431 0.         0.19188742 0.22597959]\n",
      " [0.30981425 0.43177911 0.51285179 0.10763772 0.44673142 0.60105223\n",
      "  0.23832182 0.35336962 0.54108352 0.37911647 0.47509456 0.42916262\n",
      "  0.47841423 0.13168796 0.63998401 0.10272041 0.45707908 0.5083718\n",
      "  0.2845949  0.3542537  0.55299364 0.48975935 0.14421916 0.26841249\n",
      "  0.46515595 0.44889743 0.53094294 0.5768515  0.44589987 0.40402619\n",
      "  0.5963972  0.21531587 0.21979761 0.29495615 0.49997826 0.59138267\n",
      "  0.50638663 0.44837742 0.47249209 0.39656989 0.40205909 0.60633125\n",
      "  0.33708987 0.56108268 0.37581525 0.32792769 0.36527965 0.33787493\n",
      "  0.55683963 0.42730747 0.58304391 0.31686035 0.27367787 0.39743848\n",
      "  0.40378698 0.39725426 0.57388799 0.54482967 0.40462424 0.27628917\n",
      "  0.19799911 0.33960481 0.44057232 0.27247016 0.37972977 0.42124152\n",
      "  0.36273274 0.52158553 0.26455881 0.26406505 0.19362931 0.49324316\n",
      "  0.50582919 0.39636617 0.29275591 0.47060791 0.47077146 0.29759994\n",
      "  0.46148032 0.62465937 0.26229355 0.43015117 0.27977243 0.28892265\n",
      "  0.50093706 0.38376003 0.28924718 0.44812033 0.38469277 0.1474055\n",
      "  0.42422174 0.50417095 0.37504245 0.32731618 0.36395128 0.37286213\n",
      "  0.33621961 0.19188742 0.         0.1350607 ]\n",
      " [0.4361854  0.50875267 0.57052595 0.06784137 0.58135051 0.70972079\n",
      "  0.15413279 0.34323074 0.54193599 0.47300612 0.54211646 0.2970392\n",
      "  0.38543331 0.0402363  0.70881635 0.05651689 0.36580858 0.61085289\n",
      "  0.41941507 0.30438812 0.62966895 0.35805419 0.04950051 0.39914539\n",
      "  0.40303057 0.3232008  0.66378934 0.71185172 0.57805031 0.50625602\n",
      "  0.5732882  0.3492304  0.32276851 0.42959427 0.39192009 0.7263598\n",
      "  0.58335902 0.37499985 0.4838038  0.51060103 0.5316518  0.70342022\n",
      "  0.37687862 0.69560862 0.48229622 0.36438643 0.3105547  0.21557054\n",
      "  0.68284956 0.51780312 0.7040038  0.41438624 0.1970292  0.28926591\n",
      "  0.53878848 0.32420582 0.67346519 0.67920483 0.50330845 0.20538891\n",
      "  0.3137473  0.20524678 0.50859594 0.15500848 0.41814459 0.54336314\n",
      "  0.49245622 0.53208489 0.37278487 0.27391458 0.0805399  0.56202028\n",
      "  0.62121456 0.26632748 0.42634446 0.58590565 0.34395097 0.35770622\n",
      "  0.59428494 0.69099854 0.38352519 0.43476438 0.23669247 0.19537593\n",
      "  0.37800421 0.50714584 0.32392454 0.5700555  0.40378619 0.07801334\n",
      "  0.30138321 0.63890382 0.26281098 0.45580101 0.36755048 0.5023311\n",
      "  0.36826984 0.22597959 0.1350607  0.        ]]\n"
     ]
    }
   ],
   "source": [
    "z = np.random.random((100,2))\n",
    "x,y = np.atleast_2d(z[:,0], z[:,1])\n",
    "d = np.sqrt( (x-x.T)**2 + (y-y.T)**2)\n",
    "print(d)"
   ]
  },
  {
   "cell_type": "markdown",
   "metadata": {},
   "source": [
    "#### 53. How to convert a float (32 bits) array into an integer (32 bits) in place? \n",
    "(**hint**: astype(copy=False))"
   ]
  },
  {
   "cell_type": "code",
   "execution_count": 55,
   "metadata": {},
   "outputs": [
    {
     "name": "stdout",
     "output_type": "stream",
     "text": [
      "[0 1 2 3 4 5 6 7 8 9]\n"
     ]
    }
   ],
   "source": [
    "a = np.arange(10, dtype=np.float32)\n",
    "a = a.astype(np.int32,copy=False)\n",
    "print(a)"
   ]
  },
  {
   "cell_type": "markdown",
   "metadata": {},
   "source": [
    "#### 54. How to read the following file? (★★☆) \n",
    "(**hint**: np.genfromtxt)"
   ]
  },
  {
   "cell_type": "markdown",
   "metadata": {},
   "source": [
    "```\n",
    "1, 2, 3, 4, 5\n",
    "6,  ,  , 7, 8\n",
    " ,  , 9,10,11\n",
    "```"
   ]
  },
  {
   "cell_type": "code",
   "execution_count": 56,
   "metadata": {},
   "outputs": [
    {
     "data": {
      "text/plain": [
       "array([( 1,  2., b' 3'), ( 6, nan, b'  '), (-1, nan, b' 9')],\n",
       "      dtype=[('myint', '<i8'), ('myfloat', '<f8'), ('mystring', 'S5')])"
      ]
     },
     "execution_count": 56,
     "metadata": {},
     "output_type": "execute_result"
    }
   ],
   "source": [
    "from io import StringIO\n",
    "s = StringIO(\"\"\"1, 2, 3, 4, 5\\n\n",
    "             6,  ,  , 7, 8\\n\n",
    "             ,  , 9,10,11/n\"\"\")\n",
    "data = np.genfromtxt(s,dtype=[('myint','i8'),('myfloat','f8'),('mystring','S5')], delimiter=\",\")\n",
    "data"
   ]
  },
  {
   "cell_type": "markdown",
   "metadata": {},
   "source": [
    "#### 55. What is the equivalent of enumerate for numpy arrays? (★★☆) \n",
    "(**hint**: np.ndenumerate, np.ndindex)"
   ]
  },
  {
   "cell_type": "code",
   "execution_count": 57,
   "metadata": {},
   "outputs": [
    {
     "name": "stdout",
     "output_type": "stream",
     "text": [
      "(0, 0) 0\n",
      "(0, 1) 1\n",
      "(0, 2) 2\n",
      "(1, 0) 3\n",
      "(1, 1) 4\n",
      "(1, 2) 5\n",
      "(2, 0) 6\n",
      "(2, 1) 7\n",
      "(2, 2) 8\n"
     ]
    }
   ],
   "source": [
    "a = np.arange(9).reshape(3,3)\n",
    "for index ,values in np.ndenumerate(a):\n",
    "    print(index,values)\n",
    "#for index in np.ndindex(a.shape):\n",
    "    #print(index,a[index])"
   ]
  },
  {
   "cell_type": "markdown",
   "metadata": {},
   "source": [
    "#### 56. Generate a generic 2D Gaussian-like array (★★☆) \n",
    "(**hint**: np.meshgrid, np.exp)"
   ]
  },
  {
   "cell_type": "code",
   "execution_count": 58,
   "metadata": {},
   "outputs": [
    {
     "name": "stdout",
     "output_type": "stream",
     "text": [
      "[[0.36787944 0.44822088 0.51979489 0.57375342 0.60279818 0.60279818\n",
      "  0.57375342 0.51979489 0.44822088 0.36787944]\n",
      " [0.44822088 0.54610814 0.63331324 0.69905581 0.73444367 0.73444367\n",
      "  0.69905581 0.63331324 0.54610814 0.44822088]\n",
      " [0.51979489 0.63331324 0.73444367 0.81068432 0.85172308 0.85172308\n",
      "  0.81068432 0.73444367 0.63331324 0.51979489]\n",
      " [0.57375342 0.69905581 0.81068432 0.89483932 0.9401382  0.9401382\n",
      "  0.89483932 0.81068432 0.69905581 0.57375342]\n",
      " [0.60279818 0.73444367 0.85172308 0.9401382  0.98773022 0.98773022\n",
      "  0.9401382  0.85172308 0.73444367 0.60279818]\n",
      " [0.60279818 0.73444367 0.85172308 0.9401382  0.98773022 0.98773022\n",
      "  0.9401382  0.85172308 0.73444367 0.60279818]\n",
      " [0.57375342 0.69905581 0.81068432 0.89483932 0.9401382  0.9401382\n",
      "  0.89483932 0.81068432 0.69905581 0.57375342]\n",
      " [0.51979489 0.63331324 0.73444367 0.81068432 0.85172308 0.85172308\n",
      "  0.81068432 0.73444367 0.63331324 0.51979489]\n",
      " [0.44822088 0.54610814 0.63331324 0.69905581 0.73444367 0.73444367\n",
      "  0.69905581 0.63331324 0.54610814 0.44822088]\n",
      " [0.36787944 0.44822088 0.51979489 0.57375342 0.60279818 0.60279818\n",
      "  0.57375342 0.51979489 0.44822088 0.36787944]]\n"
     ]
    }
   ],
   "source": [
    "x,y = np.meshgrid(np.linspace(-1,1,10),np.linspace(-1,1,10))\n",
    "d = np.sqrt(x*x+y*y)\n",
    "sigma, mu = 1.0,0.0\n",
    "g = np.exp(-( (d-mu)**2 / ( 2.0 * sigma**2 ) ) )\n",
    "print(g)"
   ]
  },
  {
   "cell_type": "markdown",
   "metadata": {},
   "source": [
    "#### 57. How to randomly place p elements in a 2D array? (★★☆) \n",
    "(**hint**: np.put, np.random.choice)"
   ]
  },
  {
   "cell_type": "code",
   "execution_count": 59,
   "metadata": {},
   "outputs": [
    {
     "data": {
      "text/plain": [
       "array([[0., 0., 0., 0., 0.],\n",
       "       [0., 0., 0., 0., 0.],\n",
       "       [0., 0., 0., 0., 0.],\n",
       "       [0., 0., 0., 1., 1.],\n",
       "       [0., 0., 0., 1., 0.]])"
      ]
     },
     "execution_count": 59,
     "metadata": {},
     "output_type": "execute_result"
    }
   ],
   "source": [
    "n = 5\n",
    "p = 3\n",
    "out = np.zeros((n,n))\n",
    "np.put(out,np.random.choice(range(n*n),p,replace=False),1)\n",
    "out"
   ]
  },
  {
   "cell_type": "markdown",
   "metadata": {},
   "source": [
    "#### 58. Subtract the mean of each row of a matrix (★★☆) \n",
    "(**hint**: mean(axis=,keepdims=))"
   ]
  },
  {
   "cell_type": "code",
   "execution_count": 60,
   "metadata": {},
   "outputs": [
    {
     "data": {
      "text/plain": [
       "array([[ 0.42888397,  0.07322481, -0.08364384,  0.37142548,  0.29167431,\n",
       "        -0.23886107, -0.38152055, -0.30425347, -0.29174325,  0.13481359],\n",
       "       [ 0.27133288, -0.39816938, -0.09693854,  0.15562491, -0.04131967,\n",
       "        -0.13877185,  0.2446655 , -0.06908297,  0.33471738, -0.26205826],\n",
       "       [ 0.3621165 ,  0.13031285, -0.1368009 , -0.09431861, -0.14773158,\n",
       "        -0.50593238, -0.16008898,  0.13800541,  0.2907725 ,  0.12366518],\n",
       "       [ 0.22272033,  0.06338575,  0.27917112,  0.15908234, -0.49063274,\n",
       "        -0.03226127,  0.30408457, -0.40087426, -0.32076114,  0.2160853 ],\n",
       "       [ 0.06291911,  0.1515615 ,  0.06000941,  0.29153296, -0.30361607,\n",
       "        -0.17537726, -0.19189626, -0.04776886, -0.04139445,  0.19402991]])"
      ]
     },
     "execution_count": 60,
     "metadata": {},
     "output_type": "execute_result"
    }
   ],
   "source": [
    "X = np.random.rand(5,10)\n",
    "Y = X - X.mean(axis=1,keepdims=True)\n",
    "Y"
   ]
  },
  {
   "cell_type": "markdown",
   "metadata": {},
   "source": [
    "#### 59. How to sort an array by the nth column? (★★☆) \n",
    "(**hint**: argsort)"
   ]
  },
  {
   "cell_type": "code",
   "execution_count": 61,
   "metadata": {},
   "outputs": [
    {
     "name": "stdout",
     "output_type": "stream",
     "text": [
      "[[9 4 1]\n",
      " [5 5 3]\n",
      " [0 7 9]]\n"
     ]
    }
   ],
   "source": [
    "a = np.random.randint(0,10,(3,3))\n",
    "print(a[a[:,1].argsort()])"
   ]
  },
  {
   "cell_type": "markdown",
   "metadata": {},
   "source": [
    "#### 60. How to tell if a given 2D array has null columns? (★★☆) \n",
    "(**hint**: any, ~)"
   ]
  },
  {
   "cell_type": "code",
   "execution_count": 62,
   "metadata": {},
   "outputs": [
    {
     "name": "stdout",
     "output_type": "stream",
     "text": [
      "[[2 3 0]\n",
      " [2 7 3]\n",
      " [0 1 8]]\n",
      "False\n"
     ]
    }
   ],
   "source": [
    "a = np.random.randint(0,10,(3,3))\n",
    "print(a)\n",
    "print((~a.any(axis=0)).any())"
   ]
  },
  {
   "cell_type": "markdown",
   "metadata": {},
   "source": [
    "#### 61. Find the nearest value from a given value in an array (★★☆) \n",
    "(**hint**: np.abs, argmin, flat)"
   ]
  },
  {
   "cell_type": "code",
   "execution_count": 63,
   "metadata": {},
   "outputs": [
    {
     "name": "stdout",
     "output_type": "stream",
     "text": [
      "3.8674997063889758\n"
     ]
    }
   ],
   "source": [
    "x = np.random.uniform(1,12,5)\n",
    "v = 4\n",
    "n = x.flat[np.abs(x-v).argmin()]\n",
    "print(n)"
   ]
  },
  {
   "cell_type": "markdown",
   "metadata": {},
   "source": [
    "#### 62. Considering two arrays with shape (1,3) and (3,1), how to compute their sum using an iterator? (★★☆) \n",
    "(**hint**: np.nditer)"
   ]
  },
  {
   "cell_type": "code",
   "execution_count": 64,
   "metadata": {},
   "outputs": [
    {
     "name": "stdout",
     "output_type": "stream",
     "text": [
      "[[ 0  1  2  3]\n",
      " [ 4  5  6  7]\n",
      " [ 8  9 10 11]]\n",
      "0 1 2 3 4 5 6 7 8 9 10 11 "
     ]
    }
   ],
   "source": [
    "a = np.arange(12)\n",
    "a = a.reshape(3,4)\n",
    "print(a)\n",
    "for i in np.nditer(a):\n",
    "    print(i,end=\" \")"
   ]
  },
  {
   "cell_type": "markdown",
   "metadata": {},
   "source": [
    "#### 63. Create an array class that has a name attribute (★★☆) \n",
    "(**hint**: class method)"
   ]
  },
  {
   "cell_type": "code",
   "execution_count": 65,
   "metadata": {},
   "outputs": [
    {
     "name": "stdout",
     "output_type": "stream",
     "text": [
      "range_5\n"
     ]
    }
   ],
   "source": [
    "class NamedArray(np.ndarray):\n",
    "    def __new__(cls, array, name=\"no name\"):\n",
    "        obj = np.asarray(array).view(cls)\n",
    "        obj.name = name\n",
    "        return obj\n",
    "    def __array_finalize__(self,obj):\n",
    "        if obj is None: return\n",
    "        self.info = getattr(obj,'name',\"no name\")\n",
    "\n",
    "Z = NamedArray(np.arange(5), \"range_5\")\n",
    "print(Z.name) "
   ]
  },
  {
   "cell_type": "markdown",
   "metadata": {},
   "source": [
    "#### 64. Consider a given vector, how to add 1 to each element indexed by a second vector (be careful with repeated indices)? (★★★) \n",
    "(**hint**: np.bincount | np.add.at)"
   ]
  },
  {
   "cell_type": "code",
   "execution_count": 66,
   "metadata": {},
   "outputs": [
    {
     "name": "stdout",
     "output_type": "stream",
     "text": [
      "[5. 3. 2. 2. 3. 3. 5. 1. 5. 1.]\n",
      "[9. 5. 3. 3. 5. 5. 9. 1. 9. 1.]\n"
     ]
    }
   ],
   "source": [
    "Z = np.ones(10)\n",
    "I = np.random.randint(0,len(Z),20)\n",
    "Z += np.bincount(I, minlength=len(Z)) \n",
    "print(Z)\n",
    "\n",
    "np.add.at(Z,I,1)\n",
    "print(Z)"
   ]
  },
  {
   "cell_type": "markdown",
   "metadata": {},
   "source": [
    "#### 65. How to accumulate elements of a vector (X) to an array (F) based on an index list (I)? (★★★) \n",
    "(**hint**: np.bincount)"
   ]
  },
  {
   "cell_type": "code",
   "execution_count": 67,
   "metadata": {},
   "outputs": [
    {
     "name": "stdout",
     "output_type": "stream",
     "text": [
      "[0. 1. 2. 3. 4. 5. 6.]\n"
     ]
    }
   ],
   "source": [
    "X = np.arange(1,7)\n",
    "I = np.arange(1,7)\n",
    "F = np.bincount(I,X)\n",
    "print(F)"
   ]
  },
  {
   "cell_type": "markdown",
   "metadata": {},
   "source": [
    "#### 66. Considering a (w,h,3) image of (dtype=ubyte), compute the number of unique colors (★★★) \n",
    "(**hint**: np.unique)"
   ]
  },
  {
   "cell_type": "code",
   "execution_count": 68,
   "metadata": {},
   "outputs": [
    {
     "name": "stdout",
     "output_type": "stream",
     "text": [
      "8\n"
     ]
    }
   ],
   "source": [
    "w,h = 16,16\n",
    "I = np.random.randint(0,2,(h,w,3)).astype(np.ubyte)\n",
    "F = I[...,0]*65536 + I[...,1]*256 +I[...,2]\n",
    "n = len(np.unique(F))\n",
    "print(n)"
   ]
  },
  {
   "cell_type": "markdown",
   "metadata": {},
   "source": [
    "#### 67. Considering a four dimensions array, how to get sum over the last two axis at once? (★★★) \n",
    "(**hint**: sum(axis=(-2,-1)))"
   ]
  },
  {
   "cell_type": "code",
   "execution_count": 69,
   "metadata": {},
   "outputs": [
    {
     "name": "stdout",
     "output_type": "stream",
     "text": [
      "[[67 54 62]\n",
      " [38 37 65]\n",
      " [72 54 36]\n",
      " [39 51 71]]\n"
     ]
    }
   ],
   "source": [
    "a = np.random.randint(0,10,(4,3,4,3))\n",
    "sum = a.sum(axis=(-2-1))\n",
    "sum = a.reshape(a.shape[:-2] + (-1,)).sum(axis=-1)\n",
    "print(sum)"
   ]
  },
  {
   "cell_type": "markdown",
   "metadata": {},
   "source": [
    "#### 68. Considering a one-dimensional vector D, how to compute means of subsets of D using a vector S of same size describing subset  indices? (★★★) \n",
    "(**hint**: np.bincount)"
   ]
  },
  {
   "cell_type": "code",
   "execution_count": 70,
   "metadata": {},
   "outputs": [
    {
     "name": "stdout",
     "output_type": "stream",
     "text": [
      "[0.54479565 0.57472477 0.41956251 0.59866312 0.56785667 0.50139416\n",
      " 0.53850478 0.52208892 0.55500818 0.86375088]\n",
      "0    0.544796\n",
      "1    0.574725\n",
      "2    0.419563\n",
      "3    0.598663\n",
      "4    0.567857\n",
      "5    0.501394\n",
      "6    0.538505\n",
      "7    0.522089\n",
      "8    0.555008\n",
      "9    0.863751\n",
      "dtype: float64\n"
     ]
    }
   ],
   "source": [
    "D = np.random.uniform(0,1,100)\n",
    "S = np.random.randint(0,10,100)\n",
    "D_sums = np.bincount(S,weights=D)\n",
    "D_counts = np.bincount(S)\n",
    "D_means = D_sums / D_counts\n",
    "print(D_means)\n",
    "import pandas as pd\n",
    "print(pd.Series(D).groupby(S).mean())"
   ]
  },
  {
   "cell_type": "markdown",
   "metadata": {},
   "source": [
    "#### 69. How to get the diagonal of a dot product? (★★★) \n",
    "(**hint**: np.diag)"
   ]
  },
  {
   "cell_type": "code",
   "execution_count": 71,
   "metadata": {},
   "outputs": [
    {
     "name": "stdout",
     "output_type": "stream",
     "text": [
      "[1.1741469  0.37825723]\n",
      "[[0.71823517 0.64075904]\n",
      " [0.67253419 0.50238063]\n",
      " [0.8291221  0.56139781]\n",
      " [0.96932583 0.71024439]\n",
      " [0.76487754 0.52090025]\n",
      " [0.89810703 0.5658908 ]\n",
      " [0.63926412 0.69345471]\n",
      " [0.50614153 0.29405525]\n",
      " [0.91253899 0.87212047]\n",
      " [0.34069487 0.16857658]]\n"
     ]
    }
   ],
   "source": [
    "a = np.random.rand(10,2)\n",
    "b = np.random.rand(2,2)\n",
    "print(np.diag(np.dot(a,b)))\n",
    "print(a)"
   ]
  },
  {
   "cell_type": "markdown",
   "metadata": {},
   "source": [
    "#### 70. Consider the vector \\[1, 2, 3, 4, 5\\], how to build a new vector with 3 consecutive zeros interleaved between each value? (★★★) \n",
    "(**hint**: array\\[::4\\])"
   ]
  },
  {
   "cell_type": "code",
   "execution_count": 72,
   "metadata": {},
   "outputs": [
    {
     "name": "stdout",
     "output_type": "stream",
     "text": [
      "[1. 0. 0. 0. 2. 0. 0. 0. 3. 0. 0. 0. 4. 0. 0. 0. 5.]\n"
     ]
    }
   ],
   "source": [
    "a = np.array([1,2,3,4,5])\n",
    "p = 3\n",
    "b = np.zeros(len(a) + (len(a)-1) * (p))\n",
    "b[::p+1] = a\n",
    "print(b)"
   ]
  },
  {
   "cell_type": "markdown",
   "metadata": {},
   "source": [
    "#### 71. Consider an array of dimension (5,5,3), how to mulitply it by an array with dimensions (5,5)? (★★★) \n",
    "(**hint**: array\\[:, :, None\\])"
   ]
  },
  {
   "cell_type": "code",
   "execution_count": 73,
   "metadata": {},
   "outputs": [
    {
     "name": "stdout",
     "output_type": "stream",
     "text": [
      "[[[2. 2. 2.]\n",
      "  [2. 2. 2.]\n",
      "  [2. 2. 2.]\n",
      "  [2. 2. 2.]\n",
      "  [2. 2. 2.]]\n",
      "\n",
      " [[2. 2. 2.]\n",
      "  [2. 2. 2.]\n",
      "  [2. 2. 2.]\n",
      "  [2. 2. 2.]\n",
      "  [2. 2. 2.]]\n",
      "\n",
      " [[2. 2. 2.]\n",
      "  [2. 2. 2.]\n",
      "  [2. 2. 2.]\n",
      "  [2. 2. 2.]\n",
      "  [2. 2. 2.]]\n",
      "\n",
      " [[2. 2. 2.]\n",
      "  [2. 2. 2.]\n",
      "  [2. 2. 2.]\n",
      "  [2. 2. 2.]\n",
      "  [2. 2. 2.]]\n",
      "\n",
      " [[2. 2. 2.]\n",
      "  [2. 2. 2.]\n",
      "  [2. 2. 2.]\n",
      "  [2. 2. 2.]\n",
      "  [2. 2. 2.]]]\n"
     ]
    }
   ],
   "source": [
    "x = np.ones((5,5,3))\n",
    "y = 2*np.ones((5,5))\n",
    "print(x*y[:,:,None])"
   ]
  },
  {
   "cell_type": "markdown",
   "metadata": {},
   "source": [
    "#### 72. How to swap two rows of an array? (★★★) \n",
    "(**hint**: array\\[\\[\\]\\] = array\\[\\[\\]\\])"
   ]
  },
  {
   "cell_type": "code",
   "execution_count": 74,
   "metadata": {},
   "outputs": [
    {
     "name": "stdout",
     "output_type": "stream",
     "text": [
      "[[ 0  1  2  3]\n",
      " [ 4  5  6  7]\n",
      " [ 8  9 10 11]\n",
      " [12 13 14 15]]\n",
      "[[ 8  9 10 11]\n",
      " [ 4  5  6  7]\n",
      " [ 0  1  2  3]\n",
      " [12 13 14 15]]\n"
     ]
    }
   ],
   "source": [
    "a = np.arange(16).reshape(4,4)\n",
    "print(a)\n",
    "a[[0,2]] = a[[2,0]]\n",
    "print(a)"
   ]
  },
  {
   "cell_type": "markdown",
   "metadata": {},
   "source": [
    "#### 73. Consider a set of 10 triplets describing 10 triangles (with shared vertices), find the set of unique line segments composing all the  triangles (★★★) \n",
    "(**hint**: repeat, np.roll, np.sort, view, np.unique)"
   ]
  },
  {
   "cell_type": "code",
   "execution_count": 75,
   "metadata": {},
   "outputs": [
    {
     "name": "stdout",
     "output_type": "stream",
     "text": [
      "[( 1,  4) ( 1, 20) ( 3, 26) ( 3, 78) ( 4, 10) ( 4, 20) ( 4, 37) (10, 37)\n",
      " (11, 69) (11, 83) (14, 42) (14, 43) (18, 65) (18, 73) (20, 40) (20, 82)\n",
      " (23, 50) (23, 88) (26, 78) (32, 34) (32, 45) (34, 45) (40, 82) (42, 43)\n",
      " (50, 88) (63, 74) (63, 81) (65, 73) (69, 83) (74, 81)]\n"
     ]
    }
   ],
   "source": [
    "A = np.random.randint(0,100,(10,3))\n",
    "B = np.roll(A.repeat(2,axis=1), -1,axis=1)\n",
    "B = B.reshape(len(B)*3,2)\n",
    "B = np.sort(B,axis=1)\n",
    "C = B.view(dtype=[('p0',B.dtype),('p1',B.dtype)])\n",
    "C = np.unique(C)\n",
    "print(C)"
   ]
  },
  {
   "cell_type": "markdown",
   "metadata": {},
   "source": [
    "#### 74. Given an array C that is a bincount, how to produce an array A such that np.bincount(A) == C? (★★★) \n",
    "(**hint**: np.repeat)"
   ]
  },
  {
   "cell_type": "code",
   "execution_count": 76,
   "metadata": {},
   "outputs": [
    {
     "name": "stdout",
     "output_type": "stream",
     "text": [
      "[1 1 2 2 3 3 4]\n"
     ]
    }
   ],
   "source": [
    "C = np.bincount([1,1,2,2,3,3,4])\n",
    "A = np.repeat(np.arange(len(C)) ,C )\n",
    "print(A)"
   ]
  },
  {
   "cell_type": "markdown",
   "metadata": {},
   "source": [
    "#### 75. How to compute averages using a sliding window over an array? (★★★) \n",
    "(**hint**: np.cumsum)"
   ]
  },
  {
   "cell_type": "code",
   "execution_count": 77,
   "metadata": {},
   "outputs": [
    {
     "data": {
      "text/plain": [
       "array([ 3.125,  3.75 ,  4.375,  5.   ,  5.625,  6.25 ,  6.875,  7.5  ,\n",
       "        8.125,  8.75 ,  9.375, 10.   , 10.625])"
      ]
     },
     "execution_count": 77,
     "metadata": {},
     "output_type": "execute_result"
    }
   ],
   "source": [
    "def moving_average(a,b):\n",
    "    test = np.cumsum(a,dtype=float)\n",
    "    test[b:] = test[b:] - test[:-b]\n",
    "    return test[n - 1:] / n\n",
    "moving_average(np.arange(20),5)"
   ]
  },
  {
   "cell_type": "markdown",
   "metadata": {},
   "source": [
    "#### 76. Consider a one-dimensional array Z, build a two-dimensional array whose first row is (Z\\[0\\],Z\\[1\\],Z\\[2\\]) and each subsequent row is  shifted by 1 (last row should be (Z\\[-3\\],Z\\[-2\\],Z\\[-1\\]) (★★★) \n",
    "(**hint**: from numpy.lib import stride_tricks)"
   ]
  },
  {
   "cell_type": "code",
   "execution_count": 78,
   "metadata": {},
   "outputs": [
    {
     "name": "stdout",
     "output_type": "stream",
     "text": [
      "[[0 1 2]\n",
      " [1 2 3]\n",
      " [2 3 4]\n",
      " [3 4 5]\n",
      " [4 5 6]\n",
      " [5 6 7]\n",
      " [6 7 8]\n",
      " [7 8 9]]\n"
     ]
    }
   ],
   "source": [
    "from numpy.lib import stride_tricks\n",
    "def rolling(a, window):\n",
    "    shape = (a.size - window + 1, window)\n",
    "    strides = (a.itemsize, a.itemsize)\n",
    "    return stride_tricks.as_strided(a, shape=shape, strides=strides)\n",
    "X = rolling(np.arange(10),3) \n",
    "print(X)"
   ]
  },
  {
   "cell_type": "markdown",
   "metadata": {},
   "source": [
    "#### 77. How to negate a boolean, or to change the sign of a float inplace? (★★★) \n",
    "(**hint**: np.logical_not, np.negative)"
   ]
  },
  {
   "cell_type": "code",
   "execution_count": 79,
   "metadata": {},
   "outputs": [
    {
     "data": {
      "text/plain": [
       "array([ 0.51961626, -0.90530602, -0.29867948,  0.3701838 ,  0.59484535,\n",
       "       -0.80917677,  0.48418399, -0.16730436,  0.74081426, -0.10738988,\n",
       "        0.65795091,  0.54628641, -0.65537715,  0.09862991,  0.1250287 ,\n",
       "        0.69140575, -0.69371769,  0.54060058, -0.58376294,  0.84497749,\n",
       "       -0.57218326, -0.39909415,  0.88234102, -0.71453975,  0.18244814,\n",
       "       -0.32333518,  0.76127422, -0.14281624, -0.84355799, -0.19451626,\n",
       "        0.66189178, -0.71808514, -0.07461873,  0.03449775,  0.59356815,\n",
       "        0.48005351, -0.95236442, -0.10792589, -0.16814258,  0.87868375,\n",
       "        0.22282955, -0.23714837,  0.62927041, -0.48159146, -0.34767967,\n",
       "        0.82568192,  0.84446159,  0.87091823,  0.74861256,  0.09695233,\n",
       "        0.36218175,  0.32524531,  0.34058418, -0.60081579, -0.3452551 ,\n",
       "       -0.13651952,  0.35721135,  0.26978666,  0.17679983,  0.42649922,\n",
       "        0.77873451,  0.85414308,  0.75050647,  0.56839475,  0.00953569,\n",
       "        0.56640128, -0.31674518, -0.75834679,  0.93474574, -0.31002542,\n",
       "       -0.61420435, -0.11551122, -0.55682899,  0.99542817, -0.48002223,\n",
       "       -0.73807594,  0.44818374, -0.34754694, -0.9578945 , -0.10564185,\n",
       "        0.48966681, -0.77130704, -0.33759523, -0.28633883, -0.5053512 ,\n",
       "       -0.99291562,  0.60445447, -0.8323947 ,  0.37313807,  0.69936969,\n",
       "        0.43661957, -0.01048095, -0.19693604, -0.87145048, -0.24158021,\n",
       "        0.08500252, -0.84756986,  0.36303191,  0.92087573, -0.06847411])"
      ]
     },
     "execution_count": 79,
     "metadata": {},
     "output_type": "execute_result"
    }
   ],
   "source": [
    "A = np.random.randint(0,2,100)\n",
    "np.logical_not(A, out=A)\n",
    "A = np.random.uniform(-1.0,1.0,100)\n",
    "np.negative(A, out=A)"
   ]
  },
  {
   "cell_type": "markdown",
   "metadata": {},
   "source": [
    "#### 78. Consider 2 sets of points P0,P1 describing lines (2d) and a point p, how to compute distance from p to each line i  (P0\\[i\\],P1\\[i\\])? (★★★)"
   ]
  },
  {
   "cell_type": "code",
   "execution_count": 80,
   "metadata": {},
   "outputs": [
    {
     "name": "stdout",
     "output_type": "stream",
     "text": [
      "[4.18642895 1.93103762 0.9230596  4.61177815 7.23353607 4.14686642\n",
      " 5.09577346 1.63426136 2.32393071 0.20890076]\n"
     ]
    }
   ],
   "source": [
    "def distance(P0,P1,p):\n",
    "    T = P1 - P0\n",
    "    L = (T**2).sum(axis=1)\n",
    "    U = -((P0[:,0]-p[...,0])*T[:,0] + (P0[:,1]-p[...,1])*T[:,1]) / L\n",
    "    U = U.reshape(len(U),1)\n",
    "    D = P0 + U*T - p\n",
    "    return np.sqrt((D**2).sum(axis=1))\n",
    "\n",
    "P0 = np.random.uniform(-10,10,(10,2))\n",
    "P1 = np.random.uniform(-10,10,(10,2))\n",
    "p = np.random.uniform(-10,10,(1,2))\n",
    "print(distance(P0,P1,p))"
   ]
  },
  {
   "cell_type": "markdown",
   "metadata": {},
   "source": [
    "#### 79. Consider 2 sets of points P0,P1 describing lines (2d) and a set of points P, how to compute distance from each point j (P\\[j\\]) to each line i (P0\\[i\\],P1\\[i\\])? (★★★)"
   ]
  },
  {
   "cell_type": "code",
   "execution_count": 81,
   "metadata": {},
   "outputs": [
    {
     "name": "stdout",
     "output_type": "stream",
     "text": [
      "[[ 6.88100176  8.96163718  7.88115083  9.33977878  0.45732617  2.08830652\n",
      "   2.39491986 11.09690673  0.41770941  8.80341792]\n",
      " [ 2.74990806  8.83900266 12.36839831 11.86283771  4.03981189  6.70849147\n",
      "   6.11364218 11.59403691  4.23993929  5.87381534]\n",
      " [ 0.11005035  0.08513451  8.21951326  3.37265061  3.04911711  6.27432313\n",
      "   0.69735455  2.48679642  1.89129554  0.02047677]\n",
      " [ 1.62734933  2.49234109  8.58009164  5.33817503  1.68005391  5.54691846\n",
      "   0.56702578  5.00244254  1.705075    2.2070388 ]\n",
      " [10.32020442  6.75004225  2.31026009  4.59689869  4.97810689  2.64385901\n",
      "   3.10400754  8.21786675  5.68807396 10.19031408]\n",
      " [13.4793451   7.2131011   0.82833411  3.08919867  7.32620971  6.03564251\n",
      "   5.56426183  8.2311547   9.02758533 12.59855953]\n",
      " [ 5.45019226  5.18108164  1.74878715  5.88980053 13.2508394   1.70970519\n",
      "  10.96180475  3.75432056  7.29259854  1.37730008]\n",
      " [ 5.75583955  6.97101606  9.26746094  0.71004241  5.07795648 10.26512712\n",
      "   2.38792044  3.95848726  4.4645186   7.23218886]\n",
      " [ 3.60696627  8.5534802   2.37818596  8.55307201 15.16977168  0.91841484\n",
      "  12.74836154  7.06740402  7.21161158  1.43840529]\n",
      " [ 1.14533278  1.05984638  8.83955947  3.06874762  2.95431992  7.31943764\n",
      "   0.54092872  1.63904664  2.74236805  1.33700365]]\n"
     ]
    }
   ],
   "source": [
    "def distance(P0,P1,p):\n",
    "    T = P1 - P0\n",
    "    L = (T**2).sum(axis=1)\n",
    "    U = -((P0[:,0]-p[...,0])*T[:,0] + (P0[:,1]-p[...,1])*T[:,1]) / L\n",
    "    U = U.reshape(len(U),1)\n",
    "    D = P0 + U*T - p\n",
    "    return np.sqrt((D**2).sum(axis=1))\n",
    "P0 = np.random.uniform(-10,10,(10,2))\n",
    "P1 = np.random.uniform(-10,10,(10,2))\n",
    "p = np.random.uniform(-10,10,(10,2))\n",
    "print(np.array([distance(P0,P1,p_i) for p_i in p]))"
   ]
  },
  {
   "cell_type": "markdown",
   "metadata": {},
   "source": [
    "#### 80. Consider an arbitrary array, write a function that extract a subpart with a fixed shape and centered on a given element (pad with a `fill` value when necessary) (★★★) \n",
    "(**hint**: minimum, maximum)"
   ]
  },
  {
   "cell_type": "code",
   "execution_count": null,
   "metadata": {},
   "outputs": [],
   "source": [
    "Z = np.random.randint(0,10,(10,10))\n",
    "shape = (5,5)\n",
    "fill = 0\n",
    "position = (1,1)\n",
    "\n",
    "R = np.ones(shape,dtype=Z.dtype)*fill\n",
    "P = np.array(list(position)).astype(int)\n",
    "Rs = np.array(list(R.shape)).astype(int)\n",
    "Zs = np.array(list(Z.shape)).astype(int)\n",
    "\n",
    "R_start = np.zeros((len(shape),)).astype(int)\n",
    "R_stop = np.array(list(shape)).astype(int)\n",
    "Z_start = (P-Rs//2)\n",
    "Z_stop = (P+Rs//2)+Rs%2\n",
    "\n",
    "R_start = (R_start - np.minimum(Z_start,0)).tolist()\n",
    "Z_start = (np.maximum(Z_start,0)).tolist()\n",
    "R_stop = np.maximum(R_start,(R_stop - np.maximum(Z_stop-Zs,0))).tolist()\n",
    "Z_stop = (np.minimum(Z_stop,Zs)).tolist()\n",
    "\n",
    "r = [slice(start,stop) for start,stop in zip(R_start,R_stop)]\n",
    "z = [slice(start,stop) for start,stop in zip(Z_start,Z_stop)]\n",
    "R[r] = Z[z]\n",
    "print(Z)\n",
    "print(R)"
   ]
  },
  {
   "cell_type": "markdown",
   "metadata": {},
   "source": [
    "#### 81. Consider an array Z = \\[1,2,3,4,5,6,7,8,9,10,11,12,13,14\\], how to generate an array R = \\[\\[1,2,3,4\\], \\[2,3,4,5\\], \\[3,4,5,6\\], ..., \\[11,12,13,14\\]\\]? (★★★) \n",
    "(**hint**: stride\\_tricks.as\\_strided)"
   ]
  },
  {
   "cell_type": "code",
   "execution_count": 83,
   "metadata": {},
   "outputs": [
    {
     "name": "stdout",
     "output_type": "stream",
     "text": [
      "[[ 1  2  3  4]\n",
      " [ 2  3  4  5]\n",
      " [ 3  4  5  6]\n",
      " [ 4  5  6  7]\n",
      " [ 5  6  7  8]\n",
      " [ 6  7  8  9]\n",
      " [ 7  8  9 10]\n",
      " [ 8  9 10 11]\n",
      " [ 9 10 11 12]\n",
      " [10 11 12 13]\n",
      " [11 12 13 14]]\n"
     ]
    }
   ],
   "source": [
    "Z = np.arange(1,15,dtype = uint32)\n",
    "R = stride_tricks.as_strided(Z,(11,4),(4,4))\n",
    "print(R)"
   ]
  },
  {
   "cell_type": "markdown",
   "metadata": {},
   "source": [
    "#### 82. Compute a matrix rank (★★★) \n",
    "(**hint**: np.linalg.svd) (suggestion: np.linalg.svd)"
   ]
  },
  {
   "cell_type": "code",
   "execution_count": 84,
   "metadata": {},
   "outputs": [
    {
     "name": "stdout",
     "output_type": "stream",
     "text": [
      "10\n"
     ]
    }
   ],
   "source": [
    "Z = np.random.uniform(0,1,(10,10))\n",
    "U,S,V = np.linalg.svd(Z)\n",
    "rank = np.sum(S > 1e-10)\n",
    "print(rank)"
   ]
  },
  {
   "cell_type": "markdown",
   "metadata": {},
   "source": [
    "#### 83. How to find the most frequent value in an array? \n",
    "(**hint**: np.bincount, argmax)"
   ]
  },
  {
   "cell_type": "code",
   "execution_count": 85,
   "metadata": {},
   "outputs": [
    {
     "name": "stdout",
     "output_type": "stream",
     "text": [
      "1\n"
     ]
    }
   ],
   "source": [
    "x = np.random.randint(0,10,20)\n",
    "print(np.bincount(x).argmax())"
   ]
  },
  {
   "cell_type": "markdown",
   "metadata": {},
   "source": [
    "#### 84. Extract all the contiguous 3x3 blocks from a random 10x10 matrix (★★★) \n",
    "(**hint**: stride\\_tricks.as\\_strided)"
   ]
  },
  {
   "cell_type": "code",
   "execution_count": 86,
   "metadata": {},
   "outputs": [
    {
     "name": "stdout",
     "output_type": "stream",
     "text": [
      "[[[[2 4 3]\n",
      "   [4 4 1]\n",
      "   [0 3 0]]\n",
      "\n",
      "  [[4 3 3]\n",
      "   [4 1 3]\n",
      "   [3 0 3]]\n",
      "\n",
      "  [[3 3 0]\n",
      "   [1 3 1]\n",
      "   [0 3 3]]\n",
      "\n",
      "  [[3 0 0]\n",
      "   [3 1 4]\n",
      "   [3 3 2]]\n",
      "\n",
      "  [[0 0 3]\n",
      "   [1 4 4]\n",
      "   [3 2 3]]\n",
      "\n",
      "  [[0 3 3]\n",
      "   [4 4 3]\n",
      "   [2 3 3]]\n",
      "\n",
      "  [[3 3 4]\n",
      "   [4 3 4]\n",
      "   [3 3 0]]\n",
      "\n",
      "  [[3 4 4]\n",
      "   [3 4 4]\n",
      "   [3 0 2]]]\n",
      "\n",
      "\n",
      " [[[4 4 1]\n",
      "   [0 3 0]\n",
      "   [3 3 2]]\n",
      "\n",
      "  [[4 1 3]\n",
      "   [3 0 3]\n",
      "   [3 2 2]]\n",
      "\n",
      "  [[1 3 1]\n",
      "   [0 3 3]\n",
      "   [2 2 3]]\n",
      "\n",
      "  [[3 1 4]\n",
      "   [3 3 2]\n",
      "   [2 3 1]]\n",
      "\n",
      "  [[1 4 4]\n",
      "   [3 2 3]\n",
      "   [3 1 2]]\n",
      "\n",
      "  [[4 4 3]\n",
      "   [2 3 3]\n",
      "   [1 2 3]]\n",
      "\n",
      "  [[4 3 4]\n",
      "   [3 3 0]\n",
      "   [2 3 3]]\n",
      "\n",
      "  [[3 4 4]\n",
      "   [3 0 2]\n",
      "   [3 3 0]]]\n",
      "\n",
      "\n",
      " [[[0 3 0]\n",
      "   [3 3 2]\n",
      "   [0 0 0]]\n",
      "\n",
      "  [[3 0 3]\n",
      "   [3 2 2]\n",
      "   [0 0 0]]\n",
      "\n",
      "  [[0 3 3]\n",
      "   [2 2 3]\n",
      "   [0 0 1]]\n",
      "\n",
      "  [[3 3 2]\n",
      "   [2 3 1]\n",
      "   [0 1 3]]\n",
      "\n",
      "  [[3 2 3]\n",
      "   [3 1 2]\n",
      "   [1 3 2]]\n",
      "\n",
      "  [[2 3 3]\n",
      "   [1 2 3]\n",
      "   [3 2 2]]\n",
      "\n",
      "  [[3 3 0]\n",
      "   [2 3 3]\n",
      "   [2 2 3]]\n",
      "\n",
      "  [[3 0 2]\n",
      "   [3 3 0]\n",
      "   [2 3 3]]]\n",
      "\n",
      "\n",
      " [[[3 3 2]\n",
      "   [0 0 0]\n",
      "   [4 0 0]]\n",
      "\n",
      "  [[3 2 2]\n",
      "   [0 0 0]\n",
      "   [0 0 0]]\n",
      "\n",
      "  [[2 2 3]\n",
      "   [0 0 1]\n",
      "   [0 0 4]]\n",
      "\n",
      "  [[2 3 1]\n",
      "   [0 1 3]\n",
      "   [0 4 4]]\n",
      "\n",
      "  [[3 1 2]\n",
      "   [1 3 2]\n",
      "   [4 4 0]]\n",
      "\n",
      "  [[1 2 3]\n",
      "   [3 2 2]\n",
      "   [4 0 4]]\n",
      "\n",
      "  [[2 3 3]\n",
      "   [2 2 3]\n",
      "   [0 4 2]]\n",
      "\n",
      "  [[3 3 0]\n",
      "   [2 3 3]\n",
      "   [4 2 3]]]\n",
      "\n",
      "\n",
      " [[[0 0 0]\n",
      "   [4 0 0]\n",
      "   [0 0 4]]\n",
      "\n",
      "  [[0 0 0]\n",
      "   [0 0 0]\n",
      "   [0 4 0]]\n",
      "\n",
      "  [[0 0 1]\n",
      "   [0 0 4]\n",
      "   [4 0 0]]\n",
      "\n",
      "  [[0 1 3]\n",
      "   [0 4 4]\n",
      "   [0 0 3]]\n",
      "\n",
      "  [[1 3 2]\n",
      "   [4 4 0]\n",
      "   [0 3 0]]\n",
      "\n",
      "  [[3 2 2]\n",
      "   [4 0 4]\n",
      "   [3 0 1]]\n",
      "\n",
      "  [[2 2 3]\n",
      "   [0 4 2]\n",
      "   [0 1 1]]\n",
      "\n",
      "  [[2 3 3]\n",
      "   [4 2 3]\n",
      "   [1 1 4]]]\n",
      "\n",
      "\n",
      " [[[4 0 0]\n",
      "   [0 0 4]\n",
      "   [4 0 2]]\n",
      "\n",
      "  [[0 0 0]\n",
      "   [0 4 0]\n",
      "   [0 2 2]]\n",
      "\n",
      "  [[0 0 4]\n",
      "   [4 0 0]\n",
      "   [2 2 4]]\n",
      "\n",
      "  [[0 4 4]\n",
      "   [0 0 3]\n",
      "   [2 4 0]]\n",
      "\n",
      "  [[4 4 0]\n",
      "   [0 3 0]\n",
      "   [4 0 1]]\n",
      "\n",
      "  [[4 0 4]\n",
      "   [3 0 1]\n",
      "   [0 1 3]]\n",
      "\n",
      "  [[0 4 2]\n",
      "   [0 1 1]\n",
      "   [1 3 1]]\n",
      "\n",
      "  [[4 2 3]\n",
      "   [1 1 4]\n",
      "   [3 1 3]]]\n",
      "\n",
      "\n",
      " [[[0 0 4]\n",
      "   [4 0 2]\n",
      "   [0 0 1]]\n",
      "\n",
      "  [[0 4 0]\n",
      "   [0 2 2]\n",
      "   [0 1 4]]\n",
      "\n",
      "  [[4 0 0]\n",
      "   [2 2 4]\n",
      "   [1 4 2]]\n",
      "\n",
      "  [[0 0 3]\n",
      "   [2 4 0]\n",
      "   [4 2 2]]\n",
      "\n",
      "  [[0 3 0]\n",
      "   [4 0 1]\n",
      "   [2 2 4]]\n",
      "\n",
      "  [[3 0 1]\n",
      "   [0 1 3]\n",
      "   [2 4 1]]\n",
      "\n",
      "  [[0 1 1]\n",
      "   [1 3 1]\n",
      "   [4 1 3]]\n",
      "\n",
      "  [[1 1 4]\n",
      "   [3 1 3]\n",
      "   [1 3 0]]]\n",
      "\n",
      "\n",
      " [[[4 0 2]\n",
      "   [0 0 1]\n",
      "   [1 2 1]]\n",
      "\n",
      "  [[0 2 2]\n",
      "   [0 1 4]\n",
      "   [2 1 4]]\n",
      "\n",
      "  [[2 2 4]\n",
      "   [1 4 2]\n",
      "   [1 4 0]]\n",
      "\n",
      "  [[2 4 0]\n",
      "   [4 2 2]\n",
      "   [4 0 2]]\n",
      "\n",
      "  [[4 0 1]\n",
      "   [2 2 4]\n",
      "   [0 2 4]]\n",
      "\n",
      "  [[0 1 3]\n",
      "   [2 4 1]\n",
      "   [2 4 1]]\n",
      "\n",
      "  [[1 3 1]\n",
      "   [4 1 3]\n",
      "   [4 1 2]]\n",
      "\n",
      "  [[3 1 3]\n",
      "   [1 3 0]\n",
      "   [1 2 3]]]]\n"
     ]
    }
   ],
   "source": [
    "Z = np.random.randint(0,5,(10,10))\n",
    "n = 3\n",
    "i = 1 + (Z.shape[0]-3)\n",
    "j = 1 + (Z.shape[1]-3)\n",
    "C = stride_tricks.as_strided(Z,shape=(i,j,n,n), strides=Z.strides+Z.strides)\n",
    "print(C)"
   ]
  },
  {
   "cell_type": "markdown",
   "metadata": {},
   "source": [
    "#### 85. Create a 2D array subclass such that Z\\[i,j\\] == Z\\[j,i\\] (★★★) \n",
    "(**hint**: class method)"
   ]
  },
  {
   "cell_type": "code",
   "execution_count": 87,
   "metadata": {},
   "outputs": [
    {
     "name": "stdout",
     "output_type": "stream",
     "text": [
      "[[ 3  8  7 13  7]\n",
      " [ 8  0 12  6  3]\n",
      " [ 7 12  7 42 15]\n",
      " [13  6 42  9  8]\n",
      " [ 7  3 15  8  2]]\n"
     ]
    }
   ],
   "source": [
    "class Symetric(np.ndarray):\n",
    "    def __setitem__(self,index,value):\n",
    "        i,j = index\n",
    "        super(Symetric,self).__setitem__((i,j),value)\n",
    "        super(Symetric,self).__setitem__((j,i),value)\n",
    "        \n",
    "def symetric(Z):\n",
    "    return np.asarray(Z + Z.T - np.diag(Z.diagonal())).view(Symetric)\n",
    "S = symetric(np.random.randint(0,10,(5,5)))\n",
    "S[2,3] = 42\n",
    "print(S)"
   ]
  },
  {
   "cell_type": "markdown",
   "metadata": {},
   "source": [
    "#### 86. Consider a set of p matrices wich shape (n,n) and a set of p vectors with shape (n,1). How to compute the sum of of the p matrix products at once? (result has shape (n,1)) (★★★) \n",
    "(**hint**: np.tensordot)"
   ]
  },
  {
   "cell_type": "code",
   "execution_count": 88,
   "metadata": {},
   "outputs": [
    {
     "name": "stdout",
     "output_type": "stream",
     "text": [
      "[[200.]\n",
      " [200.]\n",
      " [200.]\n",
      " [200.]\n",
      " [200.]\n",
      " [200.]\n",
      " [200.]\n",
      " [200.]\n",
      " [200.]\n",
      " [200.]\n",
      " [200.]\n",
      " [200.]\n",
      " [200.]\n",
      " [200.]\n",
      " [200.]\n",
      " [200.]\n",
      " [200.]\n",
      " [200.]\n",
      " [200.]\n",
      " [200.]]\n"
     ]
    }
   ],
   "source": [
    "p,n = 10,20\n",
    "M = np.ones((p,n,n))\n",
    "V = np.ones((p,n,1))\n",
    "S = np.tensordot(M,V, axes=[[0,2] , [0,1]])\n",
    "print(S)"
   ]
  },
  {
   "cell_type": "markdown",
   "metadata": {},
   "source": [
    "#### 87. Consider a 16x16 array, how to get the block-sum (block size is 4x4)? (★★★) \n",
    "(**hint**: np.add.reduceat)"
   ]
  },
  {
   "cell_type": "code",
   "execution_count": 89,
   "metadata": {},
   "outputs": [
    {
     "name": "stdout",
     "output_type": "stream",
     "text": [
      "[[16. 16. 16. 16.]\n",
      " [16. 16. 16. 16.]\n",
      " [16. 16. 16. 16.]\n",
      " [16. 16. 16. 16.]]\n"
     ]
    }
   ],
   "source": [
    "Z = np.ones((16,16))\n",
    "k = 4\n",
    "S = np.add.reduceat(np.add.reduceat(Z,np.arange(0,Z.shape[0],k), axis=0),np.arange(0,Z.shape[1],k),axis=1)\n",
    "print(S)"
   ]
  },
  {
   "cell_type": "markdown",
   "metadata": {},
   "source": [
    "#### 88. How to implement the Game of Life using numpy arrays? (★★★)"
   ]
  },
  {
   "cell_type": "markdown",
   "metadata": {},
   "source": [
    "#### 89. How to get the n largest values of an array (★★★) \n",
    "(**hint**: np.argsort | np.argpartition)"
   ]
  },
  {
   "cell_type": "code",
   "execution_count": null,
   "metadata": {},
   "outputs": [],
   "source": [
    "def iterate(Z):\n",
    "    N = (Z[0:-2,0:-2] + Z[0:-2,1:-1] + Z[0:-2,2:] + \n",
    "         Z[1:-1,0:-2]                + Z[1:-1,2:] + \n",
    "         Z[2:  ,0:-2] + Z[2:  ,1:-1] + Z[2:  ,2:])\n",
    "    \n",
    "    birth = (N==3) & (Z[1:-1,1:-1]==0)\n",
    "    survive = ((N==2) | (N==3)) & (Z[1:-1,1:-1]==1)\n",
    "    z[...] = 0\n",
    "    z[1:-1,1:-1][birth | survive] = 1\n",
    "    return Z\n",
    "Z = np.random.randint(0,2,(50,50))\n",
    "for i in range(100): Z = iterate(Z)\n",
    "print(Z)"
   ]
  },
  {
   "cell_type": "code",
   "execution_count": 91,
   "metadata": {},
   "outputs": [
    {
     "name": "stdout",
     "output_type": "stream",
     "text": [
      "[995 996 997 998 999]\n",
      "[999 997 998 996 995]\n"
     ]
    }
   ],
   "source": [
    "X = np.arange(1000)\n",
    "np.random.shuffle(X)\n",
    "n = 5\n",
    "print(X[np.argsort(X)[-n:]])\n",
    "print(X[np.argpartition(-X,n)[:n]])"
   ]
  },
  {
   "cell_type": "markdown",
   "metadata": {},
   "source": [
    "#### 90. Given an arbitrary number of vectors, build the cartesian product (every combinations of every item) (★★★) \n",
    "(**hint**: np.indices)"
   ]
  },
  {
   "cell_type": "code",
   "execution_count": 92,
   "metadata": {
    "scrolled": true
   },
   "outputs": [
    {
     "name": "stdout",
     "output_type": "stream",
     "text": [
      "[[1 4 6]\n",
      " [1 4 7]\n",
      " [1 5 6]\n",
      " [1 5 7]\n",
      " [2 4 6]\n",
      " [2 4 7]\n",
      " [2 5 6]\n",
      " [2 5 7]\n",
      " [3 4 6]\n",
      " [3 4 7]\n",
      " [3 5 6]\n",
      " [3 5 7]]\n"
     ]
    }
   ],
   "source": [
    "def cartesian(arrays):\n",
    "    arrays = [np.asarray(a) for a in arrays]\n",
    "    shape = (len(x) for x in arrays)\n",
    "    \n",
    "    ix = np.indices(shape,dtype=int)\n",
    "    ix = ix.reshape(len(arrays), -1).T\n",
    "    \n",
    "    for n,arr in enumerate(arrays):\n",
    "        ix[:,n] = arrays[n][ix[:,n]]\n",
    "    return ix\n",
    "\n",
    "print(cartesian(([1,2,3],[4,5],[6,7])))"
   ]
  },
  {
   "cell_type": "markdown",
   "metadata": {},
   "source": [
    "#### 91. How to create a record array from a regular array? (★★★) \n",
    "(**hint**: np.core.records.fromarrays)"
   ]
  },
  {
   "cell_type": "code",
   "execution_count": 93,
   "metadata": {},
   "outputs": [
    {
     "name": "stdout",
     "output_type": "stream",
     "text": [
      "[(b'Hello', 3.5, 4) (b'World', 3.6, 2)]\n"
     ]
    }
   ],
   "source": [
    "Z = np.array([(\"Hello\",3.5,4),(\"World\",3.6,2)])\n",
    "R = np.core.records.fromarrays(Z.T,names='col1,col2,col3', formats = 'S8,f8,i8')\n",
    "print(R)"
   ]
  },
  {
   "cell_type": "markdown",
   "metadata": {},
   "source": [
    "#### 92. Consider a large vector Z, compute Z to the power of 3 using 3 different methods (★★★) \n",
    "(**hint**: np.power, \\*, np.einsum)"
   ]
  },
  {
   "cell_type": "code",
   "execution_count": 94,
   "metadata": {
    "scrolled": false
   },
   "outputs": [
    {
     "ename": "TypeError",
     "evalue": "'float' object cannot be interpreted as an integer",
     "output_type": "error",
     "traceback": [
      "\u001b[1;31m---------------------------------------------------------------------------\u001b[0m",
      "\u001b[1;31mTypeError\u001b[0m                                 Traceback (most recent call last)",
      "\u001b[1;32m<ipython-input-94-c0f58d10c95a>\u001b[0m in \u001b[0;36m<module>\u001b[1;34m\u001b[0m\n\u001b[1;32m----> 1\u001b[1;33m \u001b[0mx\u001b[0m \u001b[1;33m=\u001b[0m \u001b[0mnp\u001b[0m\u001b[1;33m.\u001b[0m\u001b[0mrandom\u001b[0m\u001b[1;33m.\u001b[0m\u001b[0mrand\u001b[0m\u001b[1;33m(\u001b[0m\u001b[1;36m5e7\u001b[0m\u001b[1;33m)\u001b[0m\u001b[1;33m\u001b[0m\u001b[1;33m\u001b[0m\u001b[0m\n\u001b[0m\u001b[0;32m      2\u001b[0m \u001b[0mget_ipython\u001b[0m\u001b[1;33m(\u001b[0m\u001b[1;33m)\u001b[0m\u001b[1;33m.\u001b[0m\u001b[0mrun_line_magic\u001b[0m\u001b[1;33m(\u001b[0m\u001b[1;34m'timeit'\u001b[0m\u001b[1;33m,\u001b[0m \u001b[1;34m'np.power(x,3)'\u001b[0m\u001b[1;33m)\u001b[0m\u001b[1;33m\u001b[0m\u001b[1;33m\u001b[0m\u001b[0m\n\u001b[0;32m      3\u001b[0m \u001b[0mget_ipython\u001b[0m\u001b[1;33m(\u001b[0m\u001b[1;33m)\u001b[0m\u001b[1;33m.\u001b[0m\u001b[0mrun_line_magic\u001b[0m\u001b[1;33m(\u001b[0m\u001b[1;34m'timeit'\u001b[0m\u001b[1;33m,\u001b[0m \u001b[1;34m'x*x*x'\u001b[0m\u001b[1;33m)\u001b[0m\u001b[1;33m\u001b[0m\u001b[1;33m\u001b[0m\u001b[0m\n\u001b[0;32m      4\u001b[0m \u001b[0mget_ipython\u001b[0m\u001b[1;33m(\u001b[0m\u001b[1;33m)\u001b[0m\u001b[1;33m.\u001b[0m\u001b[0mrun_line_magic\u001b[0m\u001b[1;33m(\u001b[0m\u001b[1;34m'timeit'\u001b[0m\u001b[1;33m,\u001b[0m \u001b[1;34m\"np.einsum('i,i,i->i',x,x,x)\"\u001b[0m\u001b[1;33m)\u001b[0m\u001b[1;33m\u001b[0m\u001b[1;33m\u001b[0m\u001b[0m\n",
      "\u001b[1;32mmtrand.pyx\u001b[0m in \u001b[0;36mnumpy.random.mtrand.RandomState.rand\u001b[1;34m()\u001b[0m\n",
      "\u001b[1;32mmtrand.pyx\u001b[0m in \u001b[0;36mnumpy.random.mtrand.RandomState.random_sample\u001b[1;34m()\u001b[0m\n",
      "\u001b[1;32m_common.pyx\u001b[0m in \u001b[0;36mnumpy.random._common.double_fill\u001b[1;34m()\u001b[0m\n",
      "\u001b[1;31mTypeError\u001b[0m: 'float' object cannot be interpreted as an integer"
     ]
    }
   ],
   "source": [
    "x = np.random.rand(5e7)\n",
    "%timeit np.power(x,3)\n",
    "%timeit x*x*x\n",
    "%timeit np.einsum('i,i,i->i',x,x,x)"
   ]
  },
  {
   "cell_type": "markdown",
   "metadata": {},
   "source": [
    "#### 93. Consider two arrays A and B of shape (8,3) and (2,2). How to find rows of A that contain elements of each row of B regardless of the order of the elements in B? (★★★) \n",
    "(**hint**: np.where)"
   ]
  },
  {
   "cell_type": "code",
   "execution_count": 95,
   "metadata": {},
   "outputs": [
    {
     "name": "stdout",
     "output_type": "stream",
     "text": [
      "[5]\n"
     ]
    }
   ],
   "source": [
    "A = np.random.randint(0,5,(8,3))\n",
    "B = np.random.randint(0,5,(2,2))\n",
    "C = (A[...,np.newaxis,np.newaxis] == B)\n",
    "rows = np.where(C.any((3,1)).all(1))[0]\n",
    "print(rows)"
   ]
  },
  {
   "cell_type": "markdown",
   "metadata": {},
   "source": [
    "#### 94. Considering a 10x3 matrix, extract rows with unequal values (e.g. \\[2,2,3\\]) (★★★)"
   ]
  },
  {
   "cell_type": "code",
   "execution_count": 96,
   "metadata": {},
   "outputs": [
    {
     "name": "stdout",
     "output_type": "stream",
     "text": [
      "[[0 2 0]\n",
      " [3 0 2]\n",
      " [2 4 1]\n",
      " [2 0 0]\n",
      " [3 1 4]\n",
      " [1 1 0]\n",
      " [1 3 1]\n",
      " [4 3 3]\n",
      " [2 3 1]\n",
      " [3 2 3]]\n",
      "[[0 2 0]\n",
      " [3 0 2]\n",
      " [2 4 1]\n",
      " [2 0 0]\n",
      " [3 1 4]\n",
      " [1 1 0]\n",
      " [1 3 1]\n",
      " [4 3 3]\n",
      " [2 3 1]\n",
      " [3 2 3]]\n",
      "[[0 2 0]\n",
      " [3 0 2]\n",
      " [2 4 1]\n",
      " [2 0 0]\n",
      " [3 1 4]\n",
      " [1 1 0]\n",
      " [1 3 1]\n",
      " [4 3 3]\n",
      " [2 3 1]\n",
      " [3 2 3]]\n"
     ]
    }
   ],
   "source": [
    "Z = np.random.randint(0,5,(10,3))\n",
    "print(Z)\n",
    "E = np.all(Z[:,1:] == Z[:,:-1] , axis=1)\n",
    "U = Z[~E]\n",
    "print(U)\n",
    "U = Z[Z.max(axis=1) != Z.min(axis=1),:]\n",
    "print(U)"
   ]
  },
  {
   "cell_type": "markdown",
   "metadata": {},
   "source": [
    "#### 95. Convert a vector of ints into a matrix binary representation (★★★) \n",
    "(**hint**: np.unpackbits)"
   ]
  },
  {
   "cell_type": "code",
   "execution_count": 97,
   "metadata": {},
   "outputs": [
    {
     "name": "stdout",
     "output_type": "stream",
     "text": [
      "[[0 0 0 0 0 0 0 0]\n",
      " [0 0 0 0 0 0 0 1]\n",
      " [0 0 0 0 0 0 1 0]\n",
      " [0 0 0 0 0 0 1 1]\n",
      " [0 0 0 0 1 1 1 1]\n",
      " [0 0 0 1 0 0 0 0]\n",
      " [0 0 1 0 0 0 0 0]\n",
      " [0 1 0 0 0 0 0 0]\n",
      " [1 0 0 0 0 0 0 0]]\n"
     ]
    }
   ],
   "source": [
    "I = np.array([0,1,2,3,15,16,32,64,128],dtype=np.uint8)\n",
    "print(np.unpackbits(I[:, np.newaxis], axis=1))"
   ]
  },
  {
   "cell_type": "markdown",
   "metadata": {},
   "source": [
    "#### 96. Given a two dimensional array, how to extract unique rows? (★★★) \n",
    "(**hint**: np.ascontiguousarray)"
   ]
  },
  {
   "cell_type": "code",
   "execution_count": 98,
   "metadata": {},
   "outputs": [
    {
     "name": "stdout",
     "output_type": "stream",
     "text": [
      "[[0 0 0]\n",
      " [0 0 1]\n",
      " [0 1 1]\n",
      " [1 0 0]\n",
      " [1 0 1]\n",
      " [1 1 1]]\n"
     ]
    }
   ],
   "source": [
    "X = np.random.randint(0,2,(6,3))\n",
    "Y = np.ascontiguousarray(X).view(np.dtype((np.void, X.dtype.itemsize * X.shape[1])))\n",
    "_, idx = np.unique(Y,return_index=True)\n",
    "uX = X[idx]\n",
    "print(uX)"
   ]
  },
  {
   "cell_type": "markdown",
   "metadata": {},
   "source": [
    "#### 97. Considering 2 vectors A & B, write the einsum equivalent of inner, outer, sum, and mul function (★★★) \n",
    "(**hint**: np.einsum)"
   ]
  },
  {
   "cell_type": "code",
   "execution_count": 99,
   "metadata": {},
   "outputs": [
    {
     "data": {
      "text/plain": [
       "array([[0.01153147, 0.26218482, 0.56545719, 0.60340584, 0.50867205,\n",
       "        0.28526614, 0.38617107, 0.27051181, 0.5999154 , 0.11938749],\n",
       "       [0.01469169, 0.33403705, 0.72042175, 0.7687703 , 0.64807454,\n",
       "        0.36344384, 0.49200195, 0.34464606, 0.76432329, 0.15210585],\n",
       "       [0.00637309, 0.14490164, 0.31251112, 0.3334842 , 0.28112769,\n",
       "        0.15765799, 0.2134251 , 0.14950371, 0.33155514, 0.06598187],\n",
       "       [0.01508304, 0.34293501, 0.73961209, 0.78924852, 0.66533772,\n",
       "        0.37312513, 0.50510773, 0.35382662, 0.78468307, 0.15615759],\n",
       "       [0.00254397, 0.05784087, 0.1247461 , 0.13311799, 0.11221867,\n",
       "        0.06293286, 0.0851936 , 0.05967789, 0.13234796, 0.0263382 ],\n",
       "       [0.01626194, 0.36973916, 0.79742094, 0.85093701, 0.71734121,\n",
       "        0.40228898, 0.54458747, 0.38148207, 0.84601471, 0.16836303],\n",
       "       [0.00968672, 0.2202417 , 0.47499795, 0.50687575, 0.42729704,\n",
       "        0.23963058, 0.32439321, 0.22723658, 0.5039437 , 0.10028843],\n",
       "       [0.00269487, 0.06127183, 0.1321457 , 0.14101419, 0.11887518,\n",
       "        0.06666587, 0.09024705, 0.06321782, 0.14019848, 0.02790051],\n",
       "       [0.01017308, 0.23129995, 0.4988474 , 0.53232577, 0.44875145,\n",
       "        0.25166233, 0.34068085, 0.23864603, 0.5292465 , 0.10532387],\n",
       "       [0.01583156, 0.35995383, 0.77631678, 0.82841652, 0.6983564 ,\n",
       "        0.39164219, 0.53017468, 0.37138595, 0.82362449, 0.16390722]])"
      ]
     },
     "execution_count": 99,
     "metadata": {},
     "output_type": "execute_result"
    }
   ],
   "source": [
    "A = np.random.uniform(0,1,10)\n",
    "B = np.random.uniform(0,1,10)\n",
    "np.einsum('i->', A)\n",
    "np.einsum('i,i->', A,B)\n",
    "np.einsum('i,i', A,B)\n",
    "np.einsum('i,j->ij', A,B)"
   ]
  },
  {
   "cell_type": "markdown",
   "metadata": {},
   "source": [
    "#### 98. Considering a path described by two vectors (X,Y), how to sample it using equidistant samples (★★★)? \n",
    "(**hint**: np.cumsum, np.interp)"
   ]
  },
  {
   "cell_type": "code",
   "execution_count": 100,
   "metadata": {},
   "outputs": [],
   "source": [
    "phi = np.arange(0,10*np.pi,0.1)\n",
    "a = 1\n",
    "x = a*phi*np.cos(phi)\n",
    "y = a*phi*np.sin(phi)\n",
    "\n",
    "dr = (np.diff(x)**2 + np.diff(y)**2)**.5\n",
    "r = np.zeros_like(x)\n",
    "r[1:] = np.cumsum(dr)\n",
    "r_int = np.linspace(0,r.max(),200)\n",
    "x_int = np.interp(r_int,r,x)\n",
    "y_int = np.interp(r_int,r,y)"
   ]
  },
  {
   "cell_type": "markdown",
   "metadata": {},
   "source": [
    "#### 99. Given an integer n and a 2D array X, select from X the rows which can be interpreted as draws from a multinomial distribution with n degrees, i.e., the rows which only contain integers and which sum to n. (★★★) \n",
    "(**hint**: np.logical\\_and.reduce, np.mod)"
   ]
  },
  {
   "cell_type": "code",
   "execution_count": 101,
   "metadata": {},
   "outputs": [
    {
     "name": "stdout",
     "output_type": "stream",
     "text": [
      "[[2. 0. 1. 1.]]\n"
     ]
    }
   ],
   "source": [
    "X = np.asarray([[1.0,0.0,3.0,8.0],[2.0,0.0,1.0,1.0],[1.5,2.5,1.0,0.0]])\n",
    "n = 4\n",
    "M = np.logical_and.reduce(np.mod(X,1) == 0,axis=-1)\n",
    "M &= (X.sum(axis=1) == n)\n",
    "print(X[M])"
   ]
  },
  {
   "cell_type": "markdown",
   "metadata": {},
   "source": [
    "#### 100. Compute bootstrapped 95% confidence intervals for the mean of a 1D array X (i.e., resample the elements of an array with replacement N times, compute the mean of each sample, and then compute percentiles over the means). (★★★) \n",
    "(**hint**: np.percentile)"
   ]
  },
  {
   "cell_type": "code",
   "execution_count": 102,
   "metadata": {},
   "outputs": [
    {
     "name": "stdout",
     "output_type": "stream",
     "text": [
      "[-0.38672961  0.02763955]\n"
     ]
    }
   ],
   "source": [
    "X = np.random.randn(100)\n",
    "N = 1000\n",
    "idx = np.random.randint(0,X.size,(N,X.size))\n",
    "means = X[idx].mean(axis=1)\n",
    "confint = np.percentile(means,[2.5,97.5])\n",
    "print(confint)"
   ]
  }
 ],
 "metadata": {
  "kernelspec": {
   "display_name": "Python 3",
   "language": "python",
   "name": "python3"
  },
  "language_info": {
   "codemirror_mode": {
    "name": "ipython",
    "version": 3
   },
   "file_extension": ".py",
   "mimetype": "text/x-python",
   "name": "python",
   "nbconvert_exporter": "python",
   "pygments_lexer": "ipython3",
   "version": "3.8.5"
  }
 },
 "nbformat": 4,
 "nbformat_minor": 1
}
